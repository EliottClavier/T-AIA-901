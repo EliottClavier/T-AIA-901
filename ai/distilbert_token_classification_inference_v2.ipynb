{
 "cells": [
  {
   "cell_type": "raw",
   "source": [],
   "metadata": {
    "collapsed": false
   },
   "id": "9eb9ac1bc5a11957"
  },
  {
   "cell_type": "code",
   "execution_count": 1,
   "outputs": [],
   "source": [
    "task = \"ner\" # Should be one of \"ner\", \"pos\" or \"chunk\"\n",
    "model_checkpoint = \"distilbert-base-uncased\""
   ],
   "metadata": {
    "collapsed": false,
    "ExecuteTime": {
     "end_time": "2023-12-29T15:58:24.953186200Z",
     "start_time": "2023-12-29T15:58:24.949799700Z"
    }
   },
   "id": "c3e967c6fbc9d66"
  },
  {
   "cell_type": "code",
   "execution_count": 2,
   "id": "initial_id",
   "metadata": {
    "collapsed": true,
    "ExecuteTime": {
     "end_time": "2023-12-29T15:58:24.961449100Z",
     "start_time": "2023-12-29T15:58:24.955444200Z"
    }
   },
   "outputs": [],
   "source": [
    "def gather_outputs(outputs: list) -> list:\n",
    "    # Group entities by their sequence\n",
    "    grouped_entities = []\n",
    "    current_group = []\n",
    "    for entity in outputs:\n",
    "        if not current_group or entity['start'] == current_group[-1]['end']:\n",
    "            current_group.append(entity)\n",
    "        else:\n",
    "            grouped_entities.append(current_group)\n",
    "            current_group = [entity]\n",
    "\n",
    "    # Append the last group\n",
    "    if current_group:\n",
    "        grouped_entities.append(current_group)\n",
    "\n",
    "    return grouped_entities\n",
    "\n",
    "def transform_sentence_from_outputs(sentence: str, outputs: list) -> list:\n",
    "    groups = gather_outputs(outputs)\n",
    "    locations = [{\"label\": group[0][\"entity_group\"], \"city\": sentence[\"text\"][group[0][\"start\"]:group[-1][\"end\"]] } for group in groups]\n",
    "    sentence = {\n",
    "        \"id\": str(sentence[\"id\"]),\n",
    "        \"locations\": locations\n",
    "    }\n",
    "\n",
    "    sentence[\"locations\"] = sorted(sentence[\"locations\"], key=lambda group: group[\"label\"], reverse=True)\n",
    "    return sentence\n",
    "\n",
    "def format_sentence_output(sentence_output: list) -> str:\n",
    "    return f\"{sentence_output['id']},{','.join([location['city'] for location in sentence_output['locations']])}\""
   ]
  },
  {
   "cell_type": "code",
   "execution_count": 3,
   "outputs": [
    {
     "data": {
      "text/plain": "model.safetensors:   0%|          | 0.00/265M [00:00<?, ?B/s]",
      "application/vnd.jupyter.widget-view+json": {
       "version_major": 2,
       "version_minor": 0,
       "model_id": "a81b52cd74a2455894d6a0abe687d5da"
      }
     },
     "metadata": {},
     "output_type": "display_data"
    },
    {
     "data": {
      "text/plain": "tokenizer_config.json:   0%|          | 0.00/1.20k [00:00<?, ?B/s]",
      "application/vnd.jupyter.widget-view+json": {
       "version_major": 2,
       "version_minor": 0,
       "model_id": "0ebb897e2786453dbe501bffebf78210"
      }
     },
     "metadata": {},
     "output_type": "display_data"
    },
    {
     "data": {
      "text/plain": "vocab.txt:   0%|          | 0.00/232k [00:00<?, ?B/s]",
      "application/vnd.jupyter.widget-view+json": {
       "version_major": 2,
       "version_minor": 0,
       "model_id": "4d81d0771a554c239085bcc9ae53d7a0"
      }
     },
     "metadata": {},
     "output_type": "display_data"
    },
    {
     "data": {
      "text/plain": "tokenizer.json:   0%|          | 0.00/711k [00:00<?, ?B/s]",
      "application/vnd.jupyter.widget-view+json": {
       "version_major": 2,
       "version_minor": 0,
       "model_id": "341a983f157243c88b9351c850653a11"
      }
     },
     "metadata": {},
     "output_type": "display_data"
    },
    {
     "data": {
      "text/plain": "special_tokens_map.json:   0%|          | 0.00/125 [00:00<?, ?B/s]",
      "application/vnd.jupyter.widget-view+json": {
       "version_major": 2,
       "version_minor": 0,
       "model_id": "6143dc22db2a438d8b59af1be50c5aa4"
      }
     },
     "metadata": {},
     "output_type": "display_data"
    },
    {
     "name": "stdout",
     "output_type": "stream",
     "text": [
      "1,Port-Boulet,Le Havre\n",
      "2,'Épierre,Paris\n",
      "3,Margny-Lès-Compiègne,Saarbrücken,/Sarrebruck\n"
     ]
    }
   ],
   "source": [
    "from transformers import pipeline\n",
    "sentences = [\n",
    "    {\"id\": 1, \"text\": \"Je veux aller de Port-Boulet à Le Havre.\"},\n",
    "    {\"id\": 2, \"text\": \"Peux-tu m'aider à trouver mon chemin vers Paris en partant d'Épierre ?\"},\n",
    "    {\"id\": 3, \"text\": \"Je cherche un moyen d'aller de Margny-Lès-Compiègne à Saarbrücken /Sarrebruck.\"}\n",
    "]\n",
    "\n",
    "for sentence in sentences:\n",
    "    token_classifier = pipeline(\"token-classification\", model=\"EliottClavier/distilbert-finetuned-token-classification-ner-trip\", aggregation_strategy=\"simple\")\n",
    "    outputs = token_classifier(sentence[\"text\"])\n",
    "    print(format_sentence_output(transform_sentence_from_outputs(sentence, outputs)))"
   ],
   "metadata": {
    "collapsed": false,
    "ExecuteTime": {
     "end_time": "2023-12-29T15:58:56.170541600Z",
     "start_time": "2023-12-29T15:58:24.957448300Z"
    }
   },
   "id": "5e9b6d7775c712e3"
  }
 ],
 "metadata": {
  "kernelspec": {
   "display_name": "Python 3",
   "language": "python",
   "name": "python3"
  },
  "language_info": {
   "codemirror_mode": {
    "name": "ipython",
    "version": 2
   },
   "file_extension": ".py",
   "mimetype": "text/x-python",
   "name": "python",
   "nbconvert_exporter": "python",
   "pygments_lexer": "ipython2",
   "version": "2.7.6"
  }
 },
 "nbformat": 4,
 "nbformat_minor": 5
}
