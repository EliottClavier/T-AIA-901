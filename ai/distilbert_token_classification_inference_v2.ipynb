{
 "cells": [
  {
   "cell_type": "raw",
   "source": [],
   "metadata": {
    "collapsed": false
   },
   "id": "9eb9ac1bc5a11957"
  },
  {
   "cell_type": "code",
   "execution_count": 1,
   "outputs": [],
   "source": [
    "task = \"ner\" # Should be one of \"ner\", \"pos\" or \"chunk\"\n",
    "model_checkpoint = \"distilbert-base-uncased\""
   ],
   "metadata": {
    "collapsed": false,
    "ExecuteTime": {
     "end_time": "2023-12-29T15:54:06.519810300Z",
     "start_time": "2023-12-29T15:54:06.514993400Z"
    }
   },
   "id": "c3e967c6fbc9d66"
  },
  {
   "cell_type": "code",
   "execution_count": 2,
   "outputs": [],
   "source": [
    "from transformers import AutoTokenizer\n",
    "\n",
    "tokenizer = AutoTokenizer.from_pretrained(model_checkpoint)"
   ],
   "metadata": {
    "collapsed": false,
    "ExecuteTime": {
     "end_time": "2023-12-29T15:54:08.632549600Z",
     "start_time": "2023-12-29T15:54:06.518810600Z"
    }
   },
   "id": "3251956b3af18691"
  },
  {
   "cell_type": "code",
   "execution_count": 3,
   "outputs": [],
   "source": [
    "import transformers\n",
    "assert isinstance(tokenizer, transformers.PreTrainedTokenizerFast)"
   ],
   "metadata": {
    "collapsed": false,
    "ExecuteTime": {
     "end_time": "2023-12-29T15:54:08.637106300Z",
     "start_time": "2023-12-29T15:54:08.634079400Z"
    }
   },
   "id": "8794c736a502ef42"
  },
  {
   "cell_type": "code",
   "execution_count": 4,
   "id": "initial_id",
   "metadata": {
    "collapsed": true,
    "ExecuteTime": {
     "end_time": "2023-12-29T15:54:08.641999600Z",
     "start_time": "2023-12-29T15:54:08.637106300Z"
    }
   },
   "outputs": [],
   "source": [
    "def gather_outputs(outputs: list) -> list:\n",
    "    # Group entities by their sequence\n",
    "    grouped_entities = []\n",
    "    current_group = []\n",
    "    for entity in outputs:\n",
    "        if not current_group or entity['start'] == current_group[-1]['end']:\n",
    "            current_group.append(entity)\n",
    "        else:\n",
    "            grouped_entities.append(current_group)\n",
    "            current_group = [entity]\n",
    "\n",
    "    # Append the last group\n",
    "    if current_group:\n",
    "        grouped_entities.append(current_group)\n",
    "\n",
    "    return grouped_entities\n",
    "\n",
    "def transform_sentence_from_outputs(sentence: str, outputs: list) -> list:\n",
    "    groups = gather_outputs(outputs)\n",
    "    locations = [{\"label\": group[0][\"entity_group\"], \"city\": sentence[\"text\"][group[0][\"start\"]:group[-1][\"end\"]] } for group in groups]\n",
    "    sentence = {\n",
    "        \"id\": str(sentence[\"id\"]),\n",
    "        \"locations\": locations\n",
    "    }\n",
    "\n",
    "    sentence[\"locations\"] = sorted(sentence[\"locations\"], key=lambda group: group[\"label\"], reverse=True)\n",
    "    return sentence\n",
    "\n",
    "def format_sentence_output(sentence_output: list) -> str:\n",
    "    return f\"{sentence_output['id']},{','.join([location['city'] for location in sentence_output['locations']])}\""
   ]
  },
  {
   "cell_type": "code",
   "execution_count": 5,
   "outputs": [
    {
     "name": "stdout",
     "output_type": "stream",
     "text": [
      "1,Port-Boulet,Le Havre\n",
      "2,'Épierre,Paris\n",
      "3,Margny-Lès-Compiègne,Saarbrücken,/Sarrebruck\n"
     ]
    }
   ],
   "source": [
    "from transformers import pipeline\n",
    "sentences = [\n",
    "    {\"id\": 1, \"text\": \"Je veux aller de Port-Boulet à Le Havre.\"},\n",
    "    {\"id\": 2, \"text\": \"Peux-tu m'aider à trouver mon chemin vers Paris en partant d'Épierre ?\"},\n",
    "    {\"id\": 3, \"text\": \"Je cherche un moyen d'aller de Margny-Lès-Compiègne à Saarbrücken /Sarrebruck.\"}\n",
    "]\n",
    "\n",
    "for sentence in sentences:\n",
    "    token_classifier = pipeline(\"token-classification\", model=\"models/distilbert-finetuned-token-classification-ner-trip\", aggregation_strategy=\"simple\")\n",
    "    outputs = token_classifier(sentence[\"text\"])\n",
    "    print(format_sentence_output(transform_sentence_from_outputs(sentence, outputs)))"
   ],
   "metadata": {
    "collapsed": false,
    "ExecuteTime": {
     "end_time": "2023-12-29T15:54:10.027070100Z",
     "start_time": "2023-12-29T15:54:08.642993100Z"
    }
   },
   "id": "5e9b6d7775c712e3"
  }
 ],
 "metadata": {
  "kernelspec": {
   "display_name": "Python 3",
   "language": "python",
   "name": "python3"
  },
  "language_info": {
   "codemirror_mode": {
    "name": "ipython",
    "version": 2
   },
   "file_extension": ".py",
   "mimetype": "text/x-python",
   "name": "python",
   "nbconvert_exporter": "python",
   "pygments_lexer": "ipython2",
   "version": "2.7.6"
  }
 },
 "nbformat": 4,
 "nbformat_minor": 5
}
