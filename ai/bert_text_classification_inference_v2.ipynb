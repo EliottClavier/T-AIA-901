{
 "cells": [
  {
   "cell_type": "code",
   "execution_count": 1,
   "outputs": [],
   "source": [
    "from torch import cuda\n",
    "device = 'cuda' if cuda.is_available() else 'cpu'"
   ],
   "metadata": {
    "collapsed": false,
    "ExecuteTime": {
     "end_time": "2023-12-29T16:02:47.829084300Z",
     "start_time": "2023-12-29T16:02:46.681187400Z"
    }
   },
   "id": "2f2b8d8cca69e93b"
  },
  {
   "cell_type": "code",
   "execution_count": 2,
   "id": "initial_id",
   "metadata": {
    "collapsed": true,
    "ExecuteTime": {
     "end_time": "2023-12-29T16:02:48.873106300Z",
     "start_time": "2023-12-29T16:02:47.829084300Z"
    }
   },
   "outputs": [],
   "source": [
    "from transformers import AutoTokenizer\n",
    "\n",
    "tokenizer = AutoTokenizer.from_pretrained(\"EliottClavier/bert-finetuned-text-classification-trip\")"
   ]
  },
  {
   "cell_type": "code",
   "execution_count": 3,
   "outputs": [],
   "source": [
    "from transformers import AutoModelForSequenceClassification\n",
    "\n",
    "model_test = AutoModelForSequenceClassification.from_pretrained(\"EliottClavier/bert-finetuned-text-classification-trip\")"
   ],
   "metadata": {
    "collapsed": false,
    "ExecuteTime": {
     "end_time": "2023-12-29T16:02:50.146547200Z",
     "start_time": "2023-12-29T16:02:48.874106800Z"
    }
   },
   "id": "9c54a782fccad2c0"
  },
  {
   "cell_type": "code",
   "execution_count": 4,
   "outputs": [],
   "source": [
    "# Get IDs to label from loaded model\n",
    "id2label = model_test.config.id2label"
   ],
   "metadata": {
    "collapsed": false,
    "ExecuteTime": {
     "end_time": "2023-12-29T16:02:50.154602800Z",
     "start_time": "2023-12-29T16:02:50.147548200Z"
    }
   },
   "id": "9f926f5167b695d1"
  },
  {
   "cell_type": "code",
   "execution_count": 16,
   "outputs": [
    {
     "name": "stdout",
     "output_type": "stream",
     "text": [
      "1,Je voudrais aller à Paris en partant de Nantes.\n",
      "2,NOT_TRIP\n",
      "3,NOT_FRENCH\n",
      "4,NOT_FRENCH\n",
      "5,NOT_TRIP\n",
      "6,UNKNOWN\n"
     ]
    }
   ],
   "source": [
    "import torch\n",
    "import numpy as np\n",
    "\n",
    "sentences = [\n",
    "    {\"id\": 1, \"text\": \"Je voudrais aller à Paris en partant de Nantes.\"},\n",
    "    {\"id\": 2, \"text\": \"Je voudrais aller à Paris en partant de Lyon ou Nantes\"},\n",
    "    {\"id\": 3, \"text\": \"I would like to go to Paris from Lyon\"},\n",
    "    {\"id\": 4, \"text\": \"I like apples\"},\n",
    "    {\"id\": 5, \"text\": \"J'aime me balader dans les rues de Paris\"},\n",
    "    {\"id\": 6, \"text\": \"ze zareazrreaz rzearzear\"}\n",
    "]\n",
    "\n",
    "for sentence in sentences:\n",
    "\n",
    "    # Tokenize the text\n",
    "    inputs = tokenizer(sentence[\"text\"], return_tensors=\"pt\")\n",
    "    \n",
    "    # Make prediction\n",
    "    with torch.no_grad():\n",
    "        outputs = model_test(**inputs)\n",
    "    \n",
    "    # Apply sigmoid + threshold\n",
    "    sigmoid = torch.nn.Sigmoid()\n",
    "    probs = sigmoid(outputs.logits.squeeze().cpu())\n",
    "    predictions = np.zeros(probs.shape)\n",
    "    # Get highest probability index\n",
    "    predictions[probs.argmax()] = 1.0\n",
    "    \n",
    "    # Turn predicted id's into actual label names\n",
    "    predicted_labels = [id2label[idx] for idx, label in enumerate(predictions) if label == 1.0]\n",
    "    sentence[\"prediction\"] = predicted_labels[0]\n",
    "    \n",
    "    if sentence[\"prediction\"] == \"CORRECT\":\n",
    "        print(f\"{sentence['id']},{sentence['text']}\")\n",
    "    else:\n",
    "        print(f\"{sentence['id']},{sentence['prediction']}\")\n"
   ],
   "metadata": {
    "collapsed": false,
    "ExecuteTime": {
     "end_time": "2023-12-29T16:06:35.436111Z",
     "start_time": "2023-12-29T16:06:35.280587200Z"
    }
   },
   "id": "7b11442f7b77cb44"
  }
 ],
 "metadata": {
  "kernelspec": {
   "display_name": "Python 3",
   "language": "python",
   "name": "python3"
  },
  "language_info": {
   "codemirror_mode": {
    "name": "ipython",
    "version": 2
   },
   "file_extension": ".py",
   "mimetype": "text/x-python",
   "name": "python",
   "nbconvert_exporter": "python",
   "pygments_lexer": "ipython2",
   "version": "2.7.6"
  }
 },
 "nbformat": 4,
 "nbformat_minor": 5
}
