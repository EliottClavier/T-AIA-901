{
 "cells": [
  {
   "cell_type": "code",
   "execution_count": 1,
   "id": "initial_id",
   "metadata": {
    "collapsed": true,
    "ExecuteTime": {
     "end_time": "2023-12-29T11:19:25.407309900Z",
     "start_time": "2023-12-29T11:19:23.624411600Z"
    }
   },
   "outputs": [],
   "source": [
    "from torch import cuda\n",
    "device = 'cuda' if cuda.is_available() else 'cpu'"
   ]
  },
  {
   "cell_type": "code",
   "execution_count": 3,
   "outputs": [],
   "source": [
    "import ast\n",
    "from datasets import load_dataset, DatasetDict\n",
    "\n",
    "label_list = [\"O\", \"B-LOC\", \"I-LOC\"]\n",
    "\n",
    "dataset = load_dataset('csv', data_files='data/dataset_token_classification.csv', delimiter=';')"
   ],
   "metadata": {
    "collapsed": false,
    "ExecuteTime": {
     "end_time": "2023-12-29T11:19:27.047995200Z",
     "start_time": "2023-12-29T11:19:25.814811600Z"
    }
   },
   "id": "923e3020e9eb09a9"
  },
  {
   "cell_type": "code",
   "execution_count": 4,
   "outputs": [],
   "source": [
    "# Evaluate tokens and ner_tags as lists\n",
    "dataset = dataset.map(lambda line: {'tokens': ast.literal_eval(line['tokens'])})\n",
    "dataset = dataset.map(lambda line: {'ner_tags': ast.literal_eval(line['ner_tags'])})"
   ],
   "metadata": {
    "collapsed": false,
    "ExecuteTime": {
     "end_time": "2023-12-29T11:19:27.316790400Z",
     "start_time": "2023-12-29T11:19:27.048995600Z"
    }
   },
   "id": "99d31bd4977ff05"
  },
  {
   "cell_type": "code",
   "execution_count": 5,
   "outputs": [],
   "source": [
    "# Cast ner_tags to ClassLabel with all labels present in ner_tags\n",
    "from datasets import ClassLabel, Sequence\n",
    "\n",
    "dataset = dataset.cast_column(\"ner_tags\", Sequence(feature=ClassLabel(num_classes=len(label_list), names=label_list)))"
   ],
   "metadata": {
    "collapsed": false,
    "ExecuteTime": {
     "end_time": "2023-12-29T11:19:27.333437500Z",
     "start_time": "2023-12-29T11:19:27.318791500Z"
    }
   },
   "id": "7767945c7a81ad58"
  },
  {
   "cell_type": "code",
   "execution_count": 6,
   "outputs": [
    {
     "data": {
      "text/plain": "{'text': Value(dtype='string', id=None),\n 'tokens': Sequence(feature=Value(dtype='string', id=None), length=-1, id=None),\n 'ner_tags': Sequence(feature=ClassLabel(names=['O', 'B-LOC', 'I-LOC'], id=None), length=-1, id=None)}"
     },
     "execution_count": 6,
     "metadata": {},
     "output_type": "execute_result"
    }
   ],
   "source": [
    "dataset['train'].features"
   ],
   "metadata": {
    "collapsed": false,
    "ExecuteTime": {
     "end_time": "2023-12-29T11:19:27.352906700Z",
     "start_time": "2023-12-29T11:19:27.336437300Z"
    }
   },
   "id": "9ffac0966310b7b3"
  },
  {
   "cell_type": "code",
   "execution_count": 7,
   "outputs": [],
   "source": [
    "from datasets import ClassLabel, Sequence\n",
    "import random\n",
    "import pandas as pd\n",
    "from IPython.display import display, HTML\n",
    "\n",
    "def show_random_elements(dataset, num_examples=10):\n",
    "    assert num_examples <= len(dataset), \"Can't pick more elements than there are in the dataset.\"\n",
    "    picks = []\n",
    "    for _ in range(num_examples):\n",
    "        pick = random.randint(0, len(dataset)-1)\n",
    "        while pick in picks:\n",
    "            pick = random.randint(0, len(dataset)-1)\n",
    "        picks.append(pick)\n",
    "\n",
    "    df = pd.DataFrame(dataset[picks])\n",
    "    for column, typ in dataset.features.items():\n",
    "        if isinstance(typ, ClassLabel):\n",
    "            df[column] = df[column].transform(lambda i: typ.names[i])\n",
    "        elif isinstance(typ, Sequence) and isinstance(typ.feature, ClassLabel):\n",
    "            df[column] = df[column].transform(lambda x: [typ.feature.names[i] for i in x])\n",
    "    display(HTML(df.to_html()))"
   ],
   "metadata": {
    "collapsed": false,
    "ExecuteTime": {
     "end_time": "2023-12-29T11:19:27.353906500Z",
     "start_time": "2023-12-29T11:19:27.340265700Z"
    }
   },
   "id": "da8366b049c9f097"
  },
  {
   "cell_type": "code",
   "execution_count": 8,
   "outputs": [
    {
     "data": {
      "text/plain": "<IPython.core.display.HTML object>",
      "text/html": "<table border=\"1\" class=\"dataframe\">\n  <thead>\n    <tr style=\"text-align: right;\">\n      <th></th>\n      <th>text</th>\n      <th>tokens</th>\n      <th>ner_tags</th>\n    </tr>\n  </thead>\n  <tbody>\n    <tr>\n      <th>0</th>\n      <td>ça ne vaut pas la peine, j'aime personnellement la phrase que vous rockez, ce qui signifie que vous êtes incroyable.</td>\n      <td>[ça, ne, vaut, pas, la, peine,, j', aime, personnellement, la, phrase, que, vous, rockez,, ce, qui, signifie, que, vous, êtes, incroyable, .]</td>\n      <td>[O, O, O, O, O, O, O, O, O, O, O, O, O, O, O, O, O, O, O, O, O, O]</td>\n    </tr>\n    <tr>\n      <th>1</th>\n      <td>Je souhaite me rendre de Béning-Lès-Saint-Avold jusqu'à Mouscron / Moeskroen.</td>\n      <td>[Je, souhaite, me, rendre, de, Béning-, Lès-, Saint-, Avold, jusqu', à, Mouscron, Moeskroen, .]</td>\n      <td>[O, O, O, O, O, B-LOC, I-LOC, I-LOC, I-LOC, O, O, B-LOC, I-LOC, O]</td>\n    </tr>\n    <tr>\n      <th>2</th>\n      <td>Je recherche un itinéraire pour aller à St-Just-Sncf en partant de St-Aignan-Pl-Wilson.</td>\n      <td>[Je, recherche, un, itinéraire, pour, aller, à, St-, Just-, Sncf, en, partant, de, St-, Aignan-, Pl-, Wilson, .]</td>\n      <td>[O, O, O, O, O, O, O, B-LOC, I-LOC, I-LOC, O, O, O, B-LOC, I-LOC, I-LOC, I-LOC, O]</td>\n    </tr>\n    <tr>\n      <th>3</th>\n      <td>dijon à épierre.</td>\n      <td>[dijon, à, épierre, .]</td>\n      <td>[B-LOC, O, B-LOC, O]</td>\n    </tr>\n    <tr>\n      <th>4</th>\n      <td>Indique-moi le trajet le plus simple de Liepvre-(-R.-Guth-) vers Menton.</td>\n      <td>[Indique-, moi, le, trajet, le, plus, simple, de, Liepvre-, R., Guth-, vers, Menton, .]</td>\n      <td>[O, O, O, O, O, O, O, O, B-LOC, I-LOC, I-LOC, O, B-LOC, O]</td>\n    </tr>\n    <tr>\n      <th>5</th>\n      <td>Le voyage de givet à herbitzheim est ce que je recherche.</td>\n      <td>[Le, voyage, de, givet, à, herbitzheim, est, ce, que, je, recherche, .]</td>\n      <td>[O, O, O, B-LOC, O, B-LOC, O, O, O, O, O, O]</td>\n    </tr>\n    <tr>\n      <th>6</th>\n      <td>J'adorerais faire quelque chose mais je ne peux pas.</td>\n      <td>[J', adorerais, faire, quelque, chose, mais, je, ne, peux, pas, .]</td>\n      <td>[O, O, O, O, O, O, O, O, O, O, O]</td>\n    </tr>\n    <tr>\n      <th>7</th>\n      <td>Pourrais-tu me donner les indications pour aller de Albertville à Sèlestat-(Schwilgué) ?</td>\n      <td>[Pourrais-, tu, me, donner, les, indications, pour, aller, de, Albertville, à, Sèlestat-, Schwilgué), , .]</td>\n      <td>[O, O, O, O, O, O, O, O, O, B-LOC, O, B-LOC, I-LOC, O, O]</td>\n    </tr>\n    <tr>\n      <th>8</th>\n      <td>Je souhaite aller de montargis ot à dives sur mer, s'il te plaît.</td>\n      <td>[Je, souhaite, aller, de, montargis, ot, à, dives, sur, mer,, s', il, te, plaît, .]</td>\n      <td>[O, O, O, O, B-LOC, I-LOC, O, B-LOC, I-LOC, I-LOC, O, O, O, O, O]</td>\n    </tr>\n    <tr>\n      <th>9</th>\n      <td>ça fait longtemps.</td>\n      <td>[ça, fait, longtemps, .]</td>\n      <td>[O, O, O, O]</td>\n    </tr>\n  </tbody>\n</table>"
     },
     "metadata": {},
     "output_type": "display_data"
    }
   ],
   "source": [
    "show_random_elements(dataset[\"train\"])"
   ],
   "metadata": {
    "collapsed": false,
    "ExecuteTime": {
     "end_time": "2023-12-29T11:19:27.354906300Z",
     "start_time": "2023-12-29T11:19:27.344248300Z"
    }
   },
   "id": "f4b53ae63504a1d1"
  },
  {
   "cell_type": "code",
   "execution_count": 9,
   "outputs": [
    {
     "name": "stdout",
     "output_type": "stream",
     "text": [
      "Number of B-LOC: 357696\n",
      "Number of I-LOC: 315414\n",
      "Number of O: 6121436\n"
     ]
    }
   ],
   "source": [
    "# print number of B-LOC and I-LOC in whole dataset\n",
    "def count_labels(dataset):\n",
    "    count_b_loc = 0\n",
    "    count_i_loc = 0\n",
    "    count_o = 0\n",
    "    for line in dataset:\n",
    "        for label in line['ner_tags']:\n",
    "            if label == 1:\n",
    "                count_b_loc += 1\n",
    "            elif label == 2:\n",
    "                count_i_loc += 1\n",
    "            elif label == 0:\n",
    "                count_o += 1\n",
    "    print(f\"Number of B-LOC: {count_b_loc}\")\n",
    "    print(f\"Number of I-LOC: {count_i_loc}\")\n",
    "    print(f\"Number of O: {count_o}\")\n",
    "    \n",
    "count_labels(dataset[\"train\"])"
   ],
   "metadata": {
    "collapsed": false,
    "ExecuteTime": {
     "end_time": "2023-12-29T11:19:39.709653300Z",
     "start_time": "2023-12-29T11:19:27.352906700Z"
    }
   },
   "id": "9d854dbfadcd2196"
  },
  {
   "cell_type": "code",
   "execution_count": 10,
   "outputs": [
    {
     "data": {
      "text/plain": "DatasetDict({\n    train: Dataset({\n        features: ['text', 'tokens', 'ner_tags'],\n        num_rows: 143078\n    })\n    test: Dataset({\n        features: ['text', 'tokens', 'ner_tags'],\n        num_rows: 17885\n    })\n    valid: Dataset({\n        features: ['text', 'tokens', 'ner_tags'],\n        num_rows: 17885\n    })\n})"
     },
     "execution_count": 10,
     "metadata": {},
     "output_type": "execute_result"
    }
   ],
   "source": [
    "# Shuffle train dataset, and pick 50% of it\n",
    "train_data = dataset['train']\n",
    "train_data = train_data.shuffle(seed=42)\n",
    "train_data = train_data.train_test_split(test_size=0.5)['train']\n",
    "\n",
    "# Split test dataset into 10% validation and 10% test\n",
    "train_test_valid = train_data.train_test_split(test_size=0.2)\n",
    "test_valid = train_test_valid['test'].train_test_split(test_size=0.5)\n",
    "\n",
    "dataset = DatasetDict({\n",
    "    'train': train_test_valid['train'],\n",
    "    'test': test_valid['test'],\n",
    "    'valid': test_valid['train']\n",
    "})\n",
    "\n",
    "dataset"
   ],
   "metadata": {
    "collapsed": false,
    "ExecuteTime": {
     "end_time": "2023-12-29T11:19:39.860542100Z",
     "start_time": "2023-12-29T11:19:39.706653800Z"
    }
   },
   "id": "be7b748ce559246c"
  },
  {
   "cell_type": "code",
   "execution_count": 11,
   "outputs": [],
   "source": [
    "task = \"ner\" # Should be one of \"ner\", \"pos\" or \"chunk\"\n",
    "model_checkpoint = \"distilbert-base-uncased\""
   ],
   "metadata": {
    "collapsed": false,
    "ExecuteTime": {
     "end_time": "2023-12-29T11:19:39.861542200Z",
     "start_time": "2023-12-29T11:19:39.857644200Z"
    }
   },
   "id": "581a0c5666107ccb"
  },
  {
   "cell_type": "code",
   "execution_count": 12,
   "outputs": [],
   "source": [
    "from transformers import AutoTokenizer\n",
    "\n",
    "tokenizer = AutoTokenizer.from_pretrained(model_checkpoint)"
   ],
   "metadata": {
    "collapsed": false,
    "ExecuteTime": {
     "end_time": "2023-12-29T11:19:40.501831100Z",
     "start_time": "2023-12-29T11:19:39.860542100Z"
    }
   },
   "id": "3d40f9cf5547a573"
  },
  {
   "cell_type": "code",
   "execution_count": 13,
   "outputs": [],
   "source": [
    "import transformers\n",
    "assert isinstance(tokenizer, transformers.PreTrainedTokenizerFast)"
   ],
   "metadata": {
    "collapsed": false,
    "ExecuteTime": {
     "end_time": "2023-12-29T11:19:40.508395800Z",
     "start_time": "2023-12-29T11:19:40.502975500Z"
    }
   },
   "id": "54195c59cdcc187f"
  },
  {
   "cell_type": "code",
   "execution_count": 14,
   "outputs": [],
   "source": [
    "example = dataset[\"train\"][0]"
   ],
   "metadata": {
    "collapsed": false,
    "ExecuteTime": {
     "end_time": "2023-12-29T11:19:40.509396300Z",
     "start_time": "2023-12-29T11:19:40.506483800Z"
    }
   },
   "id": "50851fde289728b2"
  },
  {
   "cell_type": "code",
   "execution_count": 15,
   "outputs": [
    {
     "data": {
      "text/plain": "['Parmi',\n 'ces',\n 'statuts,',\n 'les',\n 'principaux',\n 'sont',\n 'La',\n 'Wikimedia',\n 'Foundation',\n 'fournit',\n 'des',\n 'statistiques',\n 'mensuelles',\n 'sur',\n 'son',\n 'site[',\n 'z]']"
     },
     "execution_count": 15,
     "metadata": {},
     "output_type": "execute_result"
    }
   ],
   "source": [
    "example[\"tokens\"]"
   ],
   "metadata": {
    "collapsed": false,
    "ExecuteTime": {
     "end_time": "2023-12-29T11:19:40.511862200Z",
     "start_time": "2023-12-29T11:19:40.509396300Z"
    }
   },
   "id": "801ea6c51fd36c5b"
  },
  {
   "cell_type": "code",
   "execution_count": 16,
   "outputs": [
    {
     "data": {
      "text/plain": "{'input_ids': [101, 11968, 4328, 8292, 2015, 28093, 16446, 1010, 4649, 26927, 12273, 11514, 13754, 2365, 2102, 2474, 15536, 21138, 2098, 2401, 3192, 2176, 3490, 2102, 4078, 28093, 2923, 19516, 2273, 6342, 22869, 7505, 2365, 2609, 1031, 1062, 1033, 102], 'attention_mask': [1, 1, 1, 1, 1, 1, 1, 1, 1, 1, 1, 1, 1, 1, 1, 1, 1, 1, 1, 1, 1, 1, 1, 1, 1, 1, 1, 1, 1, 1, 1, 1, 1, 1, 1, 1, 1, 1]}"
     },
     "execution_count": 16,
     "metadata": {},
     "output_type": "execute_result"
    }
   ],
   "source": [
    "tokenizer(example[\"tokens\"], is_split_into_words=True)"
   ],
   "metadata": {
    "collapsed": false,
    "ExecuteTime": {
     "end_time": "2023-12-29T11:19:40.516834700Z",
     "start_time": "2023-12-29T11:19:40.511862200Z"
    }
   },
   "id": "699448cb4c1f46c5"
  },
  {
   "cell_type": "code",
   "execution_count": 17,
   "outputs": [
    {
     "data": {
      "text/plain": "['[CLS]',\n 'par',\n '##mi',\n 'ce',\n '##s',\n 'stat',\n '##uts',\n ',',\n 'les',\n 'pri',\n '##nc',\n '##ip',\n '##aux',\n 'son',\n '##t',\n 'la',\n 'wi',\n '##kim',\n '##ed',\n '##ia',\n 'foundation',\n 'four',\n '##ni',\n '##t',\n 'des',\n 'stat',\n '##ist',\n '##iques',\n 'men',\n '##su',\n '##elles',\n 'sur',\n 'son',\n 'site',\n '[',\n 'z',\n ']',\n '[SEP]']"
     },
     "execution_count": 17,
     "metadata": {},
     "output_type": "execute_result"
    }
   ],
   "source": [
    "tokenized_input = tokenizer(example[\"tokens\"], is_split_into_words=True)\n",
    "tokens = tokenizer.convert_ids_to_tokens(tokenized_input[\"input_ids\"])\n",
    "tokens"
   ],
   "metadata": {
    "collapsed": false,
    "ExecuteTime": {
     "end_time": "2023-12-29T11:19:40.521745300Z",
     "start_time": "2023-12-29T11:19:40.516834700Z"
    }
   },
   "id": "7a2ff719508c454"
  },
  {
   "cell_type": "code",
   "execution_count": 18,
   "outputs": [
    {
     "name": "stdout",
     "output_type": "stream",
     "text": [
      "38 38\n"
     ]
    }
   ],
   "source": [
    "word_ids = tokenized_input.word_ids()\n",
    "aligned_labels = [-100 if i is None else example[f\"{task}_tags\"][i] for i in word_ids]\n",
    "print(len(aligned_labels), len(tokenized_input[\"input_ids\"]))"
   ],
   "metadata": {
    "collapsed": false,
    "ExecuteTime": {
     "end_time": "2023-12-29T11:19:40.522750400Z",
     "start_time": "2023-12-29T11:19:40.519728100Z"
    }
   },
   "id": "9ba98f777573cf13"
  },
  {
   "cell_type": "code",
   "execution_count": 19,
   "outputs": [],
   "source": [
    "label_all_tokens = True"
   ],
   "metadata": {
    "collapsed": false,
    "ExecuteTime": {
     "end_time": "2023-12-29T11:19:40.553475Z",
     "start_time": "2023-12-29T11:19:40.522750400Z"
    }
   },
   "id": "5f39a004573b40ad"
  },
  {
   "cell_type": "code",
   "execution_count": 20,
   "outputs": [],
   "source": [
    "def tokenize_and_align_labels(examples):\n",
    "    tokenized_inputs = tokenizer(examples[\"tokens\"], truncation=True, is_split_into_words=True)\n",
    "\n",
    "    labels = []\n",
    "    for i, label in enumerate(examples[f\"{task}_tags\"]):\n",
    "        word_ids = tokenized_inputs.word_ids(batch_index=i)\n",
    "        previous_word_idx = None\n",
    "        label_ids = []\n",
    "        for word_idx in word_ids:\n",
    "            # Special tokens have a word id that is None. We set the label to -100 so they are automatically\n",
    "            # ignored in the loss function.\n",
    "            if word_idx is None:\n",
    "                label_ids.append(-100)\n",
    "            # We set the label for the first token of each word.\n",
    "            elif word_idx != previous_word_idx:\n",
    "                label_ids.append(label[word_idx])\n",
    "            # For the other tokens in a word, we set the label to either the current label or -100, depending on\n",
    "            # the label_all_tokens flag.\n",
    "            else:\n",
    "                label_ids.append(label[word_idx] if label_all_tokens else -100)\n",
    "            previous_word_idx = word_idx\n",
    "\n",
    "        labels.append(label_ids)\n",
    "    \n",
    "    tokenized_inputs[\"labels\"] = labels\n",
    "    return tokenized_inputs"
   ],
   "metadata": {
    "collapsed": false,
    "ExecuteTime": {
     "end_time": "2023-12-29T11:19:40.554475Z",
     "start_time": "2023-12-29T11:19:40.525571400Z"
    }
   },
   "id": "ae005e07fce1246"
  },
  {
   "cell_type": "code",
   "execution_count": 21,
   "outputs": [
    {
     "data": {
      "text/plain": "Map:   0%|          | 0/143078 [00:00<?, ? examples/s]",
      "application/vnd.jupyter.widget-view+json": {
       "version_major": 2,
       "version_minor": 0,
       "model_id": "89e8251c22584f7083c3466fa9bb5ac2"
      }
     },
     "metadata": {},
     "output_type": "display_data"
    },
    {
     "data": {
      "text/plain": "Map:   0%|          | 0/17885 [00:00<?, ? examples/s]",
      "application/vnd.jupyter.widget-view+json": {
       "version_major": 2,
       "version_minor": 0,
       "model_id": "08fc6bdbf7fc4b789fedbe94d56ca4ac"
      }
     },
     "metadata": {},
     "output_type": "display_data"
    },
    {
     "data": {
      "text/plain": "Map:   0%|          | 0/17885 [00:00<?, ? examples/s]",
      "application/vnd.jupyter.widget-view+json": {
       "version_major": 2,
       "version_minor": 0,
       "model_id": "e8d2063e97ff43fab8c8c46eb7ab6d07"
      }
     },
     "metadata": {},
     "output_type": "display_data"
    }
   ],
   "source": [
    "tokenized_datasets = dataset.map(tokenize_and_align_labels, batched=True)"
   ],
   "metadata": {
    "collapsed": false,
    "ExecuteTime": {
     "end_time": "2023-12-29T11:19:51.125679900Z",
     "start_time": "2023-12-29T11:19:40.529399900Z"
    }
   },
   "id": "acec2072b75fee3f"
  },
  {
   "cell_type": "code",
   "execution_count": 22,
   "outputs": [],
   "source": [
    "id2label = {i: label for i, label in enumerate(label_list)}\n",
    "label2id = {label: i for i, label in id2label.items()}"
   ],
   "metadata": {
    "collapsed": false,
    "ExecuteTime": {
     "end_time": "2023-12-29T11:19:51.130382Z",
     "start_time": "2023-12-29T11:19:51.126874200Z"
    }
   },
   "id": "b40541747737267"
  },
  {
   "cell_type": "code",
   "execution_count": 23,
   "outputs": [
    {
     "name": "stderr",
     "output_type": "stream",
     "text": [
      "Some weights of DistilBertForTokenClassification were not initialized from the model checkpoint at distilbert-base-uncased and are newly initialized: ['classifier.weight', 'classifier.bias']\n",
      "You should probably TRAIN this model on a down-stream task to be able to use it for predictions and inference.\n"
     ]
    }
   ],
   "source": [
    "from transformers import AutoModelForTokenClassification, TrainingArguments, Trainer\n",
    "\n",
    "model = AutoModelForTokenClassification.from_pretrained(\n",
    "    model_checkpoint, \n",
    "    num_labels=len(label_list),\n",
    "    id2label=id2label,\n",
    "    label2id=label2id\n",
    ")"
   ],
   "metadata": {
    "collapsed": false,
    "ExecuteTime": {
     "end_time": "2023-12-29T11:19:52.381420600Z",
     "start_time": "2023-12-29T11:19:51.129382600Z"
    }
   },
   "id": "afbc826e8b9f7f89"
  },
  {
   "cell_type": "code",
   "execution_count": 24,
   "outputs": [],
   "source": [
    "batch_size = 16\n",
    "epochs = 3\n",
    "metric_name = \"f1\""
   ],
   "metadata": {
    "collapsed": false,
    "ExecuteTime": {
     "end_time": "2023-12-29T11:19:52.382420600Z",
     "start_time": "2023-12-29T11:19:52.374256500Z"
    }
   },
   "id": "ce333710b79d837"
  },
  {
   "cell_type": "code",
   "execution_count": 25,
   "outputs": [],
   "source": [
    "args = TrainingArguments(\n",
    "    f\"models/distilbert-finetuned-token-classification-ner-trip\",\n",
    "    evaluation_strategy = \"epoch\",\n",
    "    learning_rate=2e-5,\n",
    "    per_device_train_batch_size=batch_size,\n",
    "    per_device_eval_batch_size=batch_size,\n",
    "    num_train_epochs=3,\n",
    "    weight_decay=0.01,\n",
    "    #push_to_hub=True,\n",
    ")"
   ],
   "metadata": {
    "collapsed": false,
    "ExecuteTime": {
     "end_time": "2023-12-29T11:19:52.390851200Z",
     "start_time": "2023-12-29T11:19:52.377419700Z"
    }
   },
   "id": "98ce9221697b63ea"
  },
  {
   "cell_type": "code",
   "execution_count": 26,
   "outputs": [],
   "source": [
    "from transformers import DataCollatorForTokenClassification\n",
    "\n",
    "data_collator = DataCollatorForTokenClassification(tokenizer)"
   ],
   "metadata": {
    "collapsed": false,
    "ExecuteTime": {
     "end_time": "2023-12-29T11:19:52.391850300Z",
     "start_time": "2023-12-29T11:19:52.387845700Z"
    }
   },
   "id": "a512bb6a5253ad47"
  },
  {
   "cell_type": "code",
   "execution_count": 27,
   "outputs": [
    {
     "name": "stderr",
     "output_type": "stream",
     "text": [
      "C:\\Users\\Eliott Clavier\\AppData\\Local\\Temp\\ipykernel_22988\\3417332866.py:3: FutureWarning: load_metric is deprecated and will be removed in the next major version of datasets. Use 'evaluate.load' instead, from the new library 🤗 Evaluate: https://huggingface.co/docs/evaluate\n",
      "  metric = load_metric(\"seqeval\")\n"
     ]
    }
   ],
   "source": [
    "from datasets import load_metric\n",
    "\n",
    "metric = load_metric(\"seqeval\")"
   ],
   "metadata": {
    "collapsed": false,
    "ExecuteTime": {
     "end_time": "2023-12-29T11:19:53.426006200Z",
     "start_time": "2023-12-29T11:19:52.389849500Z"
    }
   },
   "id": "65d6cd897d5cf5fb"
  },
  {
   "cell_type": "code",
   "execution_count": 28,
   "outputs": [
    {
     "name": "stderr",
     "output_type": "stream",
     "text": [
      "C:\\Developpement\\environments\\nlp\\Lib\\site-packages\\seqeval\\metrics\\v1.py:57: UndefinedMetricWarning: Precision and F-score are ill-defined and being set to 0.0 due to no predicted samples. Use `zero_division` parameter to control this behavior.\n",
      "  _warn_prf(average, modifier, msg_start, len(result))\n",
      "C:\\Developpement\\environments\\nlp\\Lib\\site-packages\\seqeval\\metrics\\v1.py:57: UndefinedMetricWarning: Recall and F-score are ill-defined and being set to 0.0 due to no true samples. Use `zero_division` parameter to control this behavior.\n",
      "  _warn_prf(average, modifier, msg_start, len(result))\n",
      "C:\\Developpement\\environments\\nlp\\Lib\\site-packages\\numpy\\lib\\function_base.py:518: RuntimeWarning: Mean of empty slice.\n",
      "  avg = a.mean(axis, **keepdims_kw)\n",
      "C:\\Developpement\\environments\\nlp\\Lib\\site-packages\\numpy\\core\\_methods.py:192: RuntimeWarning: invalid value encountered in scalar divide\n",
      "  ret = ret.dtype.type(ret / rcount)\n"
     ]
    },
    {
     "data": {
      "text/plain": "{'overall_precision': 0.0,\n 'overall_recall': 0.0,\n 'overall_f1': 0.0,\n 'overall_accuracy': 1.0}"
     },
     "execution_count": 28,
     "metadata": {},
     "output_type": "execute_result"
    }
   ],
   "source": [
    "labels = [label_list[i] for i in example[f\"{task}_tags\"]]\n",
    "metric.compute(predictions=[labels], references=[labels])"
   ],
   "metadata": {
    "collapsed": false,
    "ExecuteTime": {
     "end_time": "2023-12-29T11:19:53.440681700Z",
     "start_time": "2023-12-29T11:19:53.429006100Z"
    }
   },
   "id": "4c0f2114b0a6931"
  },
  {
   "cell_type": "code",
   "execution_count": 29,
   "outputs": [],
   "source": [
    "import numpy as np\n",
    "\n",
    "def compute_metrics(p):\n",
    "    predictions, labels = p\n",
    "    predictions = np.argmax(predictions, axis=2)\n",
    "\n",
    "    # Remove ignored index (special tokens)\n",
    "    true_predictions = [\n",
    "        [label_list[p] for (p, l) in zip(prediction, label) if l != -100]\n",
    "        for prediction, label in zip(predictions, labels)\n",
    "    ]\n",
    "    true_labels = [\n",
    "        [label_list[l] for (p, l) in zip(prediction, label) if l != -100]\n",
    "        for prediction, label in zip(predictions, labels)\n",
    "    ]\n",
    "\n",
    "    results = metric.compute(predictions=true_predictions, references=true_labels)\n",
    "    return {\n",
    "        \"precision\": results[\"overall_precision\"],\n",
    "        \"recall\": results[\"overall_recall\"],\n",
    "        \"f1\": results[\"overall_f1\"],\n",
    "        \"accuracy\": results[\"overall_accuracy\"],\n",
    "    }"
   ],
   "metadata": {
    "collapsed": false,
    "ExecuteTime": {
     "end_time": "2023-12-29T11:19:53.446624400Z",
     "start_time": "2023-12-29T11:19:53.442680900Z"
    }
   },
   "id": "9999a473af436906"
  },
  {
   "cell_type": "code",
   "execution_count": 30,
   "outputs": [],
   "source": [
    "trainer = Trainer(\n",
    "    model,\n",
    "    args,\n",
    "    train_dataset=tokenized_datasets[\"train\"],\n",
    "    eval_dataset=tokenized_datasets[\"valid\"],\n",
    "    data_collator=data_collator,\n",
    "    tokenizer=tokenizer,\n",
    "    compute_metrics=compute_metrics\n",
    ")"
   ],
   "metadata": {
    "collapsed": false,
    "ExecuteTime": {
     "end_time": "2023-12-29T11:19:53.565063500Z",
     "start_time": "2023-12-29T11:19:53.445625Z"
    }
   },
   "id": "ea7217f2e813c589"
  },
  {
   "cell_type": "code",
   "execution_count": 31,
   "outputs": [
    {
     "name": "stderr",
     "output_type": "stream",
     "text": [
      "You're using a DistilBertTokenizerFast tokenizer. Please note that with a fast tokenizer, using the `__call__` method is faster than using a method to encode the text followed by a call to the `pad` method to get a padded encoding.\n"
     ]
    },
    {
     "data": {
      "text/plain": "<IPython.core.display.HTML object>",
      "text/html": "\n    <div>\n      \n      <progress value='2' max='26829' style='width:300px; height:20px; vertical-align: middle;'></progress>\n      [    2/26829 : < :, Epoch 0.00/3]\n    </div>\n    <table border=\"1\" class=\"dataframe\">\n  <thead>\n <tr style=\"text-align: left;\">\n      <th>Epoch</th>\n      <th>Training Loss</th>\n      <th>Validation Loss</th>\n    </tr>\n  </thead>\n  <tbody>\n  </tbody>\n</table><p>"
     },
     "metadata": {},
     "output_type": "display_data"
    },
    {
     "data": {
      "text/plain": "TrainOutput(global_step=26829, training_loss=0.001011224740532176, metrics={'train_runtime': 1855.1505, 'train_samples_per_second': 231.374, 'train_steps_per_second': 14.462, 'total_flos': 1.05232752194013e+16, 'train_loss': 0.001011224740532176, 'epoch': 3.0})"
     },
     "execution_count": 31,
     "metadata": {},
     "output_type": "execute_result"
    }
   ],
   "source": [
    "trainer.train()"
   ],
   "metadata": {
    "collapsed": false,
    "ExecuteTime": {
     "end_time": "2023-12-29T11:50:48.794531Z",
     "start_time": "2023-12-29T11:19:53.567061900Z"
    }
   },
   "id": "63bb885915a419f0"
  },
  {
   "cell_type": "code",
   "execution_count": 32,
   "outputs": [],
   "source": [
    "trainer.save_model(\"models/distilbert-finetuned-token-classification-ner-trip\")"
   ],
   "metadata": {
    "collapsed": false,
    "ExecuteTime": {
     "end_time": "2023-12-29T11:50:48.990555Z",
     "start_time": "2023-12-29T11:50:48.786531400Z"
    }
   },
   "id": "7eaced7e31b8d651"
  },
  {
   "cell_type": "code",
   "execution_count": 33,
   "outputs": [
    {
     "data": {
      "text/plain": "<IPython.core.display.HTML object>",
      "text/html": "\n    <div>\n      \n      <progress value='1' max='1118' style='width:300px; height:20px; vertical-align: middle;'></progress>\n      [   1/1118 : < :]\n    </div>\n    "
     },
     "metadata": {},
     "output_type": "display_data"
    },
    {
     "data": {
      "text/plain": "{'eval_loss': 5.552212201109796e-07,\n 'eval_precision': 1.0,\n 'eval_recall': 1.0,\n 'eval_f1': 1.0,\n 'eval_accuracy': 1.0,\n 'eval_runtime': 25.5932,\n 'eval_samples_per_second': 698.82,\n 'eval_steps_per_second': 43.684,\n 'epoch': 3.0}"
     },
     "execution_count": 33,
     "metadata": {},
     "output_type": "execute_result"
    }
   ],
   "source": [
    "trainer.evaluate()"
   ],
   "metadata": {
    "collapsed": false,
    "ExecuteTime": {
     "end_time": "2023-12-29T11:51:14.590578900Z",
     "start_time": "2023-12-29T11:50:48.990555Z"
    }
   },
   "id": "a85370c81f8fddc9"
  },
  {
   "cell_type": "code",
   "execution_count": 34,
   "outputs": [
    {
     "data": {
      "text/plain": "{'LOC': {'precision': 1.0, 'recall': 1.0, 'f1': 1.0, 'number': 47938},\n 'overall_precision': 1.0,\n 'overall_recall': 1.0,\n 'overall_f1': 1.0,\n 'overall_accuracy': 1.0}"
     },
     "execution_count": 34,
     "metadata": {},
     "output_type": "execute_result"
    }
   ],
   "source": [
    "predictions, labels, _ = trainer.predict(tokenized_datasets[\"valid\"])\n",
    "predictions = np.argmax(predictions, axis=2)\n",
    "\n",
    "# Remove ignored index (special tokens)\n",
    "true_predictions = [\n",
    "    [label_list[p] for (p, l) in zip(prediction, label) if l != -100]\n",
    "    for prediction, label in zip(predictions, labels)\n",
    "]\n",
    "true_labels = [\n",
    "    [label_list[l] for (p, l) in zip(prediction, label) if l != -100]\n",
    "    for prediction, label in zip(predictions, labels)\n",
    "]\n",
    "\n",
    "results = metric.compute(predictions=true_predictions, references=true_labels)\n",
    "results"
   ],
   "metadata": {
    "collapsed": false,
    "ExecuteTime": {
     "end_time": "2023-12-29T11:51:45.527747100Z",
     "start_time": "2023-12-29T11:51:14.590578900Z"
    }
   },
   "id": "dc4c4522f7c30c60"
  },
  {
   "cell_type": "code",
   "execution_count": 35,
   "outputs": [
    {
     "data": {
      "text/plain": "<IPython.core.display.HTML object>",
      "text/html": "\n    <div>\n      \n      <progress value='1' max='8943' style='width:300px; height:20px; vertical-align: middle;'></progress>\n      [   1/8943 : < :]\n    </div>\n    "
     },
     "metadata": {},
     "output_type": "display_data"
    }
   ],
   "source": [
    "train_metrics = trainer.evaluate(tokenized_datasets[\"train\"])\n",
    "validation_metrics = trainer.evaluate(tokenized_datasets[\"valid\"])"
   ],
   "metadata": {
    "collapsed": false,
    "ExecuteTime": {
     "end_time": "2023-12-29T12:02:32.399200200Z",
     "start_time": "2023-12-29T11:51:45.524747100Z"
    }
   },
   "id": "80315144a95e1481"
  },
  {
   "cell_type": "code",
   "execution_count": 59,
   "outputs": [],
   "source": [
    "def gather_outputs(outputs: list) -> list:\n",
    "    # Group entities by their sequence\n",
    "    grouped_entities = []\n",
    "    current_group = []\n",
    "    for entity in outputs:\n",
    "        if not current_group or entity['start'] == current_group[-1]['end']:\n",
    "            current_group.append(entity)\n",
    "        else:\n",
    "            grouped_entities.append(current_group)\n",
    "            current_group = [entity]\n",
    "    \n",
    "    # Append the last group\n",
    "    if current_group:\n",
    "        grouped_entities.append(current_group)\n",
    "    \n",
    "    return grouped_entities\n",
    "\n",
    "def get_locations_from_outputs(sentence: str, outputs: list) -> list:\n",
    "    groups = gather_outputs(outputs)\n",
    "    return [sentence[group[0][\"start\"]:group[-1][\"end\"]] for group in groups]"
   ],
   "metadata": {
    "collapsed": false,
    "ExecuteTime": {
     "end_time": "2023-12-29T13:28:39.289247Z",
     "start_time": "2023-12-29T13:28:39.283738Z"
    }
   },
   "id": "46f36e0bef37a8a5"
  },
  {
   "cell_type": "code",
   "execution_count": 62,
   "outputs": [],
   "source": [
    "from transformers import pipeline\n",
    "\n",
    "sentence = \"Je veux aller de Port-Boulet à Le Havre.\"\n",
    "#sentence = \"Peux-tu m'aider à trouver mon chemin de Paris à Épierre ?\"\n",
    "\n",
    "token_classifier = pipeline(\"token-classification\", model=\"models/distilbert-finetuned-token-classification-ner-trip\", aggregation_strategy=\"simple\")\n",
    "outputs = token_classifier(sentence)"
   ],
   "metadata": {
    "collapsed": false,
    "ExecuteTime": {
     "end_time": "2023-12-29T13:28:58.073346700Z",
     "start_time": "2023-12-29T13:28:57.950551200Z"
    }
   },
   "id": "105eba05962a6a9"
  },
  {
   "cell_type": "code",
   "execution_count": 63,
   "outputs": [
    {
     "data": {
      "text/plain": "['Port-Boulet', 'Le Havre']"
     },
     "execution_count": 63,
     "metadata": {},
     "output_type": "execute_result"
    }
   ],
   "source": [
    "get_locations_from_outputs(sentence, outputs)"
   ],
   "metadata": {
    "collapsed": false,
    "ExecuteTime": {
     "end_time": "2023-12-29T13:28:58.420566100Z",
     "start_time": "2023-12-29T13:28:58.415537600Z"
    }
   },
   "id": "8b5b5f8893286416"
  }
 ],
 "metadata": {
  "kernelspec": {
   "display_name": "Python 3",
   "language": "python",
   "name": "python3"
  },
  "language_info": {
   "codemirror_mode": {
    "name": "ipython",
    "version": 2
   },
   "file_extension": ".py",
   "mimetype": "text/x-python",
   "name": "python",
   "nbconvert_exporter": "python",
   "pygments_lexer": "ipython2",
   "version": "2.7.6"
  }
 },
 "nbformat": 4,
 "nbformat_minor": 5
}
