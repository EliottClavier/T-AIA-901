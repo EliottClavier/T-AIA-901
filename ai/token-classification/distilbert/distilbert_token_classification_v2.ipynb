{
 "cells": [
  {
   "cell_type": "code",
   "execution_count": 1,
   "id": "initial_id",
   "metadata": {
    "collapsed": true,
    "ExecuteTime": {
     "end_time": "2024-01-03T16:25:09.053071200Z",
     "start_time": "2024-01-03T16:25:07.843298400Z"
    }
   },
   "outputs": [],
   "source": [
    "from torch import cuda\n",
    "device = 'cuda' if cuda.is_available() else 'cpu'"
   ]
  },
  {
   "cell_type": "code",
   "execution_count": 16,
   "outputs": [
    {
     "data": {
      "text/plain": "DatasetDict({\n    train: Dataset({\n        features: ['text', 'tokens', 'ner_tags'],\n        num_rows: 357696\n    })\n})"
     },
     "execution_count": 16,
     "metadata": {},
     "output_type": "execute_result"
    }
   ],
   "source": [
    "import os\n",
    "import ast\n",
    "from datasets import load_dataset, DatasetDict, Dataset, concatenate_datasets\n",
    "\n",
    "label_list = [\"O\", \"B-DEP\", \"I-DEP\", \"B-ARR\", \"I-ARR\"]\n",
    "\n",
    "path = \"data/token_classification/\"\n",
    "\n",
    "# dataset dict with emtpy attribute train\n",
    "dataset = DatasetDict({'train': Dataset.from_dict({})})\n",
    "\n",
    "for file in os.listdir(path):\n",
    "    if file.endswith(\".csv\"):\n",
    "        new_data = load_dataset('csv', data_files=path + file, delimiter=';')\n",
    "        dataset[\"train\"] = concatenate_datasets([dataset[\"train\"], new_data[\"train\"]])\n",
    "\n",
    "dataset"
   ],
   "metadata": {
    "collapsed": false,
    "ExecuteTime": {
     "end_time": "2024-01-03T16:37:08.423168400Z",
     "start_time": "2024-01-03T16:37:07.198301100Z"
    }
   },
   "id": "923e3020e9eb09a9"
  },
  {
   "cell_type": "code",
   "execution_count": 3,
   "outputs": [],
   "source": [
    "# Evaluate tokens and ner_tags as lists\n",
    "dataset = dataset.map(lambda line: {'tokens': ast.literal_eval(line['tokens'])})\n",
    "dataset = dataset.map(lambda line: {'ner_tags': ast.literal_eval(line['ner_tags'])})"
   ],
   "metadata": {
    "collapsed": false,
    "ExecuteTime": {
     "end_time": "2023-12-29T14:09:15.569255100Z",
     "start_time": "2023-12-29T14:09:15.337231500Z"
    }
   },
   "id": "99d31bd4977ff05"
  },
  {
   "cell_type": "code",
   "execution_count": 4,
   "outputs": [],
   "source": [
    "# Cast ner_tags to ClassLabel with all labels present in ner_tags\n",
    "from datasets import ClassLabel, Sequence\n",
    "\n",
    "dataset = dataset.cast_column(\"ner_tags\", Sequence(feature=ClassLabel(num_classes=len(label_list), names=label_list)))"
   ],
   "metadata": {
    "collapsed": false,
    "ExecuteTime": {
     "end_time": "2023-12-29T14:09:15.597581100Z",
     "start_time": "2023-12-29T14:09:15.570256Z"
    }
   },
   "id": "7767945c7a81ad58"
  },
  {
   "cell_type": "code",
   "execution_count": 5,
   "outputs": [
    {
     "data": {
      "text/plain": "{'text': Value(dtype='string', id=None),\n 'tokens': Sequence(feature=Value(dtype='string', id=None), length=-1, id=None),\n 'ner_tags': Sequence(feature=ClassLabel(names=['O', 'B-DEP', 'I-DEP', 'B-ARR', 'I-ARR'], id=None), length=-1, id=None)}"
     },
     "execution_count": 5,
     "metadata": {},
     "output_type": "execute_result"
    }
   ],
   "source": [
    "dataset['train'].features"
   ],
   "metadata": {
    "collapsed": false,
    "ExecuteTime": {
     "end_time": "2023-12-29T14:09:15.606631700Z",
     "start_time": "2023-12-29T14:09:15.597581100Z"
    }
   },
   "id": "9ffac0966310b7b3"
  },
  {
   "cell_type": "code",
   "execution_count": 6,
   "outputs": [],
   "source": [
    "from datasets import ClassLabel, Sequence\n",
    "import random\n",
    "import pandas as pd\n",
    "from IPython.display import display, HTML\n",
    "\n",
    "def show_random_elements(dataset, num_examples=10):\n",
    "    assert num_examples <= len(dataset), \"Can't pick more elements than there are in the dataset.\"\n",
    "    picks = []\n",
    "    for _ in range(num_examples):\n",
    "        pick = random.randint(0, len(dataset)-1)\n",
    "        while pick in picks:\n",
    "            pick = random.randint(0, len(dataset)-1)\n",
    "        picks.append(pick)\n",
    "\n",
    "    df = pd.DataFrame(dataset[picks])\n",
    "    for column, typ in dataset.features.items():\n",
    "        if isinstance(typ, ClassLabel):\n",
    "            df[column] = df[column].transform(lambda i: typ.names[i])\n",
    "        elif isinstance(typ, Sequence) and isinstance(typ.feature, ClassLabel):\n",
    "            df[column] = df[column].transform(lambda x: [typ.feature.names[i] for i in x])\n",
    "    display(HTML(df.to_html()))"
   ],
   "metadata": {
    "collapsed": false,
    "ExecuteTime": {
     "end_time": "2023-12-29T14:09:15.607631900Z",
     "start_time": "2023-12-29T14:09:15.605626700Z"
    }
   },
   "id": "da8366b049c9f097"
  },
  {
   "cell_type": "code",
   "execution_count": 7,
   "outputs": [
    {
     "data": {
      "text/plain": "<IPython.core.display.HTML object>",
      "text/html": "<table border=\"1\" class=\"dataframe\">\n  <thead>\n    <tr style=\"text-align: right;\">\n      <th></th>\n      <th>text</th>\n      <th>tokens</th>\n      <th>ner_tags</th>\n    </tr>\n  </thead>\n  <tbody>\n    <tr>\n      <th>0</th>\n      <td>Montre-moi le chemin pour aller à Saint-Louis à partir de Clermont.</td>\n      <td>[Montre-, moi, le, chemin, pour, aller, à, Saint-, Louis, à, partir, de, Clermont, .]</td>\n      <td>[O, O, O, O, O, O, O, B-DEP, I-DEP, O, O, O, B-ARR, O]</td>\n    </tr>\n    <tr>\n      <th>1</th>\n      <td>Serait-il possible de me rendre de perl gare db à le lardin saint lazare, s'il vous plaît ?</td>\n      <td>[Serait-, il, possible, de, me, rendre, de, perl, gare, db, à, le, lardin, saint, lazare,, s', il, vous, plaît, , .]</td>\n      <td>[O, O, O, O, O, O, O, B-DEP, I-DEP, I-DEP, O, B-ARR, I-ARR, I-ARR, I-ARR, O, O, O, O, O, O]</td>\n    </tr>\n    <tr>\n      <th>2</th>\n      <td>Il participe à l'élaboration de la plupart des règles de fonctionnement de cette dernière[2].</td>\n      <td>[Il, participe, à, l', élaboration, de, la, plupart, des, règles, de, fonctionnement, de, cette, dernière[, 2]]</td>\n      <td>[O, O, O, O, O, O, O, O, O, O, O, O, O, O, O, O]</td>\n    </tr>\n    <tr>\n      <th>3</th>\n      <td>narcisa a changé ses manières, elle a lutté au début mais lentement et patiemment elle a commencé à devenir beaucoup plus gentille un jour, mellie et terry sont venus rencontrer marian à nouveau oh bonjour à vous deux alors dites-nous marian.</td>\n      <td>[narcisa, a, changé, ses, manières,, elle, a, lutté, au, début, mais, lentement, et, patiemment, elle, a, commencé, à, devenir, beaucoup, plus, gentille, un, jour,, mellie, et, terry, sont, venus, rencontrer, marian, à, nouveau, oh, bonjour, à, vous, deux, alors, dites-, nous, marian, .]</td>\n      <td>[O, O, O, O, O, O, O, O, O, O, O, O, O, O, O, O, O, O, O, O, O, O, O, O, O, O, O, O, O, O, O, O, O, O, O, O, O, O, O, O, O, O, O]</td>\n    </tr>\n    <tr>\n      <th>4</th>\n      <td>je demande et puis je dis à la fin.</td>\n      <td>[je, demande, et, puis, je, dis, à, la, fin, .]</td>\n      <td>[O, O, O, O, O, O, O, O, O, O]</td>\n    </tr>\n    <tr>\n      <th>5</th>\n      <td>Jimmy Wales intervient fin 2005 sur l'article « Wikipedia » de Wikipédia en anglais, pour retirer l'information selon laquelle Larry Sanger en était cofondateur, puisque Sanger a toujours été un salarié.</td>\n      <td>[Jimmy, Wales, intervient, fin, 2005, sur, l', article, Wikipedia, de, Wikipédia, en, anglais,, pour, retirer, l', information, selon, laquelle, Larry, Sanger, en, était, cofondateur,, puisque, Sanger, a, toujours, été, un, salarié, .]</td>\n      <td>[O, O, O, O, O, O, O, O, O, O, O, O, O, O, O, O, O, O, O, O, O, O, O, O, O, O, O, O, O, O, O, O]</td>\n    </tr>\n    <tr>\n      <th>6</th>\n      <td>Non pas du tout.</td>\n      <td>[Non, pas, du, tout, .]</td>\n      <td>[O, O, O, O, O]</td>\n    </tr>\n    <tr>\n      <th>7</th>\n      <td>Indique-moi le trajet le plus simple depuis Ingwiller vers Mommenheim.</td>\n      <td>[Indique-, moi, le, trajet, le, plus, simple, depuis, Ingwiller, vers, Mommenheim, .]</td>\n      <td>[O, O, O, O, O, O, O, O, B-ARR, O, B-DEP, O]</td>\n    </tr>\n    <tr>\n      <th>8</th>\n      <td>Dirigez-vous vers arches en partant de romilly sur seine.</td>\n      <td>[Dirigez-, vous, vers, arches, en, partant, de, romilly, sur, seine, .]</td>\n      <td>[O, O, O, B-ARR, O, O, O, B-DEP, I-DEP, I-DEP, O]</td>\n    </tr>\n    <tr>\n      <th>9</th>\n      <td>Cette idée prévaut jusqu’à l'apparition de la conception moderne de la science (Galilée).</td>\n      <td>[Cette, idée, prévaut, jusqu’, à, l', apparition, de, la, conception, moderne, de, la, science, Galilée)]</td>\n      <td>[O, O, O, O, O, O, O, O, O, O, O, O, O, O, O]</td>\n    </tr>\n  </tbody>\n</table>"
     },
     "metadata": {},
     "output_type": "display_data"
    }
   ],
   "source": [
    "show_random_elements(dataset[\"train\"])"
   ],
   "metadata": {
    "collapsed": false,
    "ExecuteTime": {
     "end_time": "2023-12-29T14:09:15.616992300Z",
     "start_time": "2023-12-29T14:09:15.607631900Z"
    }
   },
   "id": "f4b53ae63504a1d1"
  },
  {
   "cell_type": "code",
   "execution_count": 8,
   "outputs": [
    {
     "data": {
      "text/plain": "{'O': 6122271,\n 'B-DEP': 178848,\n 'I-DEP': 156492,\n 'B-ARR': 178848,\n 'I-ARR': 155763}"
     },
     "execution_count": 8,
     "metadata": {},
     "output_type": "execute_result"
    }
   ],
   "source": [
    "# count number of each label in ner_tags\n",
    "from collections import Counter\n",
    "\n",
    "tag_counts = Counter()\n",
    "for tags in dataset['train']['ner_tags']:\n",
    "    tag_counts.update(tags)\n",
    "    \n",
    "tag_counts = {label_list[key]: value for key, value in tag_counts.items()}\n",
    "tag_counts"
   ],
   "metadata": {
    "collapsed": false,
    "ExecuteTime": {
     "end_time": "2023-12-29T14:09:18.173704600Z",
     "start_time": "2023-12-29T14:09:15.616992300Z"
    }
   },
   "id": "9d854dbfadcd2196"
  },
  {
   "cell_type": "code",
   "execution_count": 9,
   "outputs": [
    {
     "data": {
      "text/plain": "<Figure size 2000x500 with 1 Axes>",
      "image/png": "[encoded data removed]"
     },
     "metadata": {},
     "output_type": "display_data"
    }
   ],
   "source": [
    "import matplotlib.pyplot as plt\n",
    "\n",
    "plt.figure(figsize=(20, 5))\n",
    "plt.bar(tag_counts.keys(), tag_counts.values())\n",
    "plt.show()"
   ],
   "metadata": {
    "collapsed": false,
    "ExecuteTime": {
     "end_time": "2023-12-29T14:09:18.428558Z",
     "start_time": "2023-12-29T14:09:18.170707800Z"
    }
   },
   "id": "2125be68101ed46f"
  },
  {
   "cell_type": "code",
   "execution_count": 10,
   "outputs": [
    {
     "data": {
      "text/plain": "<Figure size 2000x500 with 1 Axes>",
      "image/png": "[encoded data removed]"
     },
     "metadata": {},
     "output_type": "display_data"
    }
   ],
   "source": [
    "del tag_counts['O']\n",
    "plt.figure(figsize=(20, 5))\n",
    "plt.bar(tag_counts.keys(), tag_counts.values())\n",
    "plt.show()"
   ],
   "metadata": {
    "collapsed": false,
    "ExecuteTime": {
     "end_time": "2023-12-29T14:09:18.495390700Z",
     "start_time": "2023-12-29T14:09:18.426557400Z"
    }
   },
   "id": "55ee5601cb35cac9"
  },
  {
   "cell_type": "code",
   "execution_count": 11,
   "outputs": [
    {
     "data": {
      "text/plain": "DatasetDict({\n    train: Dataset({\n        features: ['text', 'tokens', 'ner_tags'],\n        num_rows: 143078\n    })\n    test: Dataset({\n        features: ['text', 'tokens', 'ner_tags'],\n        num_rows: 17885\n    })\n    valid: Dataset({\n        features: ['text', 'tokens', 'ner_tags'],\n        num_rows: 17885\n    })\n})"
     },
     "execution_count": 11,
     "metadata": {},
     "output_type": "execute_result"
    }
   ],
   "source": [
    "# Shuffle train dataset, and pick 50% of it\n",
    "train_data = dataset['train']\n",
    "train_data = train_data.shuffle(seed=42)\n",
    "train_data = train_data.train_test_split(test_size=0.5)['train']\n",
    "\n",
    "# Split test dataset into 10% validation and 10% test\n",
    "train_test_valid = train_data.train_test_split(test_size=0.2)\n",
    "test_valid = train_test_valid['test'].train_test_split(test_size=0.5)\n",
    "\n",
    "dataset = DatasetDict({\n",
    "    'train': train_test_valid['train'],\n",
    "    'test': test_valid['test'],\n",
    "    'valid': test_valid['train']\n",
    "})\n",
    "\n",
    "dataset"
   ],
   "metadata": {
    "collapsed": false,
    "ExecuteTime": {
     "end_time": "2023-12-29T14:09:18.645668Z",
     "start_time": "2023-12-29T14:09:18.484395300Z"
    }
   },
   "id": "be7b748ce559246c"
  },
  {
   "cell_type": "code",
   "execution_count": 12,
   "outputs": [],
   "source": [
    "task = \"ner\" # Should be one of \"ner\", \"pos\" or \"chunk\"\n",
    "model_checkpoint = \"distilbert-base-uncased\""
   ],
   "metadata": {
    "collapsed": false,
    "ExecuteTime": {
     "end_time": "2023-12-29T14:09:18.645668Z",
     "start_time": "2023-12-29T14:09:18.641395200Z"
    }
   },
   "id": "581a0c5666107ccb"
  },
  {
   "cell_type": "code",
   "execution_count": 13,
   "outputs": [],
   "source": [
    "from transformers import AutoTokenizer\n",
    "\n",
    "tokenizer = AutoTokenizer.from_pretrained(model_checkpoint)"
   ],
   "metadata": {
    "collapsed": false,
    "ExecuteTime": {
     "end_time": "2023-12-29T14:09:19.220807300Z",
     "start_time": "2023-12-29T14:09:18.644664400Z"
    }
   },
   "id": "3d40f9cf5547a573"
  },
  {
   "cell_type": "code",
   "execution_count": 14,
   "outputs": [],
   "source": [
    "import transformers\n",
    "assert isinstance(tokenizer, transformers.PreTrainedTokenizerFast)"
   ],
   "metadata": {
    "collapsed": false,
    "ExecuteTime": {
     "end_time": "2023-12-29T14:09:19.225612Z",
     "start_time": "2023-12-29T14:09:19.222103Z"
    }
   },
   "id": "54195c59cdcc187f"
  },
  {
   "cell_type": "code",
   "execution_count": 15,
   "outputs": [],
   "source": [
    "example = dataset[\"train\"][0]"
   ],
   "metadata": {
    "collapsed": false,
    "ExecuteTime": {
     "end_time": "2023-12-29T14:09:19.227754300Z",
     "start_time": "2023-12-29T14:09:19.224612100Z"
    }
   },
   "id": "50851fde289728b2"
  },
  {
   "cell_type": "code",
   "execution_count": 16,
   "outputs": [
    {
     "data": {
      "text/plain": "['tellement',\n \"qu'\",\n 'ils',\n 'oublient',\n 'quoi',\n 'faire',\n 'maintenant',\n 'confus',\n 'a',\n 'tendance',\n 'à',\n 'être',\n 'un',\n 'mot',\n 'surutilisé',\n 'alors',\n 'au',\n 'lieu',\n 'de',\n 'cela,',\n 'pourquoi',\n \"n'\",\n 'utilisez-',\n 'vous',\n 'pas',\n 'flummox,',\n 'par',\n 'exemple,',\n 'le',\n 'garçon',\n 'avait',\n \"l'\",\n 'air',\n 'complètement',\n 'décontenancé',\n 'quand',\n 'le',\n 'professeur',\n 'lui',\n 'a',\n 'posé',\n 'une',\n 'question',\n 'en',\n 'classe',\n 'ou',\n 'que',\n 'le',\n 'chien',\n 'était',\n 'décontenancé',\n 'à',\n 'son',\n 'propre',\n 'reflet',\n 'dans',\n 'le',\n 'miroir',\n 'ou',\n 'le',\n 'touriste',\n 'a',\n 'été',\n 'étonné',\n 'par',\n 'les',\n 'différentes',\n 'coutumes',\n 'qui',\n '.']"
     },
     "execution_count": 16,
     "metadata": {},
     "output_type": "execute_result"
    }
   ],
   "source": [
    "example[\"tokens\"]"
   ],
   "metadata": {
    "collapsed": false,
    "ExecuteTime": {
     "end_time": "2023-12-29T14:09:19.232743100Z",
     "start_time": "2023-12-29T14:09:19.228754300Z"
    }
   },
   "id": "801ea6c51fd36c5b"
  },
  {
   "cell_type": "code",
   "execution_count": 17,
   "outputs": [
    {
     "data": {
      "text/plain": "{'input_ids': [101, 2425, 13665, 24209, 1005, 6335, 2015, 15068, 16558, 11638, 22035, 2072, 4189, 2063, 2364, 6528, 4630, 9530, 25608, 1037, 7166, 6651, 1037, 3802, 2890, 4895, 9587, 2102, 7505, 21823, 6856, 2063, 2632, 5668, 8740, 22470, 2139, 8292, 2721, 1010, 10364, 28940, 10448, 1050, 1005, 21183, 24411, 9351, 1011, 29536, 2271, 14674, 19857, 7382, 11636, 1010, 11968, 4654, 6633, 10814, 1010, 3393, 11721, 29566, 2078, 10927, 4183, 1048, 1005, 2250, 3143, 3672, 21933, 10111, 7229, 3401, 24110, 2094, 3393, 11268, 7971, 11236, 11320, 2072, 1037, 13382, 16655, 3160, 4372, 2465, 2063, 15068, 10861, 3393, 9610, 2368, 27859, 4183, 21933, 10111, 7229, 3401, 1037, 2365, 17678, 2890, 25416, 7485, 18033, 3393, 14719, 21165, 15068, 3393, 7538, 2063, 1037, 3802, 2063, 21687, 2638, 11968, 4649, 2367, 2229, 2522, 4904, 17897, 2015, 21864, 1012, 102], 'attention_mask': [1, 1, 1, 1, 1, 1, 1, 1, 1, 1, 1, 1, 1, 1, 1, 1, 1, 1, 1, 1, 1, 1, 1, 1, 1, 1, 1, 1, 1, 1, 1, 1, 1, 1, 1, 1, 1, 1, 1, 1, 1, 1, 1, 1, 1, 1, 1, 1, 1, 1, 1, 1, 1, 1, 1, 1, 1, 1, 1, 1, 1, 1, 1, 1, 1, 1, 1, 1, 1, 1, 1, 1, 1, 1, 1, 1, 1, 1, 1, 1, 1, 1, 1, 1, 1, 1, 1, 1, 1, 1, 1, 1, 1, 1, 1, 1, 1, 1, 1, 1, 1, 1, 1, 1, 1, 1, 1, 1, 1, 1, 1, 1, 1, 1, 1, 1, 1, 1, 1, 1, 1, 1, 1, 1, 1, 1, 1, 1, 1, 1, 1, 1]}"
     },
     "execution_count": 17,
     "metadata": {},
     "output_type": "execute_result"
    }
   ],
   "source": [
    "tokenizer(example[\"tokens\"], is_split_into_words=True)"
   ],
   "metadata": {
    "collapsed": false,
    "ExecuteTime": {
     "end_time": "2023-12-29T14:09:19.241446Z",
     "start_time": "2023-12-29T14:09:19.232743100Z"
    }
   },
   "id": "699448cb4c1f46c5"
  },
  {
   "cell_type": "code",
   "execution_count": 18,
   "outputs": [
    {
     "data": {
      "text/plain": "['[CLS]',\n 'tell',\n '##ement',\n 'qu',\n \"'\",\n 'il',\n '##s',\n 'ou',\n '##bl',\n '##ient',\n 'quo',\n '##i',\n 'fair',\n '##e',\n 'main',\n '##ten',\n '##ant',\n 'con',\n '##fus',\n 'a',\n 'tend',\n '##ance',\n 'a',\n 'et',\n '##re',\n 'un',\n 'mo',\n '##t',\n 'sur',\n '##uti',\n '##lis',\n '##e',\n 'al',\n '##ors',\n 'au',\n 'lieu',\n 'de',\n 'ce',\n '##la',\n ',',\n 'pour',\n '##qu',\n '##oi',\n 'n',\n \"'\",\n 'ut',\n '##ilis',\n '##ez',\n '-',\n 'vo',\n '##us',\n 'pas',\n 'flu',\n '##mm',\n '##ox',\n ',',\n 'par',\n 'ex',\n '##em',\n '##ple',\n ',',\n 'le',\n 'ga',\n '##rco',\n '##n',\n 'ava',\n '##it',\n 'l',\n \"'\",\n 'air',\n 'complete',\n '##ment',\n 'deco',\n '##nte',\n '##nan',\n '##ce',\n 'quan',\n '##d',\n 'le',\n 'prof',\n '##ess',\n '##eur',\n 'lu',\n '##i',\n 'a',\n 'pose',\n 'une',\n 'question',\n 'en',\n 'class',\n '##e',\n 'ou',\n 'que',\n 'le',\n 'chi',\n '##en',\n 'eta',\n '##it',\n 'deco',\n '##nte',\n '##nan',\n '##ce',\n 'a',\n 'son',\n 'prop',\n '##re',\n 'ref',\n '##let',\n 'dans',\n 'le',\n 'mir',\n '##oir',\n 'ou',\n 'le',\n 'tourist',\n '##e',\n 'a',\n 'et',\n '##e',\n 'eton',\n '##ne',\n 'par',\n 'les',\n 'different',\n '##es',\n 'co',\n '##ut',\n '##ume',\n '##s',\n 'qui',\n '.',\n '[SEP]']"
     },
     "execution_count": 18,
     "metadata": {},
     "output_type": "execute_result"
    }
   ],
   "source": [
    "tokenized_input = tokenizer(example[\"tokens\"], is_split_into_words=True)\n",
    "tokens = tokenizer.convert_ids_to_tokens(tokenized_input[\"input_ids\"])\n",
    "tokens"
   ],
   "metadata": {
    "collapsed": false,
    "ExecuteTime": {
     "end_time": "2023-12-29T14:09:19.243450800Z",
     "start_time": "2023-12-29T14:09:19.238743200Z"
    }
   },
   "id": "7a2ff719508c454"
  },
  {
   "cell_type": "code",
   "execution_count": 19,
   "outputs": [
    {
     "name": "stdout",
     "output_type": "stream",
     "text": [
      "132 132\n"
     ]
    }
   ],
   "source": [
    "word_ids = tokenized_input.word_ids()\n",
    "aligned_labels = [-100 if i is None else example[f\"{task}_tags\"][i] for i in word_ids]\n",
    "print(len(aligned_labels), len(tokenized_input[\"input_ids\"]))"
   ],
   "metadata": {
    "collapsed": false,
    "ExecuteTime": {
     "end_time": "2023-12-29T14:09:19.249244300Z",
     "start_time": "2023-12-29T14:09:19.243450800Z"
    }
   },
   "id": "9ba98f777573cf13"
  },
  {
   "cell_type": "code",
   "execution_count": 20,
   "outputs": [],
   "source": [
    "label_all_tokens = True"
   ],
   "metadata": {
    "collapsed": false,
    "ExecuteTime": {
     "end_time": "2023-12-29T14:09:19.249244300Z",
     "start_time": "2023-12-29T14:09:19.247473500Z"
    }
   },
   "id": "5f39a004573b40ad"
  },
  {
   "cell_type": "code",
   "execution_count": 21,
   "outputs": [],
   "source": [
    "def tokenize_and_align_labels(examples):\n",
    "    tokenized_inputs = tokenizer(examples[\"tokens\"], truncation=True, is_split_into_words=True)\n",
    "\n",
    "    labels = []\n",
    "    for i, label in enumerate(examples[f\"{task}_tags\"]):\n",
    "        word_ids = tokenized_inputs.word_ids(batch_index=i)\n",
    "        previous_word_idx = None\n",
    "        label_ids = []\n",
    "        for word_idx in word_ids:\n",
    "            # Special tokens have a word id that is None. We set the label to -100 so they are automatically\n",
    "            # ignored in the loss function.\n",
    "            if word_idx is None:\n",
    "                label_ids.append(-100)\n",
    "            # We set the label for the first token of each word.\n",
    "            elif word_idx != previous_word_idx:\n",
    "                label_ids.append(label[word_idx])\n",
    "            # For the other tokens in a word, we set the label to either the current label or -100, depending on\n",
    "            # the label_all_tokens flag.\n",
    "            else:\n",
    "                label_ids.append(label[word_idx] if label_all_tokens else -100)\n",
    "            previous_word_idx = word_idx\n",
    "\n",
    "        labels.append(label_ids)\n",
    "    \n",
    "    tokenized_inputs[\"labels\"] = labels\n",
    "    return tokenized_inputs"
   ],
   "metadata": {
    "collapsed": false,
    "ExecuteTime": {
     "end_time": "2023-12-29T14:09:19.301875300Z",
     "start_time": "2023-12-29T14:09:19.251244600Z"
    }
   },
   "id": "ae005e07fce1246"
  },
  {
   "cell_type": "code",
   "execution_count": 22,
   "outputs": [
    {
     "data": {
      "text/plain": "Map:   0%|          | 0/143078 [00:00<?, ? examples/s]",
      "application/vnd.jupyter.widget-view+json": {
       "version_major": 2,
       "version_minor": 0,
       "model_id": "0ed99d3ade384a5585d38aa82b1e094f"
      }
     },
     "metadata": {},
     "output_type": "display_data"
    },
    {
     "data": {
      "text/plain": "Map:   0%|          | 0/17885 [00:00<?, ? examples/s]",
      "application/vnd.jupyter.widget-view+json": {
       "version_major": 2,
       "version_minor": 0,
       "model_id": "75339ca14be14fb1a5e10749740ccb7c"
      }
     },
     "metadata": {},
     "output_type": "display_data"
    },
    {
     "data": {
      "text/plain": "Map:   0%|          | 0/17885 [00:00<?, ? examples/s]",
      "application/vnd.jupyter.widget-view+json": {
       "version_major": 2,
       "version_minor": 0,
       "model_id": "31170b2a6ad342bfae6d38b396f696cd"
      }
     },
     "metadata": {},
     "output_type": "display_data"
    }
   ],
   "source": [
    "tokenized_datasets = dataset.map(tokenize_and_align_labels, batched=True)"
   ],
   "metadata": {
    "collapsed": false,
    "ExecuteTime": {
     "end_time": "2023-12-29T14:09:29.807952700Z",
     "start_time": "2023-12-29T14:09:19.253362900Z"
    }
   },
   "id": "acec2072b75fee3f"
  },
  {
   "cell_type": "code",
   "execution_count": 23,
   "outputs": [],
   "source": [
    "id2label = {i: label for i, label in enumerate(label_list)}\n",
    "label2id = {label: i for i, label in id2label.items()}"
   ],
   "metadata": {
    "collapsed": false,
    "ExecuteTime": {
     "end_time": "2023-12-29T14:09:29.813641Z",
     "start_time": "2023-12-29T14:09:29.809135Z"
    }
   },
   "id": "b40541747737267"
  },
  {
   "cell_type": "code",
   "execution_count": 24,
   "outputs": [
    {
     "name": "stderr",
     "output_type": "stream",
     "text": [
      "Some weights of DistilBertForTokenClassification were not initialized from the model checkpoint at distilbert-base-uncased and are newly initialized: ['classifier.bias', 'classifier.weight']\n",
      "You should probably TRAIN this model on a down-stream task to be able to use it for predictions and inference.\n"
     ]
    }
   ],
   "source": [
    "from transformers import AutoModelForTokenClassification, TrainingArguments, Trainer\n",
    "\n",
    "model = AutoModelForTokenClassification.from_pretrained(\n",
    "    model_checkpoint, \n",
    "    num_labels=len(label_list),\n",
    "    id2label=id2label,\n",
    "    label2id=label2id\n",
    ")"
   ],
   "metadata": {
    "collapsed": false,
    "ExecuteTime": {
     "end_time": "2023-12-29T14:09:30.872350800Z",
     "start_time": "2023-12-29T14:09:29.811641Z"
    }
   },
   "id": "afbc826e8b9f7f89"
  },
  {
   "cell_type": "code",
   "execution_count": 25,
   "outputs": [],
   "source": [
    "batch_size = 16\n",
    "epochs = 3\n",
    "metric_name = \"f1\""
   ],
   "metadata": {
    "collapsed": false,
    "ExecuteTime": {
     "end_time": "2023-12-29T14:09:30.886621100Z",
     "start_time": "2023-12-29T14:09:30.872350800Z"
    }
   },
   "id": "ce333710b79d837"
  },
  {
   "cell_type": "code",
   "execution_count": 26,
   "outputs": [],
   "source": [
    "args = TrainingArguments(\n",
    "    f\"models/distilbert-finetuned-token-classification-ner-trip\",\n",
    "    evaluation_strategy = \"epoch\",\n",
    "    learning_rate=2e-5,\n",
    "    per_device_train_batch_size=batch_size,\n",
    "    per_device_eval_batch_size=batch_size,\n",
    "    num_train_epochs=3,\n",
    "    weight_decay=0.01,\n",
    "    #push_to_hub=True,\n",
    ")"
   ],
   "metadata": {
    "collapsed": false,
    "ExecuteTime": {
     "end_time": "2023-12-29T14:09:30.887621200Z",
     "start_time": "2023-12-29T14:09:30.875411400Z"
    }
   },
   "id": "98ce9221697b63ea"
  },
  {
   "cell_type": "code",
   "execution_count": 27,
   "outputs": [],
   "source": [
    "from transformers import DataCollatorForTokenClassification\n",
    "\n",
    "data_collator = DataCollatorForTokenClassification(tokenizer)"
   ],
   "metadata": {
    "collapsed": false,
    "ExecuteTime": {
     "end_time": "2023-12-29T14:09:30.888621200Z",
     "start_time": "2023-12-29T14:09:30.885113800Z"
    }
   },
   "id": "a512bb6a5253ad47"
  },
  {
   "cell_type": "code",
   "execution_count": 28,
   "outputs": [
    {
     "name": "stderr",
     "output_type": "stream",
     "text": [
      "C:\\Users\\Eliott Clavier\\AppData\\Local\\Temp\\ipykernel_17264\\3417332866.py:3: FutureWarning: load_metric is deprecated and will be removed in the next major version of datasets. Use 'evaluate.load' instead, from the new library 🤗 Evaluate: https://huggingface.co/docs/evaluate\n",
      "  metric = load_metric(\"seqeval\")\n"
     ]
    }
   ],
   "source": [
    "from datasets import load_metric\n",
    "\n",
    "metric = load_metric(\"seqeval\")"
   ],
   "metadata": {
    "collapsed": false,
    "ExecuteTime": {
     "end_time": "2023-12-29T14:09:31.979606300Z",
     "start_time": "2023-12-29T14:09:30.888621200Z"
    }
   },
   "id": "65d6cd897d5cf5fb"
  },
  {
   "cell_type": "code",
   "execution_count": 29,
   "outputs": [
    {
     "name": "stderr",
     "output_type": "stream",
     "text": [
      "C:\\Developpement\\environments\\nlp\\Lib\\site-packages\\seqeval\\metrics\\v1.py:57: UndefinedMetricWarning: Precision and F-score are ill-defined and being set to 0.0 due to no predicted samples. Use `zero_division` parameter to control this behavior.\n",
      "  _warn_prf(average, modifier, msg_start, len(result))\n",
      "C:\\Developpement\\environments\\nlp\\Lib\\site-packages\\seqeval\\metrics\\v1.py:57: UndefinedMetricWarning: Recall and F-score are ill-defined and being set to 0.0 due to no true samples. Use `zero_division` parameter to control this behavior.\n",
      "  _warn_prf(average, modifier, msg_start, len(result))\n",
      "C:\\Developpement\\environments\\nlp\\Lib\\site-packages\\numpy\\lib\\function_base.py:518: RuntimeWarning: Mean of empty slice.\n",
      "  avg = a.mean(axis, **keepdims_kw)\n",
      "C:\\Developpement\\environments\\nlp\\Lib\\site-packages\\numpy\\core\\_methods.py:192: RuntimeWarning: invalid value encountered in scalar divide\n",
      "  ret = ret.dtype.type(ret / rcount)\n"
     ]
    },
    {
     "data": {
      "text/plain": "{'overall_precision': 0.0,\n 'overall_recall': 0.0,\n 'overall_f1': 0.0,\n 'overall_accuracy': 1.0}"
     },
     "execution_count": 29,
     "metadata": {},
     "output_type": "execute_result"
    }
   ],
   "source": [
    "labels = [label_list[i] for i in example[f\"{task}_tags\"]]\n",
    "metric.compute(predictions=[labels], references=[labels])"
   ],
   "metadata": {
    "collapsed": false,
    "ExecuteTime": {
     "end_time": "2023-12-29T14:09:32.023890400Z",
     "start_time": "2023-12-29T14:09:31.980606100Z"
    }
   },
   "id": "4c0f2114b0a6931"
  },
  {
   "cell_type": "code",
   "execution_count": 30,
   "outputs": [],
   "source": [
    "import numpy as np\n",
    "\n",
    "def compute_metrics(p):\n",
    "    predictions, labels = p\n",
    "    predictions = np.argmax(predictions, axis=2)\n",
    "\n",
    "    # Remove ignored index (special tokens)\n",
    "    true_predictions = [\n",
    "        [label_list[p] for (p, l) in zip(prediction, label) if l != -100]\n",
    "        for prediction, label in zip(predictions, labels)\n",
    "    ]\n",
    "    true_labels = [\n",
    "        [label_list[l] for (p, l) in zip(prediction, label) if l != -100]\n",
    "        for prediction, label in zip(predictions, labels)\n",
    "    ]\n",
    "\n",
    "    results = metric.compute(predictions=true_predictions, references=true_labels)\n",
    "    return {\n",
    "        \"precision\": results[\"overall_precision\"],\n",
    "        \"recall\": results[\"overall_recall\"],\n",
    "        \"f1\": results[\"overall_f1\"],\n",
    "        \"accuracy\": results[\"overall_accuracy\"],\n",
    "    }"
   ],
   "metadata": {
    "collapsed": false,
    "ExecuteTime": {
     "end_time": "2023-12-29T14:09:32.028454700Z",
     "start_time": "2023-12-29T14:09:32.025890700Z"
    }
   },
   "id": "9999a473af436906"
  },
  {
   "cell_type": "code",
   "execution_count": 31,
   "outputs": [],
   "source": [
    "trainer = Trainer(\n",
    "    model,\n",
    "    args,\n",
    "    train_dataset=tokenized_datasets[\"train\"],\n",
    "    eval_dataset=tokenized_datasets[\"valid\"],\n",
    "    data_collator=data_collator,\n",
    "    tokenizer=tokenizer,\n",
    "    compute_metrics=compute_metrics\n",
    ")"
   ],
   "metadata": {
    "collapsed": false,
    "ExecuteTime": {
     "end_time": "2023-12-29T14:09:32.177141Z",
     "start_time": "2023-12-29T14:09:32.028454700Z"
    }
   },
   "id": "ea7217f2e813c589"
  },
  {
   "cell_type": "code",
   "execution_count": 32,
   "outputs": [
    {
     "name": "stderr",
     "output_type": "stream",
     "text": [
      "You're using a DistilBertTokenizerFast tokenizer. Please note that with a fast tokenizer, using the `__call__` method is faster than using a method to encode the text followed by a call to the `pad` method to get a padded encoding.\n"
     ]
    },
    {
     "data": {
      "text/plain": "<IPython.core.display.HTML object>",
      "text/html": "\n    <div>\n      \n      <progress value='2' max='26829' style='width:300px; height:20px; vertical-align: middle;'></progress>\n      [    2/26829 : < :, Epoch 0.00/3]\n    </div>\n    <table border=\"1\" class=\"dataframe\">\n  <thead>\n <tr style=\"text-align: left;\">\n      <th>Epoch</th>\n      <th>Training Loss</th>\n      <th>Validation Loss</th>\n    </tr>\n  </thead>\n  <tbody>\n  </tbody>\n</table><p>"
     },
     "metadata": {},
     "output_type": "display_data"
    },
    {
     "name": "stderr",
     "output_type": "stream",
     "text": [
      "Checkpoint destination directory models/distilbert-finetuned-token-classification-ner-trip\\checkpoint-500 already exists and is non-empty.Saving will proceed but saved results may be invalid.\n",
      "Checkpoint destination directory models/distilbert-finetuned-token-classification-ner-trip\\checkpoint-1000 already exists and is non-empty.Saving will proceed but saved results may be invalid.\n",
      "Checkpoint destination directory models/distilbert-finetuned-token-classification-ner-trip\\checkpoint-1500 already exists and is non-empty.Saving will proceed but saved results may be invalid.\n",
      "Checkpoint destination directory models/distilbert-finetuned-token-classification-ner-trip\\checkpoint-2000 already exists and is non-empty.Saving will proceed but saved results may be invalid.\n",
      "Checkpoint destination directory models/distilbert-finetuned-token-classification-ner-trip\\checkpoint-2500 already exists and is non-empty.Saving will proceed but saved results may be invalid.\n",
      "Checkpoint destination directory models/distilbert-finetuned-token-classification-ner-trip\\checkpoint-3000 already exists and is non-empty.Saving will proceed but saved results may be invalid.\n",
      "Checkpoint destination directory models/distilbert-finetuned-token-classification-ner-trip\\checkpoint-3500 already exists and is non-empty.Saving will proceed but saved results may be invalid.\n",
      "Checkpoint destination directory models/distilbert-finetuned-token-classification-ner-trip\\checkpoint-4000 already exists and is non-empty.Saving will proceed but saved results may be invalid.\n",
      "Checkpoint destination directory models/distilbert-finetuned-token-classification-ner-trip\\checkpoint-4500 already exists and is non-empty.Saving will proceed but saved results may be invalid.\n",
      "Checkpoint destination directory models/distilbert-finetuned-token-classification-ner-trip\\checkpoint-5000 already exists and is non-empty.Saving will proceed but saved results may be invalid.\n"
     ]
    },
    {
     "data": {
      "text/plain": "TrainOutput(global_step=26829, training_loss=0.008104283635751112, metrics={'train_runtime': 1910.323, 'train_samples_per_second': 224.692, 'train_steps_per_second': 14.044, 'total_flos': 1.0484057556954828e+16, 'train_loss': 0.008104283635751112, 'epoch': 3.0})"
     },
     "execution_count": 32,
     "metadata": {},
     "output_type": "execute_result"
    }
   ],
   "source": [
    "trainer.train()"
   ],
   "metadata": {
    "collapsed": false,
    "ExecuteTime": {
     "end_time": "2023-12-29T14:41:22.583524Z",
     "start_time": "2023-12-29T14:09:32.178141800Z"
    }
   },
   "id": "63bb885915a419f0"
  },
  {
   "cell_type": "code",
   "execution_count": 33,
   "outputs": [],
   "source": [
    "trainer.save_model(\"models/distilbert-finetuned-token-classification-ner-trip\")"
   ],
   "metadata": {
    "collapsed": false,
    "ExecuteTime": {
     "end_time": "2023-12-29T14:41:22.770652800Z",
     "start_time": "2023-12-29T14:41:22.579522Z"
    }
   },
   "id": "7eaced7e31b8d651"
  },
  {
   "cell_type": "code",
   "execution_count": 34,
   "outputs": [
    {
     "data": {
      "text/plain": "<IPython.core.display.HTML object>",
      "text/html": "\n    <div>\n      \n      <progress value='1' max='1118' style='width:300px; height:20px; vertical-align: middle;'></progress>\n      [   1/1118 : < :]\n    </div>\n    "
     },
     "metadata": {},
     "output_type": "display_data"
    },
    {
     "data": {
      "text/plain": "{'eval_loss': 0.0022704906295984983,\n 'eval_precision': 0.9926369075011505,\n 'eval_recall': 0.9931978484271332,\n 'eval_f1': 0.9929172987393421,\n 'eval_accuracy': 0.9992134194303693,\n 'eval_runtime': 25.8485,\n 'eval_samples_per_second': 691.917,\n 'eval_steps_per_second': 43.252,\n 'epoch': 3.0}"
     },
     "execution_count": 34,
     "metadata": {},
     "output_type": "execute_result"
    }
   ],
   "source": [
    "trainer.evaluate()"
   ],
   "metadata": {
    "collapsed": false,
    "ExecuteTime": {
     "end_time": "2023-12-29T14:41:48.630120100Z",
     "start_time": "2023-12-29T14:41:22.771653200Z"
    }
   },
   "id": "a85370c81f8fddc9"
  },
  {
   "cell_type": "code",
   "execution_count": 35,
   "outputs": [
    {
     "data": {
      "text/plain": "{'ARR': {'precision': 0.9935897435897436,\n  'recall': 0.9921443118999127,\n  'f1': 0.9928665016741883,\n  'number': 24059},\n 'DEP': {'precision': 0.9916743755781684,\n  'recall': 0.9942664418212479,\n  'f1': 0.9929687171066481,\n  'number': 23720},\n 'overall_precision': 0.9926369075011505,\n 'overall_recall': 0.9931978484271332,\n 'overall_f1': 0.9929172987393421,\n 'overall_accuracy': 0.9992134194303693}"
     },
     "execution_count": 35,
     "metadata": {},
     "output_type": "execute_result"
    }
   ],
   "source": [
    "predictions, labels, _ = trainer.predict(tokenized_datasets[\"valid\"])\n",
    "predictions = np.argmax(predictions, axis=2)\n",
    "\n",
    "# Remove ignored index (special tokens)\n",
    "true_predictions = [\n",
    "    [label_list[p] for (p, l) in zip(prediction, label) if l != -100]\n",
    "    for prediction, label in zip(predictions, labels)\n",
    "]\n",
    "true_labels = [\n",
    "    [label_list[l] for (p, l) in zip(prediction, label) if l != -100]\n",
    "    for prediction, label in zip(predictions, labels)\n",
    "]\n",
    "\n",
    "results = metric.compute(predictions=true_predictions, references=true_labels)\n",
    "results"
   ],
   "metadata": {
    "collapsed": false,
    "ExecuteTime": {
     "end_time": "2023-12-29T14:42:19.585003300Z",
     "start_time": "2023-12-29T14:41:48.628118900Z"
    }
   },
   "id": "dc4c4522f7c30c60"
  },
  {
   "cell_type": "code",
   "execution_count": 36,
   "outputs": [
    {
     "data": {
      "text/plain": "<IPython.core.display.HTML object>",
      "text/html": "\n    <div>\n      \n      <progress value='1' max='8943' style='width:300px; height:20px; vertical-align: middle;'></progress>\n      [   1/8943 : < :]\n    </div>\n    "
     },
     "metadata": {},
     "output_type": "display_data"
    }
   ],
   "source": [
    "train_metrics = trainer.evaluate(tokenized_datasets[\"train\"])\n",
    "validation_metrics = trainer.evaluate(tokenized_datasets[\"valid\"])"
   ],
   "metadata": {
    "collapsed": false,
    "ExecuteTime": {
     "end_time": "2023-12-29T14:59:30.642887700Z",
     "start_time": "2023-12-29T14:42:19.580499Z"
    }
   },
   "id": "80315144a95e1481"
  },
  {
   "cell_type": "code",
   "execution_count": 51,
   "outputs": [],
   "source": [
    "def gather_outputs(outputs: list) -> list:\n",
    "    # Group entities by their sequence\n",
    "    grouped_entities = []\n",
    "    current_group = []\n",
    "    for entity in outputs:\n",
    "        if not current_group or entity['start'] == current_group[-1]['end']:\n",
    "            current_group.append(entity)\n",
    "        else:\n",
    "            grouped_entities.append(current_group)\n",
    "            current_group = [entity]\n",
    "    \n",
    "    # Append the last group\n",
    "    if current_group:\n",
    "        grouped_entities.append(current_group)\n",
    "    \n",
    "    return grouped_entities\n",
    "\n",
    "def get_locations_from_outputs(sentence: str, outputs: list) -> list:\n",
    "    groups = gather_outputs(outputs)\n",
    "    groups = [{\"group\": group[0][\"entity_group\"], \"city\": sentence[group[0][\"start\"]:group[-1][\"end\"]] } for group in groups]\n",
    "    \n",
    "    # if there is more than one of the same entity group, return groups\n",
    "    if len(set([group[\"group\"] for group in groups])) != len(groups):\n",
    "        return groups\n",
    "    \n",
    "    return sorted(groups, key=lambda group: group[\"group\"], reverse=True)"
   ],
   "metadata": {
    "collapsed": false,
    "ExecuteTime": {
     "end_time": "2023-12-29T15:30:49.620359400Z",
     "start_time": "2023-12-29T15:30:49.618398800Z"
    }
   },
   "id": "46f36e0bef37a8a5"
  },
  {
   "cell_type": "code",
   "execution_count": 52,
   "outputs": [
    {
     "name": "stdout",
     "output_type": "stream",
     "text": [
      "[{'group': 'DEP', 'city': 'Port-Boulet'}, {'group': 'ARR', 'city': 'Le Havre'}]\n",
      "[{'group': 'DEP', 'city': \"'Épierre\"}, {'group': 'ARR', 'city': 'Paris'}]\n",
      "[{'group': 'DEP', 'city': 'Margny-Lès-Compiègne'}, {'group': 'ARR', 'city': 'Saarbrücken'}, {'group': 'ARR', 'city': '/Sarrebruck'}]\n"
     ]
    }
   ],
   "source": [
    "from transformers import pipeline\n",
    "sentences = [\n",
    "    \"Je veux aller de Port-Boulet à Le Havre.\",\n",
    "    \"Peux-tu m'aider à trouver mon chemin vers Paris en partant d'Épierre ?\",\n",
    "    \"Je cherche un moyen d'aller de Margny-Lès-Compiègne à Saarbrücken /Sarrebruck.\"\n",
    "]\n",
    "\n",
    "for sentence in sentences:\n",
    "    token_classifier = pipeline(\"token-classification\", model=\"models/distilbert-finetuned-token-classification-ner-trip\", aggregation_strategy=\"simple\")\n",
    "    outputs = token_classifier(sentence)\n",
    "    print(get_locations_from_outputs(sentence, outputs))"
   ],
   "metadata": {
    "collapsed": false,
    "ExecuteTime": {
     "end_time": "2023-12-29T15:30:50.446100700Z",
     "start_time": "2023-12-29T15:30:50.162035800Z"
    }
   },
   "id": "105eba05962a6a9"
  }
 ],
 "metadata": {
  "kernelspec": {
   "display_name": "Python 3",
   "language": "python",
   "name": "python3"
  },
  "language_info": {
   "codemirror_mode": {
    "name": "ipython",
    "version": 2
   },
   "file_extension": ".py",
   "mimetype": "text/x-python",
   "name": "python",
   "nbconvert_exporter": "python",
   "pygments_lexer": "ipython2",
   "version": "2.7.6"
  }
 },
 "nbformat": 4,
 "nbformat_minor": 5
}
