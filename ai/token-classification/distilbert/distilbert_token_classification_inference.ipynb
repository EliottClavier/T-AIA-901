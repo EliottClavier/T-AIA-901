{
 "cells": [
  {
   "cell_type": "markdown",
   "source": [
    "# A jour selon le notebook distilbert_token_classification_v8.ipynb"
   ],
   "metadata": {
    "collapsed": false
   },
   "id": "ddd1c4574741dd4f"
  },
  {
   "cell_type": "code",
   "execution_count": 1,
   "outputs": [
    {
     "data": {
      "text/plain": "model.safetensors:   0%|          | 0.00/265M [00:00<?, ?B/s]",
      "application/vnd.jupyter.widget-view+json": {
       "version_major": 2,
       "version_minor": 0,
       "model_id": "139bb04851cd40edb5589be0673dcc44"
      }
     },
     "metadata": {},
     "output_type": "display_data"
    }
   ],
   "source": [
    "from transformers import pipeline\n",
    "\n",
    "token_classifier = pipeline(\n",
    "    \"token-classification\", \n",
    "    model=\"EliottClavier/distilbert-finetuned-token-classification-ner-trip\", \n",
    "    aggregation_strategy=\"simple\"\n",
    ")"
   ],
   "metadata": {
    "collapsed": false,
    "ExecuteTime": {
     "end_time": "2024-01-08T20:11:14.348781400Z",
     "start_time": "2024-01-08T20:10:40.053895500Z"
    }
   },
   "id": "84fe832dfba9a5c6"
  },
  {
   "cell_type": "code",
   "execution_count": 2,
   "id": "initial_id",
   "metadata": {
    "collapsed": true,
    "ExecuteTime": {
     "end_time": "2024-01-08T20:11:14.356927400Z",
     "start_time": "2024-01-08T20:11:14.348781400Z"
    }
   },
   "outputs": [],
   "source": [
    "def gather_outputs(outputs: list) -> list:\n",
    "    # Group entities by their sequence\n",
    "    grouped_entities = []\n",
    "    current_group = []\n",
    "    for entity in outputs:\n",
    "        if not current_group or entity['start'] == current_group[-1]['end']:\n",
    "            current_group.append(entity)\n",
    "        else:\n",
    "            grouped_entities.append(current_group)\n",
    "            current_group = [entity]\n",
    "\n",
    "    # Append the last group\n",
    "    if current_group:\n",
    "        grouped_entities.append(current_group)\n",
    "\n",
    "    return grouped_entities\n",
    "\n",
    "def transform_sentence_from_outputs(sentence: str, outputs: list) -> list:\n",
    "    groups = gather_outputs(outputs)\n",
    "    locations = [{\"label\": group[0][\"entity_group\"], \"city\": sentence[\"text\"][group[0][\"start\"]:group[-1][\"end\"]] } for group in groups]\n",
    "    sentence = {\n",
    "        \"id\": str(sentence[\"id\"]),\n",
    "        \"locations\": locations\n",
    "    }\n",
    "\n",
    "    sentence[\"locations\"] = sorted(sentence[\"locations\"], key=lambda group: group[\"label\"], reverse=True)\n",
    "    return sentence\n",
    "\n",
    "def format_sentence_output(sentence_output: list) -> str:\n",
    "    return f\"{sentence_output['id']},{','.join([location['city'] for location in sentence_output['locations']])}\""
   ]
  },
  {
   "cell_type": "code",
   "execution_count": 3,
   "outputs": [
    {
     "name": "stdout",
     "output_type": "stream",
     "text": [
      "1,Port-Boulet,Le Havre\n",
      "2,'Épierre,Paris\n",
      "3,margny-lès-compiègne,Saarbrücken/Sarrebruck\n",
      "4,Nantes,Saint Étienne\n",
      "5,marseille,tours\n",
      "6,Vannes,albi ville\n",
      "7,Metz,Strasbourg\n",
      "8,Lorient,Paris\n",
      "9,Oyonnax,Besançon\n",
      "10,Nantes,Toulouse\n"
     ]
    }
   ],
   "source": [
    "sentences = [\n",
    "    # With a trailing dot, departure has hyphen and arrival is composed of two words\n",
    "    {\"id\": 1, \"text\": \"Je veux aller de Port-Boulet à Le Havre.\"},\n",
    "    # With trailing dot and arrival with a quote\n",
    "    {\"id\": 2, \"text\": \"Peux-tu m'aider à trouver mon chemin vers Paris en partant d'Épierre ?\"},\n",
    "    # With trailing dot, with departure un lower case and arrival composed of two words with a slash\n",
    "    {\"id\": 3, \"text\": \"Je cherche un moyen d'aller de margny-lès-compiègne à Saarbrücken/Sarrebruck.\"},\n",
    "    # With trailing dot, with a prefix and departure without hyphen\n",
    "    {\"id\": 4, \"text\": \"Je veux me rendre chez mon ami Etienne à Saint Étienne depuis Nantes.\"},\n",
    "    # With trailing dot, with a prefix and departure and arrival in lower case\n",
    "    {\"id\": 5, \"text\": \"Je veux aller de la ville de marseille à tours.\"},\n",
    "    # With trailing dot, with a name\n",
    "    {\"id\": 6, \"text\": \"Je veux aller voir Emma qui habite à albi ville en partant de Vannes.\"},\n",
    "    # Without trailing dot, with name + a prefix before departure\n",
    "    {\"id\": 7, \"text\": \"Trouve moi le chemin qui me mène chez David à Strasbourg en partant de la ville de Metz\"},\n",
    "    {\"id\": 8, \"text\": \"Recherche le chemin le plus court entre la ville de Lorient et Paris\"},\n",
    "    {\"id\": 9, \"text\": \"Trouve un itinéraire pour aller à Besançon depuis la ville de Oyonnax.\"},\n",
    "    # Departure à arrival\n",
    "    {\"id\": 10, \"text\": \"Nantes à Toulouse\"},\n",
    "]\n",
    "\n",
    "for sentence in sentences:\n",
    "    outputs = token_classifier(sentence[\"text\"])\n",
    "    print(format_sentence_output(transform_sentence_from_outputs(sentence, outputs)))"
   ],
   "metadata": {
    "collapsed": false,
    "ExecuteTime": {
     "end_time": "2024-01-08T20:11:14.576653200Z",
     "start_time": "2024-01-08T20:11:14.352852900Z"
    }
   },
   "id": "5e9b6d7775c712e3"
  }
 ],
 "metadata": {
  "kernelspec": {
   "display_name": "Python 3",
   "language": "python",
   "name": "python3"
  },
  "language_info": {
   "codemirror_mode": {
    "name": "ipython",
    "version": 2
   },
   "file_extension": ".py",
   "mimetype": "text/x-python",
   "name": "python",
   "nbconvert_exporter": "python",
   "pygments_lexer": "ipython2",
   "version": "2.7.6"
  }
 },
 "nbformat": 4,
 "nbformat_minor": 5
}
