{
 "cells": [
  {
   "cell_type": "code",
   "execution_count": 1,
   "outputs": [],
   "source": [
    "from torch import cuda\n",
    "device = 'cuda' if cuda.is_available() else 'cpu'"
   ],
   "metadata": {
    "collapsed": false,
    "ExecuteTime": {
     "end_time": "2024-01-08T22:13:25.820199700Z",
     "start_time": "2024-01-08T22:13:24.200191700Z"
    }
   },
   "id": "2f2b8d8cca69e93b"
  },
  {
   "cell_type": "code",
   "execution_count": 2,
   "id": "initial_id",
   "metadata": {
    "collapsed": true,
    "ExecuteTime": {
     "end_time": "2024-01-08T22:13:28.814432300Z",
     "start_time": "2024-01-08T22:13:25.821198400Z"
    }
   },
   "outputs": [
    {
     "data": {
      "text/plain": "tokenizer_config.json:   0%|          | 0.00/1.20k [00:00<?, ?B/s]",
      "application/vnd.jupyter.widget-view+json": {
       "version_major": 2,
       "version_minor": 0,
       "model_id": "a5a1fc27155d4e0782d06b1ea7548302"
      }
     },
     "metadata": {},
     "output_type": "display_data"
    },
    {
     "data": {
      "text/plain": "vocab.txt:   0%|          | 0.00/996k [00:00<?, ?B/s]",
      "application/vnd.jupyter.widget-view+json": {
       "version_major": 2,
       "version_minor": 0,
       "model_id": "b83e3e6cde034ac8a26b4a6023dfc7e6"
      }
     },
     "metadata": {},
     "output_type": "display_data"
    },
    {
     "data": {
      "text/plain": "tokenizer.json:   0%|          | 0.00/2.92M [00:00<?, ?B/s]",
      "application/vnd.jupyter.widget-view+json": {
       "version_major": 2,
       "version_minor": 0,
       "model_id": "e469f158698e4a66a665841baabd273b"
      }
     },
     "metadata": {},
     "output_type": "display_data"
    },
    {
     "data": {
      "text/plain": "special_tokens_map.json:   0%|          | 0.00/125 [00:00<?, ?B/s]",
      "application/vnd.jupyter.widget-view+json": {
       "version_major": 2,
       "version_minor": 0,
       "model_id": "99ac68a84dae4bb19ef3cdddd89a5a00"
      }
     },
     "metadata": {},
     "output_type": "display_data"
    }
   ],
   "source": [
    "from transformers import AutoTokenizer\n",
    "\n",
    "tokenizer = AutoTokenizer.from_pretrained(\"EliottClavier/distilbert-finetuned-text-classification-trip\")"
   ]
  },
  {
   "cell_type": "code",
   "execution_count": 3,
   "outputs": [
    {
     "data": {
      "text/plain": "config.json:   0%|          | 0.00/849 [00:00<?, ?B/s]",
      "application/vnd.jupyter.widget-view+json": {
       "version_major": 2,
       "version_minor": 0,
       "model_id": "3c1ad3dee46f4d7bae24e82b10ff4c31"
      }
     },
     "metadata": {},
     "output_type": "display_data"
    },
    {
     "data": {
      "text/plain": "model.safetensors:   0%|          | 0.00/541M [00:00<?, ?B/s]",
      "application/vnd.jupyter.widget-view+json": {
       "version_major": 2,
       "version_minor": 0,
       "model_id": "385db503e6c748f6b438b2e4fd13ac24"
      }
     },
     "metadata": {},
     "output_type": "display_data"
    }
   ],
   "source": [
    "from transformers import AutoModelForSequenceClassification\n",
    "\n",
    "model_test = AutoModelForSequenceClassification.from_pretrained(\"EliottClavier/distilbert-finetuned-text-classification-trip\")"
   ],
   "metadata": {
    "collapsed": false,
    "ExecuteTime": {
     "end_time": "2024-01-08T22:14:02.628506300Z",
     "start_time": "2024-01-08T22:13:28.815432500Z"
    }
   },
   "id": "9c54a782fccad2c0"
  },
  {
   "cell_type": "code",
   "execution_count": 4,
   "outputs": [],
   "source": [
    "# Get IDs to label from loaded model\n",
    "id2label = model_test.config.id2label"
   ],
   "metadata": {
    "collapsed": false,
    "ExecuteTime": {
     "end_time": "2024-01-08T22:14:02.633523600Z",
     "start_time": "2024-01-08T22:14:02.629506800Z"
    }
   },
   "id": "9f926f5167b695d1"
  },
  {
   "cell_type": "code",
   "execution_count": 5,
   "outputs": [
    {
     "name": "stdout",
     "output_type": "stream",
     "text": [
      "1,Je voudrais aller à Paris en partant de Nantes.\n",
      "2,NOT_TRIP\n",
      "3,NOT_FRENCH\n",
      "4,NOT_TRIP\n",
      "5,NOT_TRIP\n",
      "6,UNKNOWN\n"
     ]
    }
   ],
   "source": [
    "import torch\n",
    "import numpy as np\n",
    "\n",
    "sentences = [\n",
    "    {\"id\": 1, \"text\": \"Je voudrais aller à Paris en partant de Nantes.\"},\n",
    "    {\"id\": 2, \"text\": \"Je voudrais aller à Paris en partant de Lyon ou Nantes\"},\n",
    "    {\"id\": 3, \"text\": \"I would like to go to Paris from Lyon\"},\n",
    "    {\"id\": 4, \"text\": \"I like apples\"},\n",
    "    {\"id\": 5, \"text\": \"J'aime me balader dans les rues de Paris\"},\n",
    "    {\"id\": 6, \"text\": \"ze zareazrreaz rzearzear\"}\n",
    "]\n",
    "\n",
    "for sentence in sentences:\n",
    "\n",
    "    # Tokenize the text\n",
    "    inputs = tokenizer(sentence[\"text\"], return_tensors=\"pt\")\n",
    "    \n",
    "    # Make prediction\n",
    "    with torch.no_grad():\n",
    "        outputs = model_test(**inputs)\n",
    "    \n",
    "    # Apply sigmoid + threshold\n",
    "    sigmoid = torch.nn.Sigmoid()\n",
    "    probs = sigmoid(outputs.logits.squeeze().cpu())\n",
    "    predictions = np.zeros(probs.shape)\n",
    "    # Get highest probability index\n",
    "    predictions[probs.argmax()] = 1.0\n",
    "    \n",
    "    # Turn predicted id's into actual label names\n",
    "    predicted_labels = [id2label[idx] for idx, label in enumerate(predictions) if label == 1.0]\n",
    "    sentence[\"prediction\"] = predicted_labels[0]\n",
    "    \n",
    "    if sentence[\"prediction\"] == \"CORRECT\":\n",
    "        print(f\"{sentence['id']},{sentence['text']}\")\n",
    "    else:\n",
    "        print(f\"{sentence['id']},{sentence['prediction']}\")\n"
   ],
   "metadata": {
    "collapsed": false,
    "ExecuteTime": {
     "end_time": "2024-01-08T22:14:02.712885800Z",
     "start_time": "2024-01-08T22:14:02.633523600Z"
    }
   },
   "id": "7b11442f7b77cb44"
  }
 ],
 "metadata": {
  "kernelspec": {
   "display_name": "Python 3",
   "language": "python",
   "name": "python3"
  },
  "language_info": {
   "codemirror_mode": {
    "name": "ipython",
    "version": 2
   },
   "file_extension": ".py",
   "mimetype": "text/x-python",
   "name": "python",
   "nbconvert_exporter": "python",
   "pygments_lexer": "ipython2",
   "version": "2.7.6"
  }
 },
 "nbformat": 4,
 "nbformat_minor": 5
}
