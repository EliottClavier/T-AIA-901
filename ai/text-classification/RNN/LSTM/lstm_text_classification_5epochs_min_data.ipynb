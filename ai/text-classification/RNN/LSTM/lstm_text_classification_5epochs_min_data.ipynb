{
 "cells": [
  {
   "cell_type": "markdown",
   "source": [
    "# RNN - LSTM : 5 epochs and 0.2 of dataset"
   ],
   "metadata": {
    "collapsed": false
   }
  },
  {
   "cell_type": "code",
   "execution_count": 1,
   "metadata": {
    "collapsed": true
   },
   "outputs": [
    {
     "data": {
      "text/plain": "                                                      text  CORRECT  \\\n0        Comment puis-je rejoindre Persan à partir de S...        1   \n1        Je prévois un voyage de VILLEFRANCHE-DE-CONFLE...        1   \n2        Go from the city of Sarlat La Caneda to Souillac.        0   \n3        What is the best way to go from Allamps-Esat t...        0   \n4        zg xqmajyjpfxsvvgycgqd c e  i  y ehgbcf  f e o...        0   \n...                                                    ...      ...   \n1528934         Tom met Mary in the lobby of the building.        0   \n1528935  Trouve un moyen d'atteindre BÉNING-LÈS-SAINT-A...        1   \n1528936  ]r.0j>&{TFQpZ(E\\]\"[$+mFhI/1*'vfL-X0G_x1MY&fn2+...        0   \n1528937  How long had you been sick before you saw the ...        0   \n1528938  eOj=}0$,\\+R4fUJ7qso6/#dK_|Z:)XIpUPGg)k&Z<4^I}'...        0   \n\n         NOT_FRENCH  NOT_TRIP  UNKNOWN  \n0                 0         0        0  \n1                 0         0        0  \n2                 1         0        0  \n3                 1         0        0  \n4                 0         0        1  \n...             ...       ...      ...  \n1528934           1         1        0  \n1528935           0         0        0  \n1528936           0         0        1  \n1528937           1         1        0  \n1528938           0         0        1  \n\n[1528939 rows x 5 columns]",
      "text/html": "<div>\n<style scoped>\n    .dataframe tbody tr th:only-of-type {\n        vertical-align: middle;\n    }\n\n    .dataframe tbody tr th {\n        vertical-align: top;\n    }\n\n    .dataframe thead th {\n        text-align: right;\n    }\n</style>\n<table border=\"1\" class=\"dataframe\">\n  <thead>\n    <tr style=\"text-align: right;\">\n      <th></th>\n      <th>text</th>\n      <th>CORRECT</th>\n      <th>NOT_FRENCH</th>\n      <th>NOT_TRIP</th>\n      <th>UNKNOWN</th>\n    </tr>\n  </thead>\n  <tbody>\n    <tr>\n      <th>0</th>\n      <td>Comment puis-je rejoindre Persan à partir de S...</td>\n      <td>1</td>\n      <td>0</td>\n      <td>0</td>\n      <td>0</td>\n    </tr>\n    <tr>\n      <th>1</th>\n      <td>Je prévois un voyage de VILLEFRANCHE-DE-CONFLE...</td>\n      <td>1</td>\n      <td>0</td>\n      <td>0</td>\n      <td>0</td>\n    </tr>\n    <tr>\n      <th>2</th>\n      <td>Go from the city of Sarlat La Caneda to Souillac.</td>\n      <td>0</td>\n      <td>1</td>\n      <td>0</td>\n      <td>0</td>\n    </tr>\n    <tr>\n      <th>3</th>\n      <td>What is the best way to go from Allamps-Esat t...</td>\n      <td>0</td>\n      <td>1</td>\n      <td>0</td>\n      <td>0</td>\n    </tr>\n    <tr>\n      <th>4</th>\n      <td>zg xqmajyjpfxsvvgycgqd c e  i  y ehgbcf  f e o...</td>\n      <td>0</td>\n      <td>0</td>\n      <td>0</td>\n      <td>1</td>\n    </tr>\n    <tr>\n      <th>...</th>\n      <td>...</td>\n      <td>...</td>\n      <td>...</td>\n      <td>...</td>\n      <td>...</td>\n    </tr>\n    <tr>\n      <th>1528934</th>\n      <td>Tom met Mary in the lobby of the building.</td>\n      <td>0</td>\n      <td>1</td>\n      <td>1</td>\n      <td>0</td>\n    </tr>\n    <tr>\n      <th>1528935</th>\n      <td>Trouve un moyen d'atteindre BÉNING-LÈS-SAINT-A...</td>\n      <td>1</td>\n      <td>0</td>\n      <td>0</td>\n      <td>0</td>\n    </tr>\n    <tr>\n      <th>1528936</th>\n      <td>]r.0j&gt;&amp;{TFQpZ(E\\]\"[$+mFhI/1*'vfL-X0G_x1MY&amp;fn2+...</td>\n      <td>0</td>\n      <td>0</td>\n      <td>0</td>\n      <td>1</td>\n    </tr>\n    <tr>\n      <th>1528937</th>\n      <td>How long had you been sick before you saw the ...</td>\n      <td>0</td>\n      <td>1</td>\n      <td>1</td>\n      <td>0</td>\n    </tr>\n    <tr>\n      <th>1528938</th>\n      <td>eOj=}0$,\\+R4fUJ7qso6/#dK_|Z:)XIpUPGg)k&amp;Z&lt;4^I}'...</td>\n      <td>0</td>\n      <td>0</td>\n      <td>0</td>\n      <td>1</td>\n    </tr>\n  </tbody>\n</table>\n<p>1528939 rows × 5 columns</p>\n</div>"
     },
     "execution_count": 1,
     "metadata": {},
     "output_type": "execute_result"
    }
   ],
   "source": [
    "import os\n",
    "import pandas as pd\n",
    "\n",
    "path = \"data/text_classification/\"\n",
    "\n",
    "# dataset dict with emtpy attribute train\n",
    "dataset = pd.DataFrame()\n",
    "\n",
    "for file in os.listdir(path):\n",
    "    if file.endswith(\".csv\"):\n",
    "        new_data = pd.read_csv(path + file, sep=\";\")\n",
    "        dataset = pd.concat([dataset, new_data], ignore_index=True)\n",
    "\n",
    "dataset"
   ]
  },
  {
   "cell_type": "code",
   "execution_count": 2,
   "outputs": [
    {
     "name": "stdout",
     "output_type": "stream",
     "text": [
      "['CORRECT', 'NOT_FRENCH', 'NOT_TRIP', 'UNKNOWN']\n"
     ]
    }
   ],
   "source": [
    "labels = [label for label in dataset.columns if label not in ['text']]\n",
    "id2label = {i:label for i, label in enumerate(labels)}\n",
    "label2id = {v:k for k,v in id2label.items()}\n",
    "\n",
    "print(labels)"
   ],
   "metadata": {
    "collapsed": false
   }
  },
  {
   "cell_type": "code",
   "execution_count": 3,
   "outputs": [
    {
     "data": {
      "text/plain": "<Figure size 640x480 with 1 Axes>",
      "image/png": "[encoded data removed]"
     },
     "metadata": {},
     "output_type": "display_data"
    }
   ],
   "source": [
    "import matplotlib.pyplot as plt\n",
    "\n",
    "plt.bar(labels, [sum(dataset[label]) for label in labels])\n",
    "plt.show()"
   ],
   "metadata": {
    "collapsed": false
   }
  },
  {
   "cell_type": "code",
   "execution_count": 4,
   "outputs": [
    {
     "name": "stdout",
     "output_type": "stream",
     "text": [
      "(244630,) (30579,) (30579,)\n",
      "(244630, 4) (30579, 4) (30579, 4)\n"
     ]
    }
   ],
   "source": [
    "from sklearn.model_selection import train_test_split\n",
    "# Shuffle train dataset, and pick 50% of it\n",
    "dataset = dataset.sample(frac=0.2, random_state=0)\n",
    "X_train = dataset['text']\n",
    "y_train = dataset[labels]\n",
    "\n",
    "# To check how vectorizer works without UNKNOWN words being isolated\n",
    "X_train_without_unknown = dataset[dataset['UNKNOWN'] == 0]['text']\n",
    "y_train_without_unknown = dataset[dataset['UNKNOWN'] == 0][labels]\n",
    "\n",
    "# Split test dataset into 10% validation and 10% test\n",
    "X_train, X_test, y_train, y_test = train_test_split(X_train, y_train, test_size=0.2)\n",
    "X_test, X_val, y_test, y_val = train_test_split(X_test, y_test, test_size=0.5)\n",
    "\n",
    "print(X_train.shape, X_test.shape, X_val.shape)\n",
    "print(y_train.shape, y_test.shape, y_val.shape)"
   ],
   "metadata": {
    "collapsed": false
   }
  },
  {
   "cell_type": "code",
   "execution_count": 5,
   "outputs": [],
   "source": [
    "from tensorflow.keras.preprocessing.text import Tokenizer\n",
    "from tensorflow.keras.preprocessing.sequence import pad_sequences\n",
    "\n",
    "# Paramètres de tokenisation\n",
    "vocab_size = 20000  # Choisissez une taille adaptée à votre vocabulaire\n",
    "max_length = 100    # Longueur maximale des séquences\n",
    "\n",
    "# Initialisation du tokenizer\n",
    "tokenizer = Tokenizer(num_words=vocab_size, oov_token=\"<OOV>\")\n",
    "tokenizer.fit_on_texts(X_train)\n",
    "\n",
    "# Conversion des textes en séquences de tokens\n",
    "X_train_sequences = tokenizer.texts_to_sequences(X_train)\n",
    "X_test_sequences = tokenizer.texts_to_sequences(X_test)\n",
    "X_val_sequences = tokenizer.texts_to_sequences(X_val)\n",
    "\n",
    "# Padding des séquences pour qu'elles aient la même longueur\n",
    "X_train_padded = pad_sequences(X_train_sequences, maxlen=max_length)\n",
    "X_test_padded = pad_sequences(X_test_sequences, maxlen=max_length)\n",
    "X_val_padded = pad_sequences(X_val_sequences, maxlen=max_length)"
   ],
   "metadata": {
    "collapsed": false
   }
  },
  {
   "cell_type": "code",
   "execution_count": 6,
   "outputs": [
    {
     "name": "stdout",
     "output_type": "stream",
     "text": [
      "Model: \"sequential\"\n",
      "_________________________________________________________________\n",
      " Layer (type)                Output Shape              Param #   \n",
      "=================================================================\n",
      " embedding (Embedding)       (None, 100, 128)          2560000   \n",
      "                                                                 \n",
      " lstm (LSTM)                 (None, 64)                49408     \n",
      "                                                                 \n",
      " dense (Dense)               (None, 4)                 260       \n",
      "                                                                 \n",
      "=================================================================\n",
      "Total params: 2,609,668\n",
      "Trainable params: 2,609,668\n",
      "Non-trainable params: 0\n",
      "_________________________________________________________________\n"
     ]
    }
   ],
   "source": [
    "from tensorflow.keras.models import Sequential\n",
    "from tensorflow.keras.layers import Embedding, LSTM, Dense\n",
    "\n",
    "# Paramètres du modèle\n",
    "vocab_size = 20000  # Taille de votre vocabulaire\n",
    "max_length = 100    # Longueur maximale des séquences\n",
    "embedding_dim = 128  # Dimension de l'embedding\n",
    "lstm_units = 64      # Nombre d'unités dans la couche LSTM\n",
    "\n",
    "# Construction du modèle\n",
    "model = Sequential()\n",
    "model.add(Embedding(vocab_size, embedding_dim, input_length=max_length))\n",
    "model.add(LSTM(lstm_units))\n",
    "model.add(Dense(4, activation='sigmoid'))  # Ajustez à 4 (ou au nombre de labels dans votre tâche)\n",
    "\n",
    "# Compilation du modèle\n",
    "model.compile(optimizer='adam', loss='binary_crossentropy', metrics=['accuracy'])\n",
    "\n",
    "# Résumé du modèle\n",
    "model.summary()\n"
   ],
   "metadata": {
    "collapsed": false
   }
  },
  {
   "cell_type": "code",
   "execution_count": 7,
   "outputs": [
    {
     "name": "stdout",
     "output_type": "stream",
     "text": [
      "Epoch 1/5\n",
      "7645/7645 [==============================] - 161s 20ms/step - loss: 0.0179 - accuracy: 0.8933 - val_loss: 0.0037 - val_accuracy: 0.8453\n",
      "Epoch 2/5\n",
      "7645/7645 [==============================] - 154s 20ms/step - loss: 0.0015 - accuracy: 0.8525 - val_loss: 8.5342e-04 - val_accuracy: 0.8475\n",
      "Epoch 3/5\n",
      "7645/7645 [==============================] - 176s 23ms/step - loss: 7.7332e-04 - accuracy: 0.8513 - val_loss: 9.4700e-04 - val_accuracy: 0.8684\n",
      "Epoch 4/5\n",
      "7645/7645 [==============================] - 165s 22ms/step - loss: 5.5986e-04 - accuracy: 0.8521 - val_loss: 0.0028 - val_accuracy: 0.8606\n",
      "Epoch 5/5\n",
      "7645/7645 [==============================] - 153s 20ms/step - loss: 4.3990e-04 - accuracy: 0.8474 - val_loss: 0.0010 - val_accuracy: 0.8672\n"
     ]
    },
    {
     "data": {
      "text/plain": "<keras.callbacks.History at 0x1ef106caf40>"
     },
     "execution_count": 7,
     "metadata": {},
     "output_type": "execute_result"
    }
   ],
   "source": [
    "num_epochs = 5\n",
    "model.fit(X_train_padded, y_train, epochs=num_epochs, validation_data=(X_val_padded, y_val))\n"
   ],
   "metadata": {
    "collapsed": false
   }
  },
  {
   "cell_type": "code",
   "execution_count": 8,
   "outputs": [
    {
     "name": "stdout",
     "output_type": "stream",
     "text": [
      "956/956 [==============================] - 8s 7ms/step\n",
      "              precision    recall  f1-score   support\n",
      "\n",
      "     CORRECT       1.00      1.00      1.00      9136\n",
      "  NOT_FRENCH       1.00      1.00      1.00      8240\n",
      "    NOT_TRIP       1.00      1.00      1.00      9709\n",
      "     UNKNOWN       1.00      1.00      1.00      9307\n",
      "\n",
      "   micro avg       1.00      1.00      1.00     36392\n",
      "   macro avg       1.00      1.00      1.00     36392\n",
      "weighted avg       1.00      1.00      1.00     36392\n",
      " samples avg       1.00      1.00      1.00     36392\n",
      "\n"
     ]
    },
    {
     "name": "stderr",
     "output_type": "stream",
     "text": [
      "C:\\Users\\nathp\\anaconda3\\lib\\site-packages\\sklearn\\metrics\\_classification.py:1318: UndefinedMetricWarning: Precision and F-score are ill-defined and being set to 0.0 in samples with no predicted labels. Use `zero_division` parameter to control this behavior.\n",
      "  _warn_prf(average, modifier, msg_start, len(result))\n"
     ]
    }
   ],
   "source": [
    "from sklearn.metrics import classification_report\n",
    "\n",
    "y_pred = model.predict(X_test_padded)\n",
    "threshold = 0.5\n",
    "y_pred_binary = (y_pred > threshold).astype(int)\n",
    "\n",
    "print(classification_report(y_test, y_pred_binary, target_names=labels))"
   ],
   "metadata": {
    "collapsed": false
   }
  },
  {
   "cell_type": "code",
   "execution_count": 9,
   "outputs": [
    {
     "name": "stdout",
     "output_type": "stream",
     "text": [
      "Distribution des labels dans l'ensemble d'entraînement :\n",
      "CORRECT       72909\n",
      "NOT_FRENCH    66332\n",
      "NOT_TRIP      78350\n",
      "UNKNOWN       73602\n",
      "dtype: int64\n",
      "\n",
      "Distribution des labels dans l'ensemble de test :\n",
      "CORRECT       9136\n",
      "NOT_FRENCH    8240\n",
      "NOT_TRIP      9709\n",
      "UNKNOWN       9307\n",
      "dtype: int64\n"
     ]
    }
   ],
   "source": [
    "print(\"Distribution des labels dans l'ensemble d'entraînement :\")\n",
    "print(y_train.sum(axis=0))  # Somme pour chaque label dans y_train\n",
    "\n",
    "print(\"\\nDistribution des labels dans l'ensemble de test :\")\n",
    "print(y_test.sum(axis=0))   # Somme pour chaque label dans y_test\n"
   ],
   "metadata": {
    "collapsed": false
   }
  },
  {
   "cell_type": "code",
   "execution_count": 10,
   "outputs": [
    {
     "name": "stderr",
     "output_type": "stream",
     "text": [
      "C:\\Users\\nathp\\anaconda3\\lib\\site-packages\\sklearn\\metrics\\_classification.py:1318: UndefinedMetricWarning: Precision and F-score are ill-defined and being set to 0.0 in samples with no predicted labels. Use `zero_division` parameter to control this behavior.\n",
      "  _warn_prf(average, modifier, msg_start, len(result))\n"
     ]
    },
    {
     "name": "stdout",
     "output_type": "stream",
     "text": [
      "Seuil: 0.1\n",
      "              precision    recall  f1-score   support\n",
      "\n",
      "     CORRECT       1.00      1.00      1.00      9136\n",
      "  NOT_FRENCH       1.00      1.00      1.00      8240\n",
      "    NOT_TRIP       1.00      1.00      1.00      9709\n",
      "     UNKNOWN       1.00      1.00      1.00      9307\n",
      "\n",
      "   micro avg       1.00      1.00      1.00     36392\n",
      "   macro avg       1.00      1.00      1.00     36392\n",
      "weighted avg       1.00      1.00      1.00     36392\n",
      " samples avg       1.00      1.00      1.00     36392\n",
      "\n",
      "Seuil: 0.2\n",
      "              precision    recall  f1-score   support\n",
      "\n",
      "     CORRECT       1.00      1.00      1.00      9136\n",
      "  NOT_FRENCH       1.00      1.00      1.00      8240\n",
      "    NOT_TRIP       1.00      1.00      1.00      9709\n",
      "     UNKNOWN       1.00      1.00      1.00      9307\n",
      "\n",
      "   micro avg       1.00      1.00      1.00     36392\n",
      "   macro avg       1.00      1.00      1.00     36392\n",
      "weighted avg       1.00      1.00      1.00     36392\n",
      " samples avg       1.00      1.00      1.00     36392\n",
      "\n",
      "Seuil: 0.30000000000000004\n",
      "              precision    recall  f1-score   support\n",
      "\n",
      "     CORRECT       1.00      1.00      1.00      9136\n",
      "  NOT_FRENCH       1.00      1.00      1.00      8240\n",
      "    NOT_TRIP       1.00      1.00      1.00      9709\n",
      "     UNKNOWN       1.00      1.00      1.00      9307\n",
      "\n",
      "   micro avg       1.00      1.00      1.00     36392\n",
      "   macro avg       1.00      1.00      1.00     36392\n",
      "weighted avg       1.00      1.00      1.00     36392\n",
      " samples avg       1.00      1.00      1.00     36392\n",
      "\n",
      "Seuil: 0.4\n",
      "              precision    recall  f1-score   support\n",
      "\n",
      "     CORRECT       1.00      1.00      1.00      9136\n",
      "  NOT_FRENCH       1.00      1.00      1.00      8240\n",
      "    NOT_TRIP       1.00      1.00      1.00      9709\n",
      "     UNKNOWN       1.00      1.00      1.00      9307\n",
      "\n",
      "   micro avg       1.00      1.00      1.00     36392\n",
      "   macro avg       1.00      1.00      1.00     36392\n",
      "weighted avg       1.00      1.00      1.00     36392\n",
      " samples avg       1.00      1.00      1.00     36392\n",
      "\n",
      "Seuil: 0.5\n",
      "              precision    recall  f1-score   support\n",
      "\n",
      "     CORRECT       1.00      1.00      1.00      9136\n",
      "  NOT_FRENCH       1.00      1.00      1.00      8240\n",
      "    NOT_TRIP       1.00      1.00      1.00      9709\n",
      "     UNKNOWN       1.00      1.00      1.00      9307\n",
      "\n",
      "   micro avg       1.00      1.00      1.00     36392\n",
      "   macro avg       1.00      1.00      1.00     36392\n",
      "weighted avg       1.00      1.00      1.00     36392\n",
      " samples avg       1.00      1.00      1.00     36392\n",
      "\n",
      "Seuil: 0.6\n",
      "              precision    recall  f1-score   support\n",
      "\n",
      "     CORRECT       1.00      1.00      1.00      9136\n",
      "  NOT_FRENCH       1.00      1.00      1.00      8240\n",
      "    NOT_TRIP       1.00      1.00      1.00      9709\n",
      "     UNKNOWN       1.00      1.00      1.00      9307\n",
      "\n",
      "   micro avg       1.00      1.00      1.00     36392\n",
      "   macro avg       1.00      1.00      1.00     36392\n",
      "weighted avg       1.00      1.00      1.00     36392\n",
      " samples avg       1.00      1.00      1.00     36392\n",
      "\n",
      "Seuil: 0.7000000000000001\n",
      "              precision    recall  f1-score   support\n",
      "\n",
      "     CORRECT       1.00      1.00      1.00      9136\n",
      "  NOT_FRENCH       1.00      1.00      1.00      8240\n",
      "    NOT_TRIP       1.00      1.00      1.00      9709\n",
      "     UNKNOWN       1.00      1.00      1.00      9307\n",
      "\n",
      "   micro avg       1.00      1.00      1.00     36392\n",
      "   macro avg       1.00      1.00      1.00     36392\n",
      "weighted avg       1.00      1.00      1.00     36392\n",
      " samples avg       1.00      1.00      1.00     36392\n",
      "\n",
      "Seuil: 0.8\n"
     ]
    },
    {
     "name": "stderr",
     "output_type": "stream",
     "text": [
      "C:\\Users\\nathp\\anaconda3\\lib\\site-packages\\sklearn\\metrics\\_classification.py:1318: UndefinedMetricWarning: Precision and F-score are ill-defined and being set to 0.0 in samples with no predicted labels. Use `zero_division` parameter to control this behavior.\n",
      "  _warn_prf(average, modifier, msg_start, len(result))\n",
      "C:\\Users\\nathp\\anaconda3\\lib\\site-packages\\sklearn\\metrics\\_classification.py:1318: UndefinedMetricWarning: Precision and F-score are ill-defined and being set to 0.0 in samples with no predicted labels. Use `zero_division` parameter to control this behavior.\n",
      "  _warn_prf(average, modifier, msg_start, len(result))\n",
      "C:\\Users\\nathp\\anaconda3\\lib\\site-packages\\sklearn\\metrics\\_classification.py:1318: UndefinedMetricWarning: Precision and F-score are ill-defined and being set to 0.0 in samples with no predicted labels. Use `zero_division` parameter to control this behavior.\n",
      "  _warn_prf(average, modifier, msg_start, len(result))\n",
      "C:\\Users\\nathp\\anaconda3\\lib\\site-packages\\sklearn\\metrics\\_classification.py:1318: UndefinedMetricWarning: Precision and F-score are ill-defined and being set to 0.0 in samples with no predicted labels. Use `zero_division` parameter to control this behavior.\n",
      "  _warn_prf(average, modifier, msg_start, len(result))\n",
      "C:\\Users\\nathp\\anaconda3\\lib\\site-packages\\sklearn\\metrics\\_classification.py:1318: UndefinedMetricWarning: Precision and F-score are ill-defined and being set to 0.0 in samples with no predicted labels. Use `zero_division` parameter to control this behavior.\n",
      "  _warn_prf(average, modifier, msg_start, len(result))\n"
     ]
    },
    {
     "name": "stdout",
     "output_type": "stream",
     "text": [
      "              precision    recall  f1-score   support\n",
      "\n",
      "     CORRECT       1.00      1.00      1.00      9136\n",
      "  NOT_FRENCH       1.00      1.00      1.00      8240\n",
      "    NOT_TRIP       1.00      1.00      1.00      9709\n",
      "     UNKNOWN       1.00      1.00      1.00      9307\n",
      "\n",
      "   micro avg       1.00      1.00      1.00     36392\n",
      "   macro avg       1.00      1.00      1.00     36392\n",
      "weighted avg       1.00      1.00      1.00     36392\n",
      " samples avg       1.00      1.00      1.00     36392\n",
      "\n"
     ]
    },
    {
     "name": "stderr",
     "output_type": "stream",
     "text": [
      "C:\\Users\\nathp\\anaconda3\\lib\\site-packages\\sklearn\\metrics\\_classification.py:1318: UndefinedMetricWarning: Precision and F-score are ill-defined and being set to 0.0 in samples with no predicted labels. Use `zero_division` parameter to control this behavior.\n",
      "  _warn_prf(average, modifier, msg_start, len(result))\n"
     ]
    }
   ],
   "source": [
    "from sklearn.metrics import classification_report\n",
    "import numpy as np\n",
    "\n",
    "for threshold in np.arange(0.1, 0.9, 0.1):\n",
    "    y_pred_binary = (y_pred > threshold).astype(int)\n",
    "    print(f\"Seuil: {threshold}\")\n",
    "    print(classification_report(y_test, y_pred_binary, target_names=labels))\n"
   ],
   "metadata": {
    "collapsed": false
   }
  },
  {
   "cell_type": "code",
   "execution_count": 11,
   "outputs": [
    {
     "name": "stdout",
     "output_type": "stream",
     "text": [
      "Vrai label: [0, 1, 1, 0]\n",
      "Prédiction: [0 1 1 0]\n",
      "\n",
      "Vrai label: [1, 0, 0, 0]\n",
      "Prédiction: [1 0 0 0]\n",
      "\n",
      "Vrai label: [0, 1, 1, 0]\n",
      "Prédiction: [0 1 1 0]\n",
      "\n",
      "Vrai label: [0, 0, 1, 0]\n",
      "Prédiction: [0 0 1 0]\n",
      "\n",
      "Vrai label: [0, 0, 0, 1]\n",
      "Prédiction: [0 0 0 1]\n",
      "\n",
      "Vrai label: [0, 0, 0, 1]\n",
      "Prédiction: [0 0 0 1]\n",
      "\n",
      "Vrai label: [0, 0, 0, 1]\n",
      "Prédiction: [0 0 0 1]\n",
      "\n",
      "Vrai label: [1, 0, 0, 0]\n",
      "Prédiction: [1 0 0 0]\n",
      "\n",
      "Vrai label: [1, 0, 0, 0]\n",
      "Prédiction: [1 0 0 0]\n",
      "\n",
      "Vrai label: [1, 0, 0, 0]\n",
      "Prédiction: [1 0 0 0]\n",
      "\n"
     ]
    }
   ],
   "source": [
    "indices = np.random.choice(range(len(y_test)), 10, replace=False)  # Choisir 10 échantillons au hasard\n",
    "for i in indices:\n",
    "    print(\"Vrai label:\", y_test.iloc[i].to_list())\n",
    "    print(\"Prédiction:\", y_pred_binary[i])\n",
    "    print()\n"
   ],
   "metadata": {
    "collapsed": false
   }
  },
  {
   "cell_type": "code",
   "execution_count": 12,
   "outputs": [
    {
     "data": {
      "text/plain": "<Figure size 640x480 with 2 Axes>",
      "image/png": "[encoded data removed]"
     },
     "metadata": {},
     "output_type": "display_data"
    }
   ],
   "source": [
    "import seaborn as sns\n",
    "from sklearn.metrics import confusion_matrix\n",
    "\n",
    "cm = confusion_matrix(y_test.values.argmax(axis=1), y_pred.argmax(axis=1))\n",
    "sns.heatmap(cm, annot=True, cmap='Blues', fmt='g', xticklabels=labels, yticklabels=labels)\n",
    "plt.xlabel('Predicted labels')\n",
    "plt.ylabel('True labels')\n",
    "plt.title('Confusion Matrix')\n",
    "plt.show()"
   ],
   "metadata": {
    "collapsed": false
   }
  },
  {
   "cell_type": "code",
   "execution_count": 13,
   "outputs": [
    {
     "data": {
      "text/plain": "<Figure size 1000x1000 with 1 Axes>",
      "image/png": "[encoded data removed]"
     },
     "metadata": {},
     "output_type": "display_data"
    }
   ],
   "source": [
    "from sklearn.metrics import roc_curve, auc\n",
    "\n",
    "fpr = dict()\n",
    "tpr = dict()\n",
    "roc_auc = dict()\n",
    "\n",
    "for i in range(len(labels)):\n",
    "    fpr[i], tpr[i], _ = roc_curve(y_test.values[:, i], y_pred[:, i])\n",
    "    roc_auc[i] = auc(fpr[i], tpr[i])\n",
    "\n",
    "plt.figure(figsize=(10, 10))\n",
    "\n",
    "for i in range(len(labels)):\n",
    "    plt.plot(fpr[i], tpr[i], label=f\"{labels[i]} (AUC = {roc_auc[i]:.2f})\")\n",
    "\n",
    "plt.plot([0, 1], [0, 1], 'k--')\n",
    "plt.xlabel('False Positive Rate')\n",
    "plt.ylabel('True Positive Rate')\n",
    "plt.title('ROC Curves')\n",
    "plt.legend()\n",
    "plt.show()"
   ],
   "metadata": {
    "collapsed": false
   }
  },
  {
   "cell_type": "code",
   "execution_count": 14,
   "outputs": [
    {
     "name": "stdout",
     "output_type": "stream",
     "text": [
      "1/1 [==============================] - 0s 47ms/step\n",
      "Text: Je veux aller au cinéma\n",
      "Predicted labels:\n",
      " - CORRECT: 0.0%\n",
      " - NOT_FRENCH: 0.01%\n",
      " - NOT_TRIP: 100.0%\n",
      " - UNKNOWN: 0.0%\n",
      "Text: Je veux aller du cinéma au restaurant\n",
      "Predicted labels:\n",
      " - CORRECT: 0.0%\n",
      " - NOT_FRENCH: 0.0%\n",
      " - NOT_TRIP: 100.0%\n",
      " - UNKNOWN: 0.0%\n",
      "Text: I'd like to go from the cinema to the restaurant\n",
      "Predicted labels:\n",
      " - CORRECT: 0.0%\n",
      " - NOT_FRENCH: 100.0%\n",
      " - NOT_TRIP: 76.56%\n",
      " - UNKNOWN: 0.0%\n",
      "Text: I'd like to Paris from Nanterre\n",
      "Predicted labels:\n",
      " - CORRECT: 0.0%\n",
      " - NOT_FRENCH: 100.0%\n",
      " - NOT_TRIP: 97.04%\n",
      " - UNKNOWN: 0.0%\n",
      "Text: zaeazea eaz e:az e,az e\"zahoiplù;!:gf\n",
      "Predicted labels:\n",
      " - CORRECT: 0.0%\n",
      " - NOT_FRENCH: 0.07%\n",
      " - NOT_TRIP: 0.0%\n",
      " - UNKNOWN: 99.99%\n",
      "Text: J'aimerais me rendre de Nanterre à Paris\n",
      "Predicted labels:\n",
      " - CORRECT: 52.36%\n",
      " - NOT_FRENCH: 0.0%\n",
      " - NOT_TRIP: 36.75%\n",
      " - UNKNOWN: 0.0%\n",
      "Text: Je veux aller de Le Havre à Port-Boulet\n",
      "Predicted labels:\n",
      " - CORRECT: 1.77%\n",
      " - NOT_FRENCH: 0.0%\n",
      " - NOT_TRIP: 98.79%\n",
      " - UNKNOWN: 0.01%\n",
      "Text: Nantes à Toulouse\n",
      "Predicted labels:\n",
      " - CORRECT: 0.0%\n",
      " - NOT_FRENCH: 0.01%\n",
      " - NOT_TRIP: 100.0%\n",
      " - UNKNOWN: 0.0%\n",
      "Text: Dirige moi vers Lyon depuis Saint-Étienne.\n",
      "Predicted labels:\n",
      " - CORRECT: 100.0%\n",
      " - NOT_FRENCH: 0.0%\n",
      " - NOT_TRIP: 0.0%\n",
      " - UNKNOWN: 0.0%\n",
      "Text: Trouve moi un itinéraire pour aller chez Emma de Paris à Marseille\n",
      "Predicted labels:\n",
      " - CORRECT: 100.0%\n",
      " - NOT_FRENCH: 0.0%\n",
      " - NOT_TRIP: 0.0%\n",
      " - UNKNOWN: 0.0%\n"
     ]
    }
   ],
   "source": [
    "new_texts = [\n",
    "    \"Je veux aller au cinéma\",\n",
    "    \"Je veux aller du cinéma au restaurant\",\n",
    "    \"I'd like to go from the cinema to the restaurant\",\n",
    "    \"I'd like to Paris from Nanterre\",\n",
    "    \"zaeazea eaz e:az e,az e\\\"zahoiplù;!:gf\",\n",
    "    \"J'aimerais me rendre de Nanterre à Paris\",\n",
    "    \"Je veux aller de Le Havre à Port-Boulet\",\n",
    "    \"Nantes à Toulouse\",\n",
    "    \"Dirige moi vers Lyon depuis Saint-Étienne.\",\n",
    "    \"Trouve moi un itinéraire pour aller chez Emma de Paris à Marseille\",\n",
    "]\n",
    "new_texts_sequences = tokenizer.texts_to_sequences(new_texts)\n",
    "new_texts_padded = pad_sequences(new_texts_sequences, maxlen=max_length)\n",
    "\n",
    "predicted_labels = model.predict(new_texts_padded)\n",
    "\n",
    "# Affichage des labels prédits\n",
    "for i, text in enumerate(new_texts):\n",
    "    print(f\"Text: {text}\")\n",
    "    print(\"Predicted labels:\")\n",
    "    for j, label in enumerate(labels):\n",
    "        print(f\" - {label}: {round(predicted_labels[i][j] * 100, 2)}%\")\n"
   ],
   "metadata": {
    "collapsed": false
   }
  },
  {
   "cell_type": "code",
   "execution_count": 14,
   "outputs": [],
   "source": [],
   "metadata": {
    "collapsed": false
   }
  }
 ],
 "metadata": {
  "kernelspec": {
   "display_name": "Python 3",
   "language": "python",
   "name": "python3"
  },
  "language_info": {
   "codemirror_mode": {
    "name": "ipython",
    "version": 2
   },
   "file_extension": ".py",
   "mimetype": "text/x-python",
   "name": "python",
   "nbconvert_exporter": "python",
   "pygments_lexer": "ipython2",
   "version": "2.7.6"
  }
 },
 "nbformat": 4,
 "nbformat_minor": 0
}
