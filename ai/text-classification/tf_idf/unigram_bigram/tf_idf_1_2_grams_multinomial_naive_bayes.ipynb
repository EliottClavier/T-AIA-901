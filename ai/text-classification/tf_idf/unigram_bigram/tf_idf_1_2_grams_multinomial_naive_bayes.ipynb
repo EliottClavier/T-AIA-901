{
 "cells": [
  {
   "cell_type": "markdown",
   "source": [
    "# Vectorisation 1-gram et 2-gram TF-IDF avec CountVectorizer et classification avec MultinomialNB"
   ],
   "metadata": {
    "collapsed": false
   },
   "id": "be20d48902a27c5"
  },
  {
   "cell_type": "code",
   "execution_count": 1,
   "id": "initial_id",
   "metadata": {
    "collapsed": true,
    "ExecuteTime": {
     "end_time": "2024-01-07T17:50:16.454590300Z",
     "start_time": "2024-01-07T17:50:15.088109Z"
    }
   },
   "outputs": [
    {
     "data": {
      "text/plain": "                                                      text  CORRECT  \\\n0        Comment puis-je rejoindre Persan à partir de S...        1   \n1        Je prévois un voyage de VILLEFRANCHE-DE-CONFLE...        1   \n2        Go from the city of Sarlat La Caneda to Souillac.        0   \n3        What is the best way to go from Allamps-Esat t...        0   \n4        zg xqmajyjpfxsvvgycgqd c e  i  y ehgbcf  f e o...        0   \n...                                                    ...      ...   \n1528934         Tom met Mary in the lobby of the building.        0   \n1528935  Trouve un moyen d'atteindre BÉNING-LÈS-SAINT-A...        1   \n1528936  ]r.0j>&{TFQpZ(E\\]\"[$+mFhI/1*'vfL-X0G_x1MY&fn2+...        0   \n1528937  How long had you been sick before you saw the ...        0   \n1528938  eOj=}0$,\\+R4fUJ7qso6/#dK_|Z:)XIpUPGg)k&Z<4^I}'...        0   \n\n         NOT_FRENCH  NOT_TRIP  UNKNOWN  \n0                 0         0        0  \n1                 0         0        0  \n2                 1         0        0  \n3                 1         0        0  \n4                 0         0        1  \n...             ...       ...      ...  \n1528934           1         1        0  \n1528935           0         0        0  \n1528936           0         0        1  \n1528937           1         1        0  \n1528938           0         0        1  \n\n[1528939 rows x 5 columns]",
      "text/html": "<div>\n<style scoped>\n    .dataframe tbody tr th:only-of-type {\n        vertical-align: middle;\n    }\n\n    .dataframe tbody tr th {\n        vertical-align: top;\n    }\n\n    .dataframe thead th {\n        text-align: right;\n    }\n</style>\n<table border=\"1\" class=\"dataframe\">\n  <thead>\n    <tr style=\"text-align: right;\">\n      <th></th>\n      <th>text</th>\n      <th>CORRECT</th>\n      <th>NOT_FRENCH</th>\n      <th>NOT_TRIP</th>\n      <th>UNKNOWN</th>\n    </tr>\n  </thead>\n  <tbody>\n    <tr>\n      <th>0</th>\n      <td>Comment puis-je rejoindre Persan à partir de S...</td>\n      <td>1</td>\n      <td>0</td>\n      <td>0</td>\n      <td>0</td>\n    </tr>\n    <tr>\n      <th>1</th>\n      <td>Je prévois un voyage de VILLEFRANCHE-DE-CONFLE...</td>\n      <td>1</td>\n      <td>0</td>\n      <td>0</td>\n      <td>0</td>\n    </tr>\n    <tr>\n      <th>2</th>\n      <td>Go from the city of Sarlat La Caneda to Souillac.</td>\n      <td>0</td>\n      <td>1</td>\n      <td>0</td>\n      <td>0</td>\n    </tr>\n    <tr>\n      <th>3</th>\n      <td>What is the best way to go from Allamps-Esat t...</td>\n      <td>0</td>\n      <td>1</td>\n      <td>0</td>\n      <td>0</td>\n    </tr>\n    <tr>\n      <th>4</th>\n      <td>zg xqmajyjpfxsvvgycgqd c e  i  y ehgbcf  f e o...</td>\n      <td>0</td>\n      <td>0</td>\n      <td>0</td>\n      <td>1</td>\n    </tr>\n    <tr>\n      <th>...</th>\n      <td>...</td>\n      <td>...</td>\n      <td>...</td>\n      <td>...</td>\n      <td>...</td>\n    </tr>\n    <tr>\n      <th>1528934</th>\n      <td>Tom met Mary in the lobby of the building.</td>\n      <td>0</td>\n      <td>1</td>\n      <td>1</td>\n      <td>0</td>\n    </tr>\n    <tr>\n      <th>1528935</th>\n      <td>Trouve un moyen d'atteindre BÉNING-LÈS-SAINT-A...</td>\n      <td>1</td>\n      <td>0</td>\n      <td>0</td>\n      <td>0</td>\n    </tr>\n    <tr>\n      <th>1528936</th>\n      <td>]r.0j&gt;&amp;{TFQpZ(E\\]\"[$+mFhI/1*'vfL-X0G_x1MY&amp;fn2+...</td>\n      <td>0</td>\n      <td>0</td>\n      <td>0</td>\n      <td>1</td>\n    </tr>\n    <tr>\n      <th>1528937</th>\n      <td>How long had you been sick before you saw the ...</td>\n      <td>0</td>\n      <td>1</td>\n      <td>1</td>\n      <td>0</td>\n    </tr>\n    <tr>\n      <th>1528938</th>\n      <td>eOj=}0$,\\+R4fUJ7qso6/#dK_|Z:)XIpUPGg)k&amp;Z&lt;4^I}'...</td>\n      <td>0</td>\n      <td>0</td>\n      <td>0</td>\n      <td>1</td>\n    </tr>\n  </tbody>\n</table>\n<p>1528939 rows × 5 columns</p>\n</div>"
     },
     "execution_count": 1,
     "metadata": {},
     "output_type": "execute_result"
    }
   ],
   "source": [
    "import os\n",
    "import pandas as pd\n",
    "\n",
    "path = \"data/text_classification/\"\n",
    "\n",
    "# dataset dict with emtpy attribute train\n",
    "dataset = pd.DataFrame()\n",
    "\n",
    "for file in os.listdir(path):\n",
    "    if file.endswith(\".csv\"):\n",
    "        new_data = pd.read_csv(path + file, sep=\";\")\n",
    "        dataset = pd.concat([dataset, new_data], ignore_index=True)\n",
    "\n",
    "dataset"
   ]
  },
  {
   "cell_type": "code",
   "execution_count": 2,
   "outputs": [
    {
     "name": "stdout",
     "output_type": "stream",
     "text": [
      "['CORRECT', 'NOT_FRENCH', 'NOT_TRIP', 'UNKNOWN']\n"
     ]
    }
   ],
   "source": [
    "labels = [label for label in dataset.columns if label not in ['text']]\n",
    "id2label = {i:label for i, label in enumerate(labels)}\n",
    "label2id = {v:k for k,v in id2label.items()}\n",
    "\n",
    "print(labels)"
   ],
   "metadata": {
    "collapsed": false,
    "ExecuteTime": {
     "end_time": "2024-01-07T17:50:16.458202200Z",
     "start_time": "2024-01-07T17:50:16.454590300Z"
    }
   },
   "id": "ae0284fa62af7382"
  },
  {
   "cell_type": "code",
   "execution_count": 3,
   "outputs": [
    {
     "data": {
      "text/plain": "<Figure size 640x480 with 1 Axes>",
      "image/png": "[encoded data removed]"
     },
     "metadata": {},
     "output_type": "display_data"
    }
   ],
   "source": [
    "import matplotlib.pyplot as plt\n",
    "\n",
    "plt.bar(labels, [sum(dataset[label]) for label in labels])\n",
    "plt.show()"
   ],
   "metadata": {
    "collapsed": false,
    "ExecuteTime": {
     "end_time": "2024-01-07T17:50:16.681590800Z",
     "start_time": "2024-01-07T17:50:16.459201400Z"
    }
   },
   "id": "ebb5fd2c3003498d"
  },
  {
   "cell_type": "markdown",
   "source": [
    "# Split du dataset en train, test et validation"
   ],
   "metadata": {
    "collapsed": false
   },
   "id": "82c59ebfecba6324"
  },
  {
   "cell_type": "code",
   "execution_count": 4,
   "outputs": [
    {
     "name": "stdout",
     "output_type": "stream",
     "text": [
      "(611576,) (76447,) (76447,)\n",
      "(611576, 4) (76447, 4) (76447, 4)\n"
     ]
    }
   ],
   "source": [
    "from sklearn.model_selection import train_test_split\n",
    "\n",
    "# Shuffle train dataset, and pick 50% of it\n",
    "dataset = dataset.sample(frac=0.5, random_state=0)\n",
    "X_train = dataset['text']\n",
    "y_train = dataset[labels]\n",
    "\n",
    "# To check how vectorizer works without UNKNOWN words being isolated\n",
    "X_train_without_unknown = dataset[dataset['UNKNOWN'] == 0]['text']\n",
    "y_train_without_unknown = dataset[dataset['UNKNOWN'] == 0][labels]\n",
    "\n",
    "# Split test dataset into 10% validation and 10% test\n",
    "X_train, X_test, y_train, y_test = train_test_split(X_train, y_train, test_size=0.2)\n",
    "X_test, X_val, y_test, y_val = train_test_split(X_test, y_test, test_size=0.5)\n",
    "\n",
    "print(X_train.shape, X_test.shape, X_val.shape)\n",
    "print(y_train.shape, y_test.shape, y_val.shape)"
   ],
   "metadata": {
    "collapsed": false,
    "ExecuteTime": {
     "end_time": "2024-01-07T17:50:17.045834400Z",
     "start_time": "2024-01-07T17:50:16.681590800Z"
    }
   },
   "id": "6582f70f215a6d8a"
  },
  {
   "cell_type": "code",
   "execution_count": 5,
   "outputs": [
    {
     "data": {
      "text/plain": "array(['Crée un itinéraire précis de NEUFCHÂTEAU à MONTREUX-VIEUX, pour rencontrer Fleurentine.',\n       'Trouve-moi un moyen de transport de la gare de Chambourg-Chopin vers Paray-Le-Monial.',\n       \"+$<j{{2N!{Nk4{G1jaE$i.Z#ul8 gCj%DGkSFG#lbj<K;SBi$Pla%'d6sBItpLSFXOr><'A'O2Ge/r:euna[2A-CZOUb\",\n       ...,\n       'Depart for the central square of auxerre from the central square of le croisic.',\n       'Je souhaiterais aller à VERRIERE (LA ) depuis MANTES-LA-VILLE.',\n       'We knew that we were going to go in different directions when our school finished.'],\n      dtype=object)"
     },
     "execution_count": 5,
     "metadata": {},
     "output_type": "execute_result"
    }
   ],
   "source": [
    "X_train.values"
   ],
   "metadata": {
    "collapsed": false,
    "ExecuteTime": {
     "end_time": "2024-01-07T17:50:17.046834600Z",
     "start_time": "2024-01-07T17:50:17.032645300Z"
    }
   },
   "id": "262205ca034468cf"
  },
  {
   "cell_type": "markdown",
   "source": [
    "# Exemple d'utilisation de TfidfVectorizer"
   ],
   "metadata": {
    "collapsed": false
   },
   "id": "c2f5cb33af42f9e5"
  },
  {
   "cell_type": "code",
   "execution_count": 6,
   "outputs": [],
   "source": [
    "ngram_range = (1, 2)"
   ],
   "metadata": {
    "collapsed": false
   }
  },
  {
   "cell_type": "code",
   "execution_count": 7,
   "outputs": [
    {
     "data": {
      "text/plain": "<611576x3819180 sparse matrix of type '<class 'numpy.float64'>'\n\twith 12931739 stored elements in Compressed Sparse Row format>"
     },
     "execution_count": 7,
     "metadata": {},
     "output_type": "execute_result"
    }
   ],
   "source": [
    "from sklearn.feature_extraction.text import TfidfVectorizer\n",
    "\n",
    "v = TfidfVectorizer(ngram_range=ngram_range)\n",
    "\n",
    "X_train_cv = v.fit_transform(X_train.values)\n",
    "X_train_cv"
   ],
   "metadata": {
    "collapsed": false,
    "ExecuteTime": {
     "end_time": "2024-01-07T17:50:23.367771300Z",
     "start_time": "2024-01-07T17:50:17.037835300Z"
    }
   },
   "id": "bcf1d314bcc607ac"
  },
  {
   "cell_type": "markdown",
   "source": [
    "La plupart des features extraites sont des mots issus de la classe UNKNOWN générés aléatoirement mais qui apparaissent très peu de fois "
   ],
   "metadata": {
    "collapsed": false
   },
   "id": "715af62db1dadd18"
  },
  {
   "cell_type": "code",
   "execution_count": 8,
   "outputs": [
    {
     "data": {
      "text/plain": "array(['3jud47kn3zknzju', '3jud47kn3zknzju pb', '3judue', '3judue yh',\n       '3jur', '3jur 8v7hx', '3jutjl', '3jutjl jgj', '3juv', '3juv z5',\n       '3jv', '3jv 22jra', '3jv 7ygz', '3jv ckqb0gvn', '3jv dx1pgntmooje',\n       '3jv js', '3jv m2kjz', '3jv rtao', '3jv undg', '3jvbsppz',\n       '3jvbsppz tsw5x2', '3jvd29', '3jvd29 ql9s', '3jveuv',\n       '3jveuv otr5', '3jvi', '3jvi kw', '3jvjvv1wwduve',\n       '3jvjvv1wwduve 2gv', '3jvlzy4', '3jvlzy4 9l', '3jvq', '3jvq ss',\n       '3jvtau', '3jvtau bmlo', '3jvy', '3jvy bs', '3jw', '3jw 5tus8',\n       '3jw kz4', '3jw rsd48u', '3jw yuw30h', '3jw5ao', '3jw5ao zwbs2eq',\n       '3jw_', '3jw_ ksj', '3jwgs', '3jwgs qp', '3jwru',\n       '3jwru bek8u86ocuf'], dtype=object)"
     },
     "execution_count": 8,
     "metadata": {},
     "output_type": "execute_result"
    }
   ],
   "source": [
    "v.get_feature_names_out()[100000:100050]"
   ],
   "metadata": {
    "collapsed": false,
    "ExecuteTime": {
     "end_time": "2024-01-07T17:50:24.061059400Z",
     "start_time": "2024-01-07T17:50:23.364771900Z"
    }
   },
   "id": "439f8394c33f4e9d"
  },
  {
   "cell_type": "code",
   "execution_count": 9,
   "outputs": [
    {
     "data": {
      "text/plain": "(3819180,)"
     },
     "execution_count": 9,
     "metadata": {},
     "output_type": "execute_result"
    }
   ],
   "source": [
    "# Number of identified features\n",
    "v.get_feature_names_out().shape"
   ],
   "metadata": {
    "collapsed": false,
    "ExecuteTime": {
     "end_time": "2024-01-07T17:50:24.763763Z",
     "start_time": "2024-01-07T17:50:24.060058900Z"
    }
   },
   "id": "fcfeb1cb21dd9f5b"
  },
  {
   "cell_type": "code",
   "execution_count": 10,
   "outputs": [
    {
     "data": {
      "text/plain": "<535268x502767 sparse matrix of type '<class 'numpy.float64'>'\n\twith 10535448 stored elements in Compressed Sparse Row format>"
     },
     "execution_count": 10,
     "metadata": {},
     "output_type": "execute_result"
    }
   ],
   "source": [
    "v = TfidfVectorizer(ngram_range=ngram_range)\n",
    "\n",
    "X_train_without_unknown_cv = v.fit_transform(X_train_without_unknown.values)\n",
    "X_train_without_unknown_cv"
   ],
   "metadata": {
    "collapsed": false,
    "ExecuteTime": {
     "end_time": "2024-01-07T17:50:27.540659800Z",
     "start_time": "2024-01-07T17:50:24.762764200Z"
    }
   },
   "id": "7fee8e198176a886"
  },
  {
   "cell_type": "code",
   "execution_count": 11,
   "outputs": [
    {
     "data": {
      "text/plain": "(502767,)"
     },
     "execution_count": 11,
     "metadata": {},
     "output_type": "execute_result"
    }
   ],
   "source": [
    "# Number of identified features\n",
    "v.get_feature_names_out().shape"
   ],
   "metadata": {
    "collapsed": false,
    "ExecuteTime": {
     "end_time": "2024-01-07T17:50:27.573100700Z",
     "start_time": "2024-01-07T17:50:27.538661Z"
    }
   },
   "id": "319c87ce2dc1bc69"
  },
  {
   "cell_type": "code",
   "execution_count": 12,
   "outputs": [
    {
     "data": {
      "text/plain": "array(['artística es', 'artística la', 'artística qué', 'arujan', 'arush',\n       'arush qui', 'arush souillac', 'arush verriere', 'arushan',\n       'arushan neuilly', 'arvin', 'arvin le', 'arvind', 'arvind la',\n       'arvind qui', 'arwenn', 'arwenn la', 'arwin', 'arwin qui',\n       'arwin situé', 'ary', 'ary qui', 'arya', 'arya béning', 'arya qui',\n       'arya situé', 'aryam', 'aryam qui', 'aryan', 'aryan dravidian',\n       'aryan qui', 'aryana', 'aryana la', 'aryana qui', 'aryana situé',\n       'aryeh', 'aryeh qui', 'aryem', 'aryem hopital', 'aryem la',\n       'aryles', 'arys', 'arys oderen', 'arzhela', 'arzhela qui',\n       'arzhelenn', 'arzhur', 'arzhur saint', 'arznei', 'arznei kaufen'],\n      dtype=object)"
     },
     "execution_count": 12,
     "metadata": {},
     "output_type": "execute_result"
    }
   ],
   "source": [
    "v.get_feature_names_out()[30000:30050]"
   ],
   "metadata": {
    "collapsed": false,
    "ExecuteTime": {
     "end_time": "2024-01-07T17:50:27.609112900Z",
     "start_time": "2024-01-07T17:50:27.573100700Z"
    }
   },
   "id": "da5204755fe90377"
  },
  {
   "cell_type": "code",
   "execution_count": 13,
   "outputs": [
    {
     "data": {
      "text/plain": "<535268x6405 sparse matrix of type '<class 'numpy.float64'>'\n\twith 9088112 stored elements in Compressed Sparse Row format>"
     },
     "execution_count": 13,
     "metadata": {},
     "output_type": "execute_result"
    }
   ],
   "source": [
    "# Add threshold to observe only words that appear at least 100 times\n",
    "v = TfidfVectorizer(ngram_range=ngram_range, min_df=100)\n",
    "\n",
    "X_train_without_unknown_cv = v.fit_transform(X_train_without_unknown.values)\n",
    "X_train_without_unknown_cv"
   ],
   "metadata": {
    "collapsed": false,
    "ExecuteTime": {
     "end_time": "2024-01-07T17:50:30.288904100Z",
     "start_time": "2024-01-07T17:50:27.606112300Z"
    }
   },
   "id": "a7ef7b3cd77d97a4"
  },
  {
   "cell_type": "code",
   "execution_count": 14,
   "outputs": [
    {
     "data": {
      "text/plain": "(6405,)"
     },
     "execution_count": 14,
     "metadata": {},
     "output_type": "execute_result"
    }
   ],
   "source": [
    "# Number of identified features\n",
    "v.get_feature_names_out().shape"
   ],
   "metadata": {
    "collapsed": false,
    "ExecuteTime": {
     "end_time": "2024-01-07T17:50:30.292545300Z",
     "start_time": "2024-01-07T17:50:30.287905300Z"
    }
   },
   "id": "6352c1e99ba87940"
  },
  {
   "cell_type": "code",
   "execution_count": 15,
   "outputs": [
    {
     "data": {
      "text/plain": "array(['11', 'aime', 'aller chez', 'ancenis depuis', 'arcs depuis',\n       'at la', 'aux', 'bad', 'bateau', 'berthelming en', 'blanc en',\n       'breisgau biel', 'budange to', 'calonne en', 'castelsarrasin',\n       'ch lpa', 'charrière en', 'chez jean', 'claudel la',\n       'commençons depuis', 'court entre', 'dan', 'de arches',\n       'de bonneville', 'de cernay', 'de coutances', 'de firminy',\n       'de jarny', 'de lourdes', 'de millau', 'de neuilly',\n       'de pontorson', 'de sables', 'de toulon', 'de villiers',\n       'denis saverne', 'depuis corbenay', 'depuis migennes',\n       'depuis serquigny', 'dice', 'dit', 'dourdan', 'désire aller',\n       'en direction', 'erstein depuis', 'etienne to', 'feuilée',\n       'forest', 'from bourg', 'from isle', 'from neussargues',\n       'from trier', 'gare de', 'girl', 'gueret depuis', 'has been',\n       'herbitzheim', 'ich möchte', 'indique moi', 'it be', 'jetzt',\n       'knew that', 'la souterraine', 'late', 'le locle', 'les laumes',\n       'live', 'lorient depuis', 'lure', 'lèze en', 'maison',\n       'marsan breil', 'me', 'messmer sarrebourg', 'modane', 'mont dore',\n       'more', 'muhlbach sur', 'narbonne en', 'nice depuis', 'nouan le',\n       'of arches', 'of bresse', 'of clelles', 'of gaillac',\n       'of libourne', 'of miramas', 'of obernai', 'of rochelle',\n       'of thonon', 'of voves', 'organise', 'pape en', 'paul la',\n       'pfaffenhoffen', 'please', 'pontgibaud ville', 'prie', 'quanto',\n       'rambervillers depuis', 'rendre', 'roanne en', 'rout',\n       'saarbrücken sarrebruck', 'saint priest', 'sarthe', 'sehen',\n       'show me', 'soudiac depuis', 'started', 'sur creuse', 'talk to',\n       'that for', 'thiers', 'to brioude', 'todo', 'tour du', 'travel',\n       'uberach depuis', 'vais saint', 'ventimiglia stazione',\n       'vers luçay', 'vic le', 'villers les', 'voyage', 'what', 'wo',\n       'yrieix la', 'évreux depuis'], dtype=object)"
     },
     "execution_count": 15,
     "metadata": {},
     "output_type": "execute_result"
    }
   ],
   "source": [
    "v.get_feature_names_out()[::50]"
   ],
   "metadata": {
    "collapsed": false,
    "ExecuteTime": {
     "end_time": "2024-01-07T17:50:30.299227Z",
     "start_time": "2024-01-07T17:50:30.292545300Z"
    }
   },
   "id": "baad16f2729e4e49"
  },
  {
   "cell_type": "markdown",
   "source": [
    "# Utilisation d'un pipeline SKLearn (vectorizer TfidfVectorizer + classifier MultinomialNB avec OneVsRestClassifier pour la classification multi-label)"
   ],
   "metadata": {
    "collapsed": false
   },
   "id": "687afe15e4233a76"
  },
  {
   "cell_type": "code",
   "execution_count": 16,
   "outputs": [
    {
     "data": {
      "text/plain": "Pipeline(steps=[('vectorizer', TfidfVectorizer(ngram_range=(1, 2))),\n                ('classifier', OneVsRestClassifier(estimator=MultinomialNB()))])"
     },
     "execution_count": 16,
     "metadata": {},
     "output_type": "execute_result"
    }
   ],
   "source": [
    "from sklearn.naive_bayes import MultinomialNB\n",
    "from sklearn.multiclass import OneVsRestClassifier\n",
    "from sklearn.pipeline import Pipeline\n",
    "\n",
    "pipeline = Pipeline([\n",
    "    ('vectorizer', TfidfVectorizer(ngram_range=ngram_range)),\n",
    "    ('classifier', OneVsRestClassifier(MultinomialNB()))\n",
    "])\n",
    "\n",
    "pipeline.fit(X_train, y_train)"
   ],
   "metadata": {
    "collapsed": false,
    "ExecuteTime": {
     "end_time": "2024-01-07T17:50:37.183712500Z",
     "start_time": "2024-01-07T17:50:30.297229600Z"
    }
   },
   "id": "feb8bec2956a9ffb"
  },
  {
   "cell_type": "markdown",
   "source": [
    "# Evaluation du modèle, métriques"
   ],
   "metadata": {
    "collapsed": false
   },
   "id": "3bd5be06f6b47aae"
  },
  {
   "cell_type": "code",
   "execution_count": 17,
   "outputs": [
    {
     "name": "stdout",
     "output_type": "stream",
     "text": [
      "              precision    recall  f1-score   support\n",
      "\n",
      "     CORRECT       0.89      1.00      0.94     23011\n",
      "  NOT_FRENCH       1.00      0.99      1.00     20690\n",
      "    NOT_TRIP       1.00      0.84      0.91     24585\n",
      "     UNKNOWN       1.00      0.98      0.99     22665\n",
      "\n",
      "   micro avg       0.97      0.95      0.96     90951\n",
      "   macro avg       0.97      0.95      0.96     90951\n",
      "weighted avg       0.97      0.95      0.96     90951\n",
      " samples avg       0.94      0.94      0.94     90951\n",
      "\n"
     ]
    },
    {
     "name": "stderr",
     "output_type": "stream",
     "text": [
      "C:\\Users\\nathp\\anaconda3\\lib\\site-packages\\sklearn\\metrics\\_classification.py:1318: UndefinedMetricWarning: Precision and F-score are ill-defined and being set to 0.0 in samples with no predicted labels. Use `zero_division` parameter to control this behavior.\n",
      "  _warn_prf(average, modifier, msg_start, len(result))\n"
     ]
    }
   ],
   "source": [
    "from sklearn.metrics import classification_report\n",
    "\n",
    "y_pred = pipeline.predict(X_test)\n",
    "\n",
    "print(classification_report(y_test, y_pred, target_names=labels))"
   ],
   "metadata": {
    "collapsed": false,
    "ExecuteTime": {
     "end_time": "2024-01-07T17:50:38.319022200Z",
     "start_time": "2024-01-07T17:50:37.182712100Z"
    }
   },
   "id": "31a5f4f65de4c945"
  },
  {
   "cell_type": "code",
   "execution_count": 18,
   "outputs": [],
   "source": [
    "from sklearn.metrics import confusion_matrix\n",
    "\n",
    "cm = confusion_matrix(y_test.values.argmax(axis=1), y_pred.argmax(axis=1))"
   ],
   "metadata": {
    "collapsed": false,
    "ExecuteTime": {
     "end_time": "2024-01-07T17:50:38.328485300Z",
     "start_time": "2024-01-07T17:50:38.317022400Z"
    }
   },
   "id": "2462a2c8a1e3d39b"
  },
  {
   "cell_type": "code",
   "execution_count": 19,
   "outputs": [
    {
     "data": {
      "text/plain": "<Figure size 640x480 with 2 Axes>",
      "image/png": "[encoded data removed]"
     },
     "metadata": {},
     "output_type": "display_data"
    }
   ],
   "source": [
    "import seaborn as sns\n",
    "\n",
    "sns.heatmap(cm, annot=True, cmap='Blues', fmt='g', xticklabels=labels, yticklabels=labels)\n",
    "plt.xlabel('Predicted labels')\n",
    "plt.ylabel('True labels')\n",
    "plt.title('Confusion Matrix')\n",
    "plt.show()"
   ],
   "metadata": {
    "collapsed": false,
    "ExecuteTime": {
     "end_time": "2024-01-07T17:50:38.472480900Z",
     "start_time": "2024-01-07T17:50:38.329485200Z"
    }
   },
   "id": "e7ac08181d39d679"
  },
  {
   "cell_type": "code",
   "execution_count": 20,
   "outputs": [
    {
     "data": {
      "text/plain": "<Figure size 1000x1000 with 1 Axes>",
      "image/png": "[encoded data removed]"
     },
     "metadata": {},
     "output_type": "display_data"
    }
   ],
   "source": [
    "from sklearn.metrics import roc_curve, auc\n",
    "\n",
    "fpr = dict()\n",
    "tpr = dict()\n",
    "roc_auc = dict()\n",
    "\n",
    "for i in range(len(labels)):\n",
    "    fpr[i], tpr[i], _ = roc_curve(y_test.values[:, i], y_pred[:, i])\n",
    "    roc_auc[i] = auc(fpr[i], tpr[i])\n",
    "    \n",
    "plt.figure(figsize=(10, 10))\n",
    "\n",
    "for i in range(len(labels)):\n",
    "    plt.plot(fpr[i], tpr[i], label=f\"{labels[i]} (AUC = {roc_auc[i]:.2f})\")\n",
    "    \n",
    "plt.plot([0, 1], [0, 1], 'k--')\n",
    "plt.xlabel('False Positive Rate')\n",
    "plt.ylabel('True Positive Rate')\n",
    "plt.title('ROC Curves')\n",
    "plt.legend()\n",
    "plt.show()"
   ],
   "metadata": {
    "collapsed": false,
    "ExecuteTime": {
     "end_time": "2024-01-07T17:50:38.628706Z",
     "start_time": "2024-01-07T17:50:38.472480900Z"
    }
   },
   "id": "10e8c8b530bed422"
  },
  {
   "cell_type": "code",
   "execution_count": 21,
   "outputs": [
    {
     "name": "stdout",
     "output_type": "stream",
     "text": [
      "* Je veux aller au cinéma\n",
      " - CORRECT => 3.4%\n",
      " - NOT_FRENCH => 0.0%\n",
      " - NOT_TRIP => 78.7%\n",
      " - UNKNOWN => 0.0%\n",
      "\n",
      "* Je veux aller du cinéma au restaurant\n",
      " - CORRECT => 2.4%\n",
      " - NOT_FRENCH => 0.0%\n",
      " - NOT_TRIP => 86.6%\n",
      " - UNKNOWN => 0.0%\n",
      "\n",
      "* I'd like to go from the cinema to the restaurant\n",
      " - CORRECT => 0.0%\n",
      " - NOT_FRENCH => 100.0%\n",
      " - NOT_TRIP => 25.6%\n",
      " - UNKNOWN => 0.0%\n",
      "\n",
      "* I'd like to Paris from Nanterre\n",
      " - CORRECT => 0.0%\n",
      " - NOT_FRENCH => 100.0%\n",
      " - NOT_TRIP => 1.6%\n",
      " - UNKNOWN => 0.0%\n",
      "\n",
      "* zaeazea eaz e:az e,az e\"zahoiplù;!:gf\n",
      " - CORRECT => 0.1%\n",
      " - NOT_FRENCH => 0.1%\n",
      " - NOT_TRIP => 0.2%\n",
      " - UNKNOWN => 99.6%\n",
      "\n",
      "* J'aimerais me rendre de Nanterre à Paris\n",
      " - CORRECT => 99.6%\n",
      " - NOT_FRENCH => 0.0%\n",
      " - NOT_TRIP => 0.2%\n",
      " - UNKNOWN => 0.0%\n",
      "\n",
      "* Je veux aller de Le Havre à Port-Boulet\n",
      " - CORRECT => 62.0%\n",
      " - NOT_FRENCH => 0.0%\n",
      " - NOT_TRIP => 20.6%\n",
      " - UNKNOWN => 0.0%\n",
      "\n",
      "* Nantes à Toulouse\n",
      " - CORRECT => 53.7%\n",
      " - NOT_FRENCH => 7.6%\n",
      " - NOT_TRIP => 10.2%\n",
      " - UNKNOWN => 0.0%\n",
      "\n",
      "* Dirige moi vers Lyon depuis Saint-Étienne.\n",
      " - CORRECT => 99.9%\n",
      " - NOT_FRENCH => 0.0%\n",
      " - NOT_TRIP => 0.0%\n",
      " - UNKNOWN => 0.0%\n",
      "\n",
      "* Trouve moi un itinéraire pour aller chez Emma de Paris à Marseille\n",
      " - CORRECT => 100.0%\n",
      " - NOT_FRENCH => 0.0%\n",
      " - NOT_TRIP => 0.0%\n",
      " - UNKNOWN => 0.0%\n",
      "\n"
     ]
    }
   ],
   "source": [
    "texts = [\n",
    "    \"Je veux aller au cinéma\",\n",
    "    \"Je veux aller du cinéma au restaurant\",\n",
    "    \"I'd like to go from the cinema to the restaurant\",\n",
    "    \"I'd like to Paris from Nanterre\",\n",
    "    \"zaeazea eaz e:az e,az e\\\"zahoiplù;!:gf\",\n",
    "    \"J'aimerais me rendre de Nanterre à Paris\",\n",
    "    \"Je veux aller de Le Havre à Port-Boulet\",\n",
    "    \"Nantes à Toulouse\",\n",
    "    \"Dirige moi vers Lyon depuis Saint-Étienne.\",\n",
    "    \"Trouve moi un itinéraire pour aller chez Emma de Paris à Marseille\",\n",
    "]\n",
    "\n",
    "predicted_labels = pipeline.predict(texts)\n",
    "predicted_proba = pipeline.predict_proba(texts)\n",
    "\n",
    "# Displaying the predicted labels and probability scores for new texts\n",
    "for text, p_labels, prob in zip(texts, predicted_labels, predicted_proba):\n",
    "    print(\"*\", text)\n",
    "    for i, score in enumerate(prob):\n",
    "        print(' -', id2label[i], '=>', f\"{round(score * 100, 1)}%\")\n",
    "    print()"
   ],
   "metadata": {
    "collapsed": false,
    "ExecuteTime": {
     "end_time": "2024-01-07T17:50:38.713379300Z",
     "start_time": "2024-01-07T17:50:38.626705500Z"
    }
   },
   "id": "4720afd4c945c59c"
  },
  {
   "cell_type": "markdown",
   "source": [
    "### Pour un même classifier, la vectorisation TF-IDF semble moins performante que la N-grams ou la BoW (voir matrice de confusion)."
   ],
   "metadata": {
    "collapsed": false
   },
   "id": "c9333815f7bac435"
  }
 ],
 "metadata": {
  "kernelspec": {
   "display_name": "Python 3",
   "language": "python",
   "name": "python3"
  },
  "language_info": {
   "codemirror_mode": {
    "name": "ipython",
    "version": 2
   },
   "file_extension": ".py",
   "mimetype": "text/x-python",
   "name": "python",
   "nbconvert_exporter": "python",
   "pygments_lexer": "ipython2",
   "version": "2.7.6"
  }
 },
 "nbformat": 4,
 "nbformat_minor": 5
}
