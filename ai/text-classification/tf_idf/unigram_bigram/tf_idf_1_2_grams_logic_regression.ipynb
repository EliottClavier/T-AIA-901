{
 "cells": [
  {
   "cell_type": "markdown",
   "source": [
    "# Vectorisation 1-gram et 2-gram TF-IDF avec CountVectorizer et classification avec LogisticRegression"
   ],
   "metadata": {
    "collapsed": false
   },
   "id": "be20d48902a27c5"
  },
  {
   "cell_type": "code",
   "execution_count": 1,
   "id": "initial_id",
   "metadata": {
    "collapsed": true,
    "ExecuteTime": {
     "end_time": "2024-01-07T17:45:51.274223100Z",
     "start_time": "2024-01-07T17:45:49.972916200Z"
    }
   },
   "outputs": [
    {
     "data": {
      "text/plain": "                                                      text  CORRECT  \\\n0        Comment puis-je rejoindre Persan à partir de S...        1   \n1        Je prévois un voyage de VILLEFRANCHE-DE-CONFLE...        1   \n2        Go from the city of Sarlat La Caneda to Souillac.        0   \n3        What is the best way to go from Allamps-Esat t...        0   \n4        zg xqmajyjpfxsvvgycgqd c e  i  y ehgbcf  f e o...        0   \n...                                                    ...      ...   \n1528934         Tom met Mary in the lobby of the building.        0   \n1528935  Trouve un moyen d'atteindre BÉNING-LÈS-SAINT-A...        1   \n1528936  ]r.0j>&{TFQpZ(E\\]\"[$+mFhI/1*'vfL-X0G_x1MY&fn2+...        0   \n1528937  How long had you been sick before you saw the ...        0   \n1528938  eOj=}0$,\\+R4fUJ7qso6/#dK_|Z:)XIpUPGg)k&Z<4^I}'...        0   \n\n         NOT_FRENCH  NOT_TRIP  UNKNOWN  \n0                 0         0        0  \n1                 0         0        0  \n2                 1         0        0  \n3                 1         0        0  \n4                 0         0        1  \n...             ...       ...      ...  \n1528934           1         1        0  \n1528935           0         0        0  \n1528936           0         0        1  \n1528937           1         1        0  \n1528938           0         0        1  \n\n[1528939 rows x 5 columns]",
      "text/html": "<div>\n<style scoped>\n    .dataframe tbody tr th:only-of-type {\n        vertical-align: middle;\n    }\n\n    .dataframe tbody tr th {\n        vertical-align: top;\n    }\n\n    .dataframe thead th {\n        text-align: right;\n    }\n</style>\n<table border=\"1\" class=\"dataframe\">\n  <thead>\n    <tr style=\"text-align: right;\">\n      <th></th>\n      <th>text</th>\n      <th>CORRECT</th>\n      <th>NOT_FRENCH</th>\n      <th>NOT_TRIP</th>\n      <th>UNKNOWN</th>\n    </tr>\n  </thead>\n  <tbody>\n    <tr>\n      <th>0</th>\n      <td>Comment puis-je rejoindre Persan à partir de S...</td>\n      <td>1</td>\n      <td>0</td>\n      <td>0</td>\n      <td>0</td>\n    </tr>\n    <tr>\n      <th>1</th>\n      <td>Je prévois un voyage de VILLEFRANCHE-DE-CONFLE...</td>\n      <td>1</td>\n      <td>0</td>\n      <td>0</td>\n      <td>0</td>\n    </tr>\n    <tr>\n      <th>2</th>\n      <td>Go from the city of Sarlat La Caneda to Souillac.</td>\n      <td>0</td>\n      <td>1</td>\n      <td>0</td>\n      <td>0</td>\n    </tr>\n    <tr>\n      <th>3</th>\n      <td>What is the best way to go from Allamps-Esat t...</td>\n      <td>0</td>\n      <td>1</td>\n      <td>0</td>\n      <td>0</td>\n    </tr>\n    <tr>\n      <th>4</th>\n      <td>zg xqmajyjpfxsvvgycgqd c e  i  y ehgbcf  f e o...</td>\n      <td>0</td>\n      <td>0</td>\n      <td>0</td>\n      <td>1</td>\n    </tr>\n    <tr>\n      <th>...</th>\n      <td>...</td>\n      <td>...</td>\n      <td>...</td>\n      <td>...</td>\n      <td>...</td>\n    </tr>\n    <tr>\n      <th>1528934</th>\n      <td>Tom met Mary in the lobby of the building.</td>\n      <td>0</td>\n      <td>1</td>\n      <td>1</td>\n      <td>0</td>\n    </tr>\n    <tr>\n      <th>1528935</th>\n      <td>Trouve un moyen d'atteindre BÉNING-LÈS-SAINT-A...</td>\n      <td>1</td>\n      <td>0</td>\n      <td>0</td>\n      <td>0</td>\n    </tr>\n    <tr>\n      <th>1528936</th>\n      <td>]r.0j&gt;&amp;{TFQpZ(E\\]\"[$+mFhI/1*'vfL-X0G_x1MY&amp;fn2+...</td>\n      <td>0</td>\n      <td>0</td>\n      <td>0</td>\n      <td>1</td>\n    </tr>\n    <tr>\n      <th>1528937</th>\n      <td>How long had you been sick before you saw the ...</td>\n      <td>0</td>\n      <td>1</td>\n      <td>1</td>\n      <td>0</td>\n    </tr>\n    <tr>\n      <th>1528938</th>\n      <td>eOj=}0$,\\+R4fUJ7qso6/#dK_|Z:)XIpUPGg)k&amp;Z&lt;4^I}'...</td>\n      <td>0</td>\n      <td>0</td>\n      <td>0</td>\n      <td>1</td>\n    </tr>\n  </tbody>\n</table>\n<p>1528939 rows × 5 columns</p>\n</div>"
     },
     "execution_count": 1,
     "metadata": {},
     "output_type": "execute_result"
    }
   ],
   "source": [
    "import os\n",
    "import pandas as pd\n",
    "\n",
    "path = \"data/text_classification/\"\n",
    "\n",
    "# dataset dict with emtpy attribute train\n",
    "dataset = pd.DataFrame()\n",
    "\n",
    "for file in os.listdir(path):\n",
    "    if file.endswith(\".csv\"):\n",
    "        new_data = pd.read_csv(path + file, sep=\";\")\n",
    "        dataset = pd.concat([dataset, new_data], ignore_index=True)\n",
    "\n",
    "dataset"
   ]
  },
  {
   "cell_type": "code",
   "execution_count": 2,
   "outputs": [
    {
     "name": "stdout",
     "output_type": "stream",
     "text": [
      "['CORRECT', 'NOT_FRENCH', 'NOT_TRIP', 'UNKNOWN']\n"
     ]
    }
   ],
   "source": [
    "labels = [label for label in dataset.columns if label not in ['text']]\n",
    "id2label = {i:label for i, label in enumerate(labels)}\n",
    "label2id = {v:k for k,v in id2label.items()}\n",
    "\n",
    "print(labels)"
   ],
   "metadata": {
    "collapsed": false,
    "ExecuteTime": {
     "end_time": "2024-01-07T17:45:51.275227100Z",
     "start_time": "2024-01-07T17:45:51.272165700Z"
    }
   },
   "id": "ae0284fa62af7382"
  },
  {
   "cell_type": "code",
   "execution_count": 3,
   "outputs": [
    {
     "data": {
      "text/plain": "<Figure size 640x480 with 1 Axes>",
      "image/png": "[encoded data removed]"
     },
     "metadata": {},
     "output_type": "display_data"
    }
   ],
   "source": [
    "import matplotlib.pyplot as plt\n",
    "\n",
    "plt.bar(labels, [sum(dataset[label]) for label in labels])\n",
    "plt.show()"
   ],
   "metadata": {
    "collapsed": false,
    "ExecuteTime": {
     "end_time": "2024-01-07T17:45:51.496303400Z",
     "start_time": "2024-01-07T17:45:51.276228100Z"
    }
   },
   "id": "ebb5fd2c3003498d"
  },
  {
   "cell_type": "markdown",
   "source": [
    "# Split du dataset en train, test et validation"
   ],
   "metadata": {
    "collapsed": false
   },
   "id": "82c59ebfecba6324"
  },
  {
   "cell_type": "code",
   "execution_count": 4,
   "outputs": [
    {
     "name": "stdout",
     "output_type": "stream",
     "text": [
      "(611576,) (76447,) (76447,)\n",
      "(611576, 4) (76447, 4) (76447, 4)\n"
     ]
    }
   ],
   "source": [
    "from sklearn.model_selection import train_test_split\n",
    "\n",
    "# Shuffle train dataset, and pick 50% of it\n",
    "dataset = dataset.sample(frac=0.5, random_state=0)\n",
    "X_train = dataset['text']\n",
    "y_train = dataset[labels]\n",
    "\n",
    "# To check how vectorizer works without UNKNOWN words being isolated\n",
    "X_train_without_unknown = dataset[dataset['UNKNOWN'] == 0]['text']\n",
    "y_train_without_unknown = dataset[dataset['UNKNOWN'] == 0][labels]\n",
    "\n",
    "# Split test dataset into 10% validation and 10% test\n",
    "X_train, X_test, y_train, y_test = train_test_split(X_train, y_train, test_size=0.2)\n",
    "X_test, X_val, y_test, y_val = train_test_split(X_test, y_test, test_size=0.5)\n",
    "\n",
    "print(X_train.shape, X_test.shape, X_val.shape)\n",
    "print(y_train.shape, y_test.shape, y_val.shape)"
   ],
   "metadata": {
    "collapsed": false,
    "ExecuteTime": {
     "end_time": "2024-01-07T17:45:51.795696500Z",
     "start_time": "2024-01-07T17:45:51.494302800Z"
    }
   },
   "id": "6582f70f215a6d8a"
  },
  {
   "cell_type": "code",
   "execution_count": 5,
   "outputs": [
    {
     "data": {
      "text/plain": "array(['8lrRD#~! ).6F>Vg/B1aK_h!7DJL[E*H[6-<c|RX~iu.8H9(kx@oX/\\\\]7su1)}!]<!^\\\\xyY2.VL`dEObYZ6&%(O3EQ4e',\n       \"Peux-tu m'aider à trouver mon chemin vers la place centrale de TOULON en partant de WINDEN PFALZ ?\",\n       'I would like to travel from St-Louis-57-Incliné to Chouzé-Sur-Loire.',\n       ..., 'bédarieux to the airport of droué (centre).',\n       'I want to arrive at the city of saint-pierre-des-corps.',\n       'Je suis en train de planifier un déplacement de Saint-Denis-Lès-Martel à Mutzig-Passage-A-Niveau.'],\n      dtype=object)"
     },
     "execution_count": 5,
     "metadata": {},
     "output_type": "execute_result"
    }
   ],
   "source": [
    "X_train.values"
   ],
   "metadata": {
    "collapsed": false,
    "ExecuteTime": {
     "end_time": "2024-01-07T17:45:51.796697400Z",
     "start_time": "2024-01-07T17:45:51.792951Z"
    }
   },
   "id": "262205ca034468cf"
  },
  {
   "cell_type": "markdown",
   "source": [
    "# Exemple d'utilisation de TfidfVectorizer"
   ],
   "metadata": {
    "collapsed": false
   },
   "id": "c2f5cb33af42f9e5"
  },
  {
   "cell_type": "code",
   "execution_count": 6,
   "outputs": [],
   "source": [
    "ngram_range = (1, 2)"
   ],
   "metadata": {
    "collapsed": false
   }
  },
  {
   "cell_type": "code",
   "execution_count": 7,
   "outputs": [
    {
     "data": {
      "text/plain": "<611576x3816154 sparse matrix of type '<class 'numpy.float64'>'\n\twith 12928553 stored elements in Compressed Sparse Row format>"
     },
     "execution_count": 7,
     "metadata": {},
     "output_type": "execute_result"
    }
   ],
   "source": [
    "from sklearn.feature_extraction.text import TfidfVectorizer\n",
    "\n",
    "v = TfidfVectorizer(ngram_range=ngram_range)\n",
    "\n",
    "X_train_cv = v.fit_transform(X_train.values)\n",
    "X_train_cv"
   ],
   "metadata": {
    "collapsed": false,
    "ExecuteTime": {
     "end_time": "2024-01-07T17:45:57.977318600Z",
     "start_time": "2024-01-07T17:45:51.796697400Z"
    }
   },
   "id": "bcf1d314bcc607ac"
  },
  {
   "cell_type": "markdown",
   "source": [
    "La plupart des features extraites sont des mots issus de la classe UNKNOWN générés aléatoirement mais qui apparaissent très peu de fois "
   ],
   "metadata": {
    "collapsed": false
   },
   "id": "715af62db1dadd18"
  },
  {
   "cell_type": "code",
   "execution_count": 8,
   "outputs": [
    {
     "data": {
      "text/plain": "array(['3k6h', '3k6h srh', '3k6i', '3k6i khx', '3k6i5', '3k6i5 ll',\n       '3k6ib', '3k6ib o4', '3k6kbn8n', '3k6kbn8n fxw', '3k6myzb',\n       '3k6myzb 0kyc', '3k6td5cndrelhl', '3k6td5cndrelhl t75', '3k7',\n       '3k7 f0txq', '3k7 r9', '3k78ibk', '3k78ibk 0c', '3k7ely',\n       '3k7ely rnloz', '3k7nfn6fvbt8kgzd', '3k7nfn6fvbt8kgzd txzv8mxp9',\n       '3k7ssu', '3k7ssu upne', '3k8', '3k8 kz7p', '3k8 wsng', '3k8nmry',\n       '3k8s', '3k8s kva4zf0wbj91w1j', '3k8uct', '3k8uct nz3dtww', '3k9',\n       '3k9 hrck', '3k9c90p', '3k9c90p 1beminn', '3k9k', '3k9k kwq',\n       '3k9o', '3k9o wd4k1lrkz', '3k9p1qbg', '3k9p1qbg umuur', '3k9pf',\n       '3k9pf okvk', '3k9qkf', '3k9qkf dq', '3k9u', '3k9u yr', '3k9vh'],\n      dtype=object)"
     },
     "execution_count": 8,
     "metadata": {},
     "output_type": "execute_result"
    }
   ],
   "source": [
    "v.get_feature_names_out()[100000:100050]"
   ],
   "metadata": {
    "collapsed": false,
    "ExecuteTime": {
     "end_time": "2024-01-07T17:45:58.696780700Z",
     "start_time": "2024-01-07T17:45:57.972318100Z"
    }
   },
   "id": "439f8394c33f4e9d"
  },
  {
   "cell_type": "code",
   "execution_count": 9,
   "outputs": [
    {
     "data": {
      "text/plain": "(3816154,)"
     },
     "execution_count": 9,
     "metadata": {},
     "output_type": "execute_result"
    }
   ],
   "source": [
    "# Number of identified features\n",
    "v.get_feature_names_out().shape"
   ],
   "metadata": {
    "collapsed": false,
    "ExecuteTime": {
     "end_time": "2024-01-07T17:45:59.421160500Z",
     "start_time": "2024-01-07T17:45:58.695781300Z"
    }
   },
   "id": "fcfeb1cb21dd9f5b"
  },
  {
   "cell_type": "code",
   "execution_count": 10,
   "outputs": [
    {
     "data": {
      "text/plain": "<535268x502767 sparse matrix of type '<class 'numpy.float64'>'\n\twith 10535448 stored elements in Compressed Sparse Row format>"
     },
     "execution_count": 10,
     "metadata": {},
     "output_type": "execute_result"
    }
   ],
   "source": [
    "v = TfidfVectorizer(ngram_range=ngram_range)\n",
    "\n",
    "X_train_without_unknown_cv = v.fit_transform(X_train_without_unknown.values)\n",
    "X_train_without_unknown_cv"
   ],
   "metadata": {
    "collapsed": false,
    "ExecuteTime": {
     "end_time": "2024-01-07T17:46:02.334586300Z",
     "start_time": "2024-01-07T17:45:59.472674400Z"
    }
   },
   "id": "7fee8e198176a886"
  },
  {
   "cell_type": "code",
   "execution_count": 11,
   "outputs": [
    {
     "data": {
      "text/plain": "(502767,)"
     },
     "execution_count": 11,
     "metadata": {},
     "output_type": "execute_result"
    }
   ],
   "source": [
    "# Number of identified features\n",
    "v.get_feature_names_out().shape"
   ],
   "metadata": {
    "collapsed": false,
    "ExecuteTime": {
     "end_time": "2024-01-07T17:46:02.370621100Z",
     "start_time": "2024-01-07T17:46:02.360091800Z"
    }
   },
   "id": "319c87ce2dc1bc69"
  },
  {
   "cell_type": "code",
   "execution_count": 12,
   "outputs": [
    {
     "data": {
      "text/plain": "array(['artística es', 'artística la', 'artística qué', 'arujan', 'arush',\n       'arush qui', 'arush souillac', 'arush verriere', 'arushan',\n       'arushan neuilly', 'arvin', 'arvin le', 'arvind', 'arvind la',\n       'arvind qui', 'arwenn', 'arwenn la', 'arwin', 'arwin qui',\n       'arwin situé', 'ary', 'ary qui', 'arya', 'arya béning', 'arya qui',\n       'arya situé', 'aryam', 'aryam qui', 'aryan', 'aryan dravidian',\n       'aryan qui', 'aryana', 'aryana la', 'aryana qui', 'aryana situé',\n       'aryeh', 'aryeh qui', 'aryem', 'aryem hopital', 'aryem la',\n       'aryles', 'arys', 'arys oderen', 'arzhela', 'arzhela qui',\n       'arzhelenn', 'arzhur', 'arzhur saint', 'arznei', 'arznei kaufen'],\n      dtype=object)"
     },
     "execution_count": 12,
     "metadata": {},
     "output_type": "execute_result"
    }
   ],
   "source": [
    "v.get_feature_names_out()[30000:30050]"
   ],
   "metadata": {
    "collapsed": false,
    "ExecuteTime": {
     "end_time": "2024-01-07T17:46:02.398612900Z",
     "start_time": "2024-01-07T17:46:02.363621300Z"
    }
   },
   "id": "da5204755fe90377"
  },
  {
   "cell_type": "code",
   "execution_count": 13,
   "outputs": [
    {
     "data": {
      "text/plain": "<535268x6405 sparse matrix of type '<class 'numpy.float64'>'\n\twith 9088112 stored elements in Compressed Sparse Row format>"
     },
     "execution_count": 13,
     "metadata": {},
     "output_type": "execute_result"
    }
   ],
   "source": [
    "# Add threshold to observe only words that appear at least 100 times\n",
    "v = TfidfVectorizer(ngram_range=ngram_range, min_df=100)\n",
    "\n",
    "X_train_without_unknown_cv = v.fit_transform(X_train_without_unknown.values)\n",
    "X_train_without_unknown_cv"
   ],
   "metadata": {
    "collapsed": false,
    "ExecuteTime": {
     "end_time": "2024-01-07T17:46:05.271192500Z",
     "start_time": "2024-01-07T17:46:02.395612300Z"
    }
   },
   "id": "a7ef7b3cd77d97a4"
  },
  {
   "cell_type": "code",
   "execution_count": 14,
   "outputs": [
    {
     "data": {
      "text/plain": "(6405,)"
     },
     "execution_count": 14,
     "metadata": {},
     "output_type": "execute_result"
    }
   ],
   "source": [
    "# Number of identified features\n",
    "v.get_feature_names_out().shape"
   ],
   "metadata": {
    "collapsed": false,
    "ExecuteTime": {
     "end_time": "2024-01-07T17:46:05.271192500Z",
     "start_time": "2024-01-07T17:46:05.240729600Z"
    }
   },
   "id": "6352c1e99ba87940"
  },
  {
   "cell_type": "code",
   "execution_count": 15,
   "outputs": [
    {
     "data": {
      "text/plain": "array(['11', 'aime', 'aller chez', 'ancenis depuis', 'arcs depuis',\n       'at la', 'aux', 'bad', 'bateau', 'berthelming en', 'blanc en',\n       'breisgau biel', 'budange to', 'calonne en', 'castelsarrasin',\n       'ch lpa', 'charrière en', 'chez jean', 'claudel la',\n       'commençons depuis', 'court entre', 'dan', 'de arches',\n       'de bonneville', 'de cernay', 'de coutances', 'de firminy',\n       'de jarny', 'de lourdes', 'de millau', 'de neuilly',\n       'de pontorson', 'de sables', 'de toulon', 'de villiers',\n       'denis saverne', 'depuis corbenay', 'depuis migennes',\n       'depuis serquigny', 'dice', 'dit', 'dourdan', 'désire aller',\n       'en direction', 'erstein depuis', 'etienne to', 'feuilée',\n       'forest', 'from bourg', 'from isle', 'from neussargues',\n       'from trier', 'gare de', 'girl', 'gueret depuis', 'has been',\n       'herbitzheim', 'ich möchte', 'indique moi', 'it be', 'jetzt',\n       'knew that', 'la souterraine', 'late', 'le locle', 'les laumes',\n       'live', 'lorient depuis', 'lure', 'lèze en', 'maison',\n       'marsan breil', 'me', 'messmer sarrebourg', 'modane', 'mont dore',\n       'more', 'muhlbach sur', 'narbonne en', 'nice depuis', 'nouan le',\n       'of arches', 'of bresse', 'of clelles', 'of gaillac',\n       'of libourne', 'of miramas', 'of obernai', 'of rochelle',\n       'of thonon', 'of voves', 'organise', 'pape en', 'paul la',\n       'pfaffenhoffen', 'please', 'pontgibaud ville', 'prie', 'quanto',\n       'rambervillers depuis', 'rendre', 'roanne en', 'rout',\n       'saarbrücken sarrebruck', 'saint priest', 'sarthe', 'sehen',\n       'show me', 'soudiac depuis', 'started', 'sur creuse', 'talk to',\n       'that for', 'thiers', 'to brioude', 'todo', 'tour du', 'travel',\n       'uberach depuis', 'vais saint', 'ventimiglia stazione',\n       'vers luçay', 'vic le', 'villers les', 'voyage', 'what', 'wo',\n       'yrieix la', 'évreux depuis'], dtype=object)"
     },
     "execution_count": 15,
     "metadata": {},
     "output_type": "execute_result"
    }
   ],
   "source": [
    "v.get_feature_names_out()[::50]"
   ],
   "metadata": {
    "collapsed": false,
    "ExecuteTime": {
     "end_time": "2024-01-07T17:46:05.272190900Z",
     "start_time": "2024-01-07T17:46:05.245973400Z"
    }
   },
   "id": "baad16f2729e4e49"
  },
  {
   "cell_type": "markdown",
   "source": [
    "# Utilisation d'un pipeline SKLearn (vectorizer TfidfVectorizer + classifier LogisticRegression avec OneVsRestClassifier pour la classification multi-label)"
   ],
   "metadata": {
    "collapsed": false
   },
   "id": "687afe15e4233a76"
  },
  {
   "cell_type": "code",
   "execution_count": 16,
   "outputs": [
    {
     "name": "stderr",
     "output_type": "stream",
     "text": [
      "C:\\Users\\nathp\\anaconda3\\lib\\site-packages\\sklearn\\linear_model\\_logistic.py:814: ConvergenceWarning: lbfgs failed to converge (status=1):\n",
      "STOP: TOTAL NO. of ITERATIONS REACHED LIMIT.\n",
      "\n",
      "Increase the number of iterations (max_iter) or scale the data as shown in:\n",
      "    https://scikit-learn.org/stable/modules/preprocessing.html\n",
      "Please also refer to the documentation for alternative solver options:\n",
      "    https://scikit-learn.org/stable/modules/linear_model.html#logistic-regression\n",
      "  n_iter_i = _check_optimize_result(\n",
      "C:\\Users\\nathp\\anaconda3\\lib\\site-packages\\sklearn\\linear_model\\_logistic.py:814: ConvergenceWarning: lbfgs failed to converge (status=1):\n",
      "STOP: TOTAL NO. of ITERATIONS REACHED LIMIT.\n",
      "\n",
      "Increase the number of iterations (max_iter) or scale the data as shown in:\n",
      "    https://scikit-learn.org/stable/modules/preprocessing.html\n",
      "Please also refer to the documentation for alternative solver options:\n",
      "    https://scikit-learn.org/stable/modules/linear_model.html#logistic-regression\n",
      "  n_iter_i = _check_optimize_result(\n"
     ]
    },
    {
     "data": {
      "text/plain": "Pipeline(steps=[('vectorizer', TfidfVectorizer(ngram_range=(1, 2))),\n                ('classifier',\n                 OneVsRestClassifier(estimator=LogisticRegression()))])"
     },
     "execution_count": 16,
     "metadata": {},
     "output_type": "execute_result"
    }
   ],
   "source": [
    "from sklearn.linear_model import LogisticRegression\n",
    "from sklearn.multiclass import OneVsRestClassifier\n",
    "from sklearn.pipeline import Pipeline\n",
    "\n",
    "pipeline = Pipeline([\n",
    "    ('vectorizer', TfidfVectorizer(ngram_range=ngram_range)),\n",
    "    ('classifier', OneVsRestClassifier(LogisticRegression()))\n",
    "])\n",
    "\n",
    "pipeline.fit(X_train, y_train)"
   ],
   "metadata": {
    "collapsed": false,
    "ExecuteTime": {
     "end_time": "2024-01-07T17:47:45.068411300Z",
     "start_time": "2024-01-07T17:46:05.250194200Z"
    }
   },
   "id": "feb8bec2956a9ffb"
  },
  {
   "cell_type": "markdown",
   "source": [
    "# Evaluation du modèle, métriques"
   ],
   "metadata": {
    "collapsed": false
   },
   "id": "3bd5be06f6b47aae"
  },
  {
   "cell_type": "code",
   "execution_count": 17,
   "outputs": [
    {
     "name": "stdout",
     "output_type": "stream",
     "text": [
      "              precision    recall  f1-score   support\n",
      "\n",
      "     CORRECT       1.00      1.00      1.00     22939\n",
      "  NOT_FRENCH       0.99      0.98      0.99     20541\n",
      "    NOT_TRIP       0.98      0.97      0.98     24480\n",
      "     UNKNOWN       0.98      0.99      0.99     22907\n",
      "\n",
      "   micro avg       0.99      0.98      0.99     90867\n",
      "   macro avg       0.99      0.99      0.99     90867\n",
      "weighted avg       0.99      0.98      0.99     90867\n",
      " samples avg       0.98      0.99      0.98     90867\n",
      "\n"
     ]
    },
    {
     "name": "stderr",
     "output_type": "stream",
     "text": [
      "C:\\Users\\nathp\\anaconda3\\lib\\site-packages\\sklearn\\metrics\\_classification.py:1318: UndefinedMetricWarning: Precision and F-score are ill-defined and being set to 0.0 in samples with no predicted labels. Use `zero_division` parameter to control this behavior.\n",
      "  _warn_prf(average, modifier, msg_start, len(result))\n"
     ]
    }
   ],
   "source": [
    "from sklearn.metrics import classification_report\n",
    "\n",
    "y_pred = pipeline.predict(X_test)\n",
    "\n",
    "print(classification_report(y_test, y_pred, target_names=labels))"
   ],
   "metadata": {
    "collapsed": false,
    "ExecuteTime": {
     "end_time": "2024-01-07T17:47:46.408639500Z",
     "start_time": "2024-01-07T17:47:45.069411700Z"
    }
   },
   "id": "31a5f4f65de4c945"
  },
  {
   "cell_type": "code",
   "execution_count": 18,
   "outputs": [],
   "source": [
    "from sklearn.metrics import confusion_matrix\n",
    "\n",
    "cm = confusion_matrix(y_test.values.argmax(axis=1), y_pred.argmax(axis=1))"
   ],
   "metadata": {
    "collapsed": false,
    "ExecuteTime": {
     "end_time": "2024-01-07T17:47:46.421724700Z",
     "start_time": "2024-01-07T17:47:46.401623400Z"
    }
   },
   "id": "2462a2c8a1e3d39b"
  },
  {
   "cell_type": "code",
   "execution_count": 19,
   "outputs": [
    {
     "data": {
      "text/plain": "<Figure size 640x480 with 2 Axes>",
      "image/png": "[encoded data removed]"
     },
     "metadata": {},
     "output_type": "display_data"
    }
   ],
   "source": [
    "import seaborn as sns\n",
    "\n",
    "sns.heatmap(cm, annot=True, cmap='Blues', fmt='g', xticklabels=labels, yticklabels=labels)\n",
    "plt.xlabel('Predicted labels')\n",
    "plt.ylabel('True labels')\n",
    "plt.title('Confusion Matrix')\n",
    "plt.show()"
   ],
   "metadata": {
    "collapsed": false,
    "ExecuteTime": {
     "end_time": "2024-01-07T17:47:46.662470200Z",
     "start_time": "2024-01-07T17:47:46.420216500Z"
    }
   },
   "id": "e7ac08181d39d679"
  },
  {
   "cell_type": "code",
   "execution_count": 20,
   "outputs": [
    {
     "data": {
      "text/plain": "<Figure size 1000x1000 with 1 Axes>",
      "image/png": "[encoded data removed]"
     },
     "metadata": {},
     "output_type": "display_data"
    }
   ],
   "source": [
    "from sklearn.metrics import roc_curve, auc\n",
    "\n",
    "fpr = dict()\n",
    "tpr = dict()\n",
    "roc_auc = dict()\n",
    "\n",
    "for i in range(len(labels)):\n",
    "    fpr[i], tpr[i], _ = roc_curve(y_test.values[:, i], y_pred[:, i])\n",
    "    roc_auc[i] = auc(fpr[i], tpr[i])\n",
    "    \n",
    "plt.figure(figsize=(10, 10))\n",
    "\n",
    "for i in range(len(labels)):\n",
    "    plt.plot(fpr[i], tpr[i], label=f\"{labels[i]} (AUC = {roc_auc[i]:.2f})\")\n",
    "    \n",
    "plt.plot([0, 1], [0, 1], 'k--')\n",
    "plt.xlabel('False Positive Rate')\n",
    "plt.ylabel('True Positive Rate')\n",
    "plt.title('ROC Curves')\n",
    "plt.legend()\n",
    "plt.show()"
   ],
   "metadata": {
    "collapsed": false,
    "ExecuteTime": {
     "end_time": "2024-01-07T17:47:46.939358300Z",
     "start_time": "2024-01-07T17:47:46.661460700Z"
    }
   },
   "id": "10e8c8b530bed422"
  },
  {
   "cell_type": "code",
   "execution_count": 21,
   "outputs": [
    {
     "name": "stdout",
     "output_type": "stream",
     "text": [
      "* Je veux aller au cinéma\n",
      " - CORRECT => 1.2%\n",
      " - NOT_FRENCH => 0.1%\n",
      " - NOT_TRIP => 64.1%\n",
      " - UNKNOWN => 5.2%\n",
      "\n",
      "* Je veux aller du cinéma au restaurant\n",
      " - CORRECT => 1.7%\n",
      " - NOT_FRENCH => 0.6%\n",
      " - NOT_TRIP => 89.6%\n",
      " - UNKNOWN => 0.9%\n",
      "\n",
      "* I'd like to go from the cinema to the restaurant\n",
      " - CORRECT => 0.0%\n",
      " - NOT_FRENCH => 100.0%\n",
      " - NOT_TRIP => 3.4%\n",
      " - UNKNOWN => 0.0%\n",
      "\n",
      "* I'd like to Paris from Nanterre\n",
      " - CORRECT => 0.0%\n",
      " - NOT_FRENCH => 100.0%\n",
      " - NOT_TRIP => 0.5%\n",
      " - UNKNOWN => 0.0%\n",
      "\n",
      "* zaeazea eaz e:az e,az e\"zahoiplù;!:gf\n",
      " - CORRECT => 0.1%\n",
      " - NOT_FRENCH => 0.4%\n",
      " - NOT_TRIP => 0.2%\n",
      " - UNKNOWN => 99.7%\n",
      "\n",
      "* J'aimerais me rendre de Nanterre à Paris\n",
      " - CORRECT => 100.0%\n",
      " - NOT_FRENCH => 0.1%\n",
      " - NOT_TRIP => 0.0%\n",
      " - UNKNOWN => 0.0%\n",
      "\n",
      "* Je veux aller de Le Havre à Port-Boulet\n",
      " - CORRECT => 92.2%\n",
      " - NOT_FRENCH => 0.0%\n",
      " - NOT_TRIP => 2.3%\n",
      " - UNKNOWN => 0.0%\n",
      "\n",
      "* Nantes à Toulouse\n",
      " - CORRECT => 0.5%\n",
      " - NOT_FRENCH => 5.7%\n",
      " - NOT_TRIP => 48.1%\n",
      " - UNKNOWN => 51.5%\n",
      "\n",
      "* Dirige moi vers Lyon depuis Saint-Étienne.\n",
      " - CORRECT => 100.0%\n",
      " - NOT_FRENCH => 0.1%\n",
      " - NOT_TRIP => 0.0%\n",
      " - UNKNOWN => 0.2%\n",
      "\n",
      "* Trouve moi un itinéraire pour aller chez Emma de Paris à Marseille\n",
      " - CORRECT => 100.0%\n",
      " - NOT_FRENCH => 0.1%\n",
      " - NOT_TRIP => 0.0%\n",
      " - UNKNOWN => 0.0%\n",
      "\n"
     ]
    }
   ],
   "source": [
    "texts = [\n",
    "    \"Je veux aller au cinéma\",\n",
    "    \"Je veux aller du cinéma au restaurant\",\n",
    "    \"I'd like to go from the cinema to the restaurant\",\n",
    "    \"I'd like to Paris from Nanterre\",\n",
    "    \"zaeazea eaz e:az e,az e\\\"zahoiplù;!:gf\",\n",
    "    \"J'aimerais me rendre de Nanterre à Paris\",\n",
    "    \"Je veux aller de Le Havre à Port-Boulet\",\n",
    "    \"Nantes à Toulouse\",\n",
    "    \"Dirige moi vers Lyon depuis Saint-Étienne.\",\n",
    "    \"Trouve moi un itinéraire pour aller chez Emma de Paris à Marseille\",\n",
    "]\n",
    "\n",
    "predicted_labels = pipeline.predict(texts)\n",
    "predicted_proba = pipeline.predict_proba(texts)\n",
    "\n",
    "# Displaying the predicted labels and probability scores for new texts\n",
    "for text, p_labels, prob in zip(texts, predicted_labels, predicted_proba):\n",
    "    print(\"*\", text)\n",
    "    for i, score in enumerate(prob):\n",
    "        print(' -', id2label[i], '=>', f\"{round(score * 100, 1)}%\")\n",
    "    print()"
   ],
   "metadata": {
    "collapsed": false,
    "ExecuteTime": {
     "end_time": "2024-01-07T17:47:47.034243300Z",
     "start_time": "2024-01-07T17:47:46.934359300Z"
    }
   },
   "id": "4720afd4c945c59c"
  },
  {
   "cell_type": "markdown",
   "source": [
    "### Pour un même classifier, la vectorisation TF-IDF semble moins performante que la N-grams ou la BoW (voir matrice de confusion)."
   ],
   "metadata": {
    "collapsed": false
   },
   "id": "c9333815f7bac435"
  }
 ],
 "metadata": {
  "kernelspec": {
   "display_name": "Python 3",
   "language": "python",
   "name": "python3"
  },
  "language_info": {
   "codemirror_mode": {
    "name": "ipython",
    "version": 2
   },
   "file_extension": ".py",
   "mimetype": "text/x-python",
   "name": "python",
   "nbconvert_exporter": "python",
   "pygments_lexer": "ipython2",
   "version": "2.7.6"
  }
 },
 "nbformat": 4,
 "nbformat_minor": 5
}
