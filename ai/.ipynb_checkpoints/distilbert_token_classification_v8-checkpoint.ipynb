{
 "cells": [
  {
   "cell_type": "markdown",
   "id": "d3f297db557b162d",
   "metadata": {
    "collapsed": false,
    "jupyter": {
     "outputs_hidden": false
    }
   },
   "source": [
    "# Stratégie d'entrainement (similaire à celle de la text classification)\n",
    "\n",
    "Après plusieurs entrainements non concluants qui semblaient montrer des cas d'overfitting, il a été décidé de changer de stratégie et d'entrainer le modèle avec un dataset plus petit et plus simple. En effet, étant donné que les phrases du dataset se répètent beaucoup à cause de l'utilisation de template, cela peut créer des biais sur la façon de prédire un label.\n",
    "\n",
    "*Quelques liens qui indiquent que le nombre de données d'entrainement peut être limité à quelques milliers lors du fine-tuning de BERT :*\n",
    "https://discuss.huggingface.co/t/thoughts-on-quantity-of-training-data-for-fine-tuning/14886/4\n",
    "https://www.quora.com/How-much-training-data-is-needed-to-fine-tune-a-BERT-like-model-for-a-closed-domain-problem\n",
    "\n",
    "De plus, le modèle DistilBERT est un modèle pré-entrainé sur un dataset suffisamment complet, ce qui pourrait signifier qu'il ne nécessite beaucoup d'ajustement pour s'adapter à nos labels. "
   ]
  },
  {
   "cell_type": "code",
   "execution_count": 1,
   "id": "initial_id",
   "metadata": {},
   "outputs": [],
   "source": [
    "from torch import cuda\n",
    "device = 'cuda' if cuda.is_available() else 'cpu'"
   ]
  },
  {
   "cell_type": "code",
   "execution_count": 2,
   "id": "923e3020e9eb09a9",
   "metadata": {
    "collapsed": false,
    "jupyter": {
     "outputs_hidden": false
    }
   },
   "outputs": [
    {
     "data": {
      "application/vnd.jupyter.widget-view+json": {
       "model_id": "3bed514cffd1474d9aa4b9bad1157300",
       "version_major": 2,
       "version_minor": 0
      },
      "text/plain": [
       "Downloading data files:   0%|          | 0/1 [00:00<?, ?it/s]"
      ]
     },
     "metadata": {},
     "output_type": "display_data"
    },
    {
     "data": {
      "application/vnd.jupyter.widget-view+json": {
       "model_id": "a7c3508a396644669d2f98a8dc274efa",
       "version_major": 2,
       "version_minor": 0
      },
      "text/plain": [
       "Extracting data files:   0%|          | 0/1 [00:00<?, ?it/s]"
      ]
     },
     "metadata": {},
     "output_type": "display_data"
    },
    {
     "data": {
      "application/vnd.jupyter.widget-view+json": {
       "model_id": "99eca9bdae454f1a9fe3d2252c4eb0f1",
       "version_major": 2,
       "version_minor": 0
      },
      "text/plain": [
       "Generating train split: 0 examples [00:00, ? examples/s]"
      ]
     },
     "metadata": {},
     "output_type": "display_data"
    },
    {
     "data": {
      "application/vnd.jupyter.widget-view+json": {
       "model_id": "56284de574c646e2a7b0ea159fe78cab",
       "version_major": 2,
       "version_minor": 0
      },
      "text/plain": [
       "Downloading data files:   0%|          | 0/1 [00:00<?, ?it/s]"
      ]
     },
     "metadata": {},
     "output_type": "display_data"
    },
    {
     "data": {
      "application/vnd.jupyter.widget-view+json": {
       "model_id": "097f13b95de643cb853bb1c0351f44c4",
       "version_major": 2,
       "version_minor": 0
      },
      "text/plain": [
       "Extracting data files:   0%|          | 0/1 [00:00<?, ?it/s]"
      ]
     },
     "metadata": {},
     "output_type": "display_data"
    },
    {
     "data": {
      "application/vnd.jupyter.widget-view+json": {
       "model_id": "716d098fb3914445939423cf87b86815",
       "version_major": 2,
       "version_minor": 0
      },
      "text/plain": [
       "Generating train split: 0 examples [00:00, ? examples/s]"
      ]
     },
     "metadata": {},
     "output_type": "display_data"
    },
    {
     "data": {
      "application/vnd.jupyter.widget-view+json": {
       "model_id": "8c12e5202f6547b68e669686375d2fb6",
       "version_major": 2,
       "version_minor": 0
      },
      "text/plain": [
       "Downloading data files:   0%|          | 0/1 [00:00<?, ?it/s]"
      ]
     },
     "metadata": {},
     "output_type": "display_data"
    },
    {
     "data": {
      "application/vnd.jupyter.widget-view+json": {
       "model_id": "7042c9e021b44929a19688584f07aecf",
       "version_major": 2,
       "version_minor": 0
      },
      "text/plain": [
       "Extracting data files:   0%|          | 0/1 [00:00<?, ?it/s]"
      ]
     },
     "metadata": {},
     "output_type": "display_data"
    },
    {
     "data": {
      "application/vnd.jupyter.widget-view+json": {
       "model_id": "1b6ad5440b484154991593b227f4a027",
       "version_major": 2,
       "version_minor": 0
      },
      "text/plain": [
       "Generating train split: 0 examples [00:00, ? examples/s]"
      ]
     },
     "metadata": {},
     "output_type": "display_data"
    },
    {
     "data": {
      "application/vnd.jupyter.widget-view+json": {
       "model_id": "e47b62c14fb3427582689fdb87094c06",
       "version_major": 2,
       "version_minor": 0
      },
      "text/plain": [
       "Downloading data files:   0%|          | 0/1 [00:00<?, ?it/s]"
      ]
     },
     "metadata": {},
     "output_type": "display_data"
    },
    {
     "data": {
      "application/vnd.jupyter.widget-view+json": {
       "model_id": "d886183dfd53454cb2c681c9ec6a913a",
       "version_major": 2,
       "version_minor": 0
      },
      "text/plain": [
       "Extracting data files:   0%|          | 0/1 [00:00<?, ?it/s]"
      ]
     },
     "metadata": {},
     "output_type": "display_data"
    },
    {
     "data": {
      "application/vnd.jupyter.widget-view+json": {
       "model_id": "c8e7a11a44a441cda29779698e52746b",
       "version_major": 2,
       "version_minor": 0
      },
      "text/plain": [
       "Generating train split: 0 examples [00:00, ? examples/s]"
      ]
     },
     "metadata": {},
     "output_type": "display_data"
    },
    {
     "data": {
      "text/plain": [
       "DatasetDict({\n",
       "    train: Dataset({\n",
       "        features: ['text', 'tokens', 'ner_tags'],\n",
       "        num_rows: 433826\n",
       "    })\n",
       "})"
      ]
     },
     "execution_count": 2,
     "metadata": {},
     "output_type": "execute_result"
    }
   ],
   "source": [
    "import os\n",
    "import ast\n",
    "from datasets import load_dataset, DatasetDict, Dataset, concatenate_datasets\n",
    "\n",
    "label_list = [\"O\", \"B-DEP\", \"I-DEP\", \"B-ARR\", \"I-ARR\"]\n",
    "\n",
    "path = \"data/token_classification/\"\n",
    "\n",
    "# dataset dict with emtpy attribute train\n",
    "dataset = DatasetDict({'train': Dataset.from_dict({})})\n",
    "\n",
    "for file in os.listdir(path):\n",
    "    if file.endswith(\".csv\"):\n",
    "        new_data = load_dataset('csv', data_files=path + file, delimiter=';')\n",
    "        dataset[\"train\"] = concatenate_datasets([dataset[\"train\"], new_data[\"train\"]])\n",
    "\n",
    "dataset"
   ]
  },
  {
   "cell_type": "code",
   "execution_count": 3,
   "id": "99d31bd4977ff05",
   "metadata": {
    "collapsed": false,
    "jupyter": {
     "outputs_hidden": false
    }
   },
   "outputs": [
    {
     "data": {
      "application/vnd.jupyter.widget-view+json": {
       "model_id": "f4612060e8d444a08f8fa0c1e85e45e4",
       "version_major": 2,
       "version_minor": 0
      },
      "text/plain": [
       "Map:   0%|          | 0/433826 [00:00<?, ? examples/s]"
      ]
     },
     "metadata": {},
     "output_type": "display_data"
    },
    {
     "data": {
      "application/vnd.jupyter.widget-view+json": {
       "model_id": "5ece9bfac154415f9da492efb4c70252",
       "version_major": 2,
       "version_minor": 0
      },
      "text/plain": [
       "Map:   0%|          | 0/433826 [00:00<?, ? examples/s]"
      ]
     },
     "metadata": {},
     "output_type": "display_data"
    }
   ],
   "source": [
    "# Evaluate tokens and ner_tags as lists\n",
    "dataset = dataset.map(lambda line: {'tokens': ast.literal_eval(line['tokens'])})\n",
    "dataset = dataset.map(lambda line: {'ner_tags': ast.literal_eval(line['ner_tags'])})"
   ]
  },
  {
   "cell_type": "code",
   "execution_count": 4,
   "id": "7767945c7a81ad58",
   "metadata": {
    "collapsed": false,
    "jupyter": {
     "outputs_hidden": false
    }
   },
   "outputs": [
    {
     "data": {
      "application/vnd.jupyter.widget-view+json": {
       "model_id": "b1797fb9e0de438390f873f21bf2a049",
       "version_major": 2,
       "version_minor": 0
      },
      "text/plain": [
       "Casting the dataset:   0%|          | 0/433826 [00:00<?, ? examples/s]"
      ]
     },
     "metadata": {},
     "output_type": "display_data"
    }
   ],
   "source": [
    "# Cast ner_tags to ClassLabel with all labels present in ner_tags\n",
    "from datasets import ClassLabel, Sequence\n",
    "\n",
    "dataset = dataset.cast_column(\"ner_tags\", Sequence(feature=ClassLabel(num_classes=len(label_list), names=label_list)))"
   ]
  },
  {
   "cell_type": "code",
   "execution_count": 5,
   "id": "9ffac0966310b7b3",
   "metadata": {
    "collapsed": false,
    "jupyter": {
     "outputs_hidden": false
    }
   },
   "outputs": [
    {
     "data": {
      "text/plain": [
       "{'text': Value(dtype='string', id=None),\n",
       " 'tokens': Sequence(feature=Value(dtype='string', id=None), length=-1, id=None),\n",
       " 'ner_tags': Sequence(feature=ClassLabel(names=['O', 'B-DEP', 'I-DEP', 'B-ARR', 'I-ARR'], id=None), length=-1, id=None)}"
      ]
     },
     "execution_count": 5,
     "metadata": {},
     "output_type": "execute_result"
    }
   ],
   "source": [
    "dataset['train'].features"
   ]
  },
  {
   "cell_type": "code",
   "execution_count": 6,
   "id": "da8366b049c9f097",
   "metadata": {
    "collapsed": false,
    "jupyter": {
     "outputs_hidden": false
    }
   },
   "outputs": [],
   "source": [
    "from datasets import ClassLabel, Sequence\n",
    "import random\n",
    "import pandas as pd\n",
    "from IPython.display import display, HTML\n",
    "\n",
    "def show_random_elements(dataset, num_examples=10):\n",
    "    assert num_examples <= len(dataset), \"Can't pick more elements than there are in the dataset.\"\n",
    "    picks = []\n",
    "    for _ in range(num_examples):\n",
    "        pick = random.randint(0, len(dataset)-1)\n",
    "        while pick in picks:\n",
    "            pick = random.randint(0, len(dataset)-1)\n",
    "        picks.append(pick)\n",
    "\n",
    "    df = pd.DataFrame(dataset[picks])\n",
    "    for column, typ in dataset.features.items():\n",
    "        if isinstance(typ, ClassLabel):\n",
    "            df[column] = df[column].transform(lambda i: typ.names[i])\n",
    "        elif isinstance(typ, Sequence) and isinstance(typ.feature, ClassLabel):\n",
    "            df[column] = df[column].transform(lambda x: [typ.feature.names[i] for i in x])\n",
    "    display(HTML(df.to_html()))"
   ]
  },
  {
   "cell_type": "code",
   "execution_count": 7,
   "id": "f4b53ae63504a1d1",
   "metadata": {
    "collapsed": false,
    "jupyter": {
     "outputs_hidden": false
    }
   },
   "outputs": [
    {
     "data": {
      "text/html": [
       "<table border=\"1\" class=\"dataframe\">\n",
       "  <thead>\n",
       "    <tr style=\"text-align: right;\">\n",
       "      <th></th>\n",
       "      <th>text</th>\n",
       "      <th>tokens</th>\n",
       "      <th>ner_tags</th>\n",
       "    </tr>\n",
       "  </thead>\n",
       "  <tbody>\n",
       "    <tr>\n",
       "      <th>0</th>\n",
       "      <td>Y a-t-il un moyen d'aller de l'aéroport de Bort-Les-Orgues Ã  l'aéroport de ettendorf-(angle-pont) ?</td>\n",
       "      <td>[Y, a-, t-, il, un, moyen, d', aller, de, l', aéroport, de, Bort-, Les-, Orgues, Ã, l', aéroport, de, ettendorf-, angle-, pont), , .]</td>\n",
       "      <td>[O, O, O, O, O, O, O, O, O, O, O, O, B-DEP, I-DEP, I-DEP, O, O, O, O, B-ARR, I-ARR, I-ARR, O, O]</td>\n",
       "    </tr>\n",
       "    <tr>\n",
       "      <th>1</th>\n",
       "      <td>Trouve-moi un itinÃ©raire de SAILLAT SUR VIENNE vers l'aéroport de valdahon.</td>\n",
       "      <td>[Trouve-, moi, un, itinÃ©, raire, de, SAILLAT, SUR, VIENNE, vers, l', aéroport, de, valdahon, .]</td>\n",
       "      <td>[O, O, O, O, O, O, B-ARR, I-ARR, I-ARR, O, O, O, O, B-DEP, O]</td>\n",
       "    </tr>\n",
       "    <tr>\n",
       "      <th>2</th>\n",
       "      <td>Je voudrais savoir comment me rendre Ã  Franois depuis pfaffenhoffen (mairie)..</td>\n",
       "      <td>[Je, voudrais, savoir, comment, me, rendre, Ã, Franois, depuis, pfaffenhoffen, mairie)]</td>\n",
       "      <td>[O, O, O, O, O, O, O, B-ARR, O, B-DEP, I-DEP]</td>\n",
       "    </tr>\n",
       "    <tr>\n",
       "      <th>3</th>\n",
       "      <td>Y a-t-il un moyen d'aller de l'aéroport de saint-yzan-de-soudiac Ã  l'aéroport de Frasne ?</td>\n",
       "      <td>[Y, a-, t-, il, un, moyen, d', aller, de, l', aéroport, de, saint-, yzan-, de-, soudiac, Ã, l', aéroport, de, Frasne, , .]</td>\n",
       "      <td>[O, O, O, O, O, O, O, O, O, O, O, O, B-DEP, I-DEP, I-DEP, I-DEP, O, O, O, O, B-ARR, O, O]</td>\n",
       "    </tr>\n",
       "    <tr>\n",
       "      <th>4</th>\n",
       "      <td>Pour rejoindre Yero situÃ© Ã  l'hopital de PRISSÉ LA CHARRIÈRE, commenÃ§ons depuis SÈLESTAT (SCHWILGUÉ).</td>\n",
       "      <td>[Pour, rejoindre, Yero, situÃ©, Ã, l', hopital, de, PRISSÉ, LA, CHARRIÈRE,, commenÃ§, ons, depuis, SÈLESTAT, SCHWILGUÉ)]</td>\n",
       "      <td>[O, O, O, O, O, O, O, O, B-ARR, I-ARR, I-ARR, O, O, O, B-DEP, I-DEP]</td>\n",
       "    </tr>\n",
       "    <tr>\n",
       "      <th>5</th>\n",
       "      <td>Planifie un dÃ©placement efficace vers LESPARRE-MÉDOC en partant de REVIGNY-SUR-ORNAIN pour trouver Kindra.</td>\n",
       "      <td>[Planifie, un, dÃ©, placement, efficace, vers, LESPARRE-, MÉDOC, en, partant, de, REVIGNY-, SUR-, ORNAIN, pour, trouver, Kindra, .]</td>\n",
       "      <td>[O, O, O, O, O, O, B-ARR, I-ARR, O, O, O, B-DEP, I-DEP, I-DEP, O, O, O, O]</td>\n",
       "    </tr>\n",
       "    <tr>\n",
       "      <th>6</th>\n",
       "      <td>Dirige-moi de Retiers Ã  COPPET pour rencontrer Loen.</td>\n",
       "      <td>[Dirige-, moi, de, Retiers, Ã, COPPET, pour, rencontrer, Loen, .]</td>\n",
       "      <td>[O, O, O, B-DEP, O, B-ARR, O, O, O, O]</td>\n",
       "    </tr>\n",
       "    <tr>\n",
       "      <th>7</th>\n",
       "      <td>En partant de CAHORS, je voudrais savoir comment me rendre chez Moad Ã  châteaudun-lep-paulsen ?</td>\n",
       "      <td>[En, partant, de, CAHORS,, je, voudrais, savoir, comment, me, rendre, chez, Moad, Ã, châteaudun-, lep-, paulsen, , .]</td>\n",
       "      <td>[O, O, O, B-DEP, O, O, O, O, O, O, O, O, O, B-ARR, I-ARR, I-ARR, O, O]</td>\n",
       "    </tr>\n",
       "    <tr>\n",
       "      <th>8</th>\n",
       "      <td>Je pars de l'hopital de Offenburg pour aller Ã  l'hopital de st-aignan-pl-wilson.</td>\n",
       "      <td>[Je, pars, de, l', hopital, de, Offenburg, pour, aller, Ã, l', hopital, de, st-, aignan-, pl-, wilson, .]</td>\n",
       "      <td>[O, O, O, O, O, O, B-DEP, O, O, O, O, O, O, B-ARR, I-ARR, I-ARR, I-ARR, O]</td>\n",
       "    </tr>\n",
       "    <tr>\n",
       "      <th>9</th>\n",
       "      <td>Comment puis-je me rendre de Thann Ã  WOERTH RHEIN le plus rapidement ?</td>\n",
       "      <td>[Comment, puis-, je, me, rendre, de, Thann, Ã, WOERTH, RHEIN, le, plus, rapidement, , .]</td>\n",
       "      <td>[O, O, O, O, O, O, B-DEP, O, B-ARR, I-ARR, O, O, O, O, O]</td>\n",
       "    </tr>\n",
       "  </tbody>\n",
       "</table>"
      ],
      "text/plain": [
       "<IPython.core.display.HTML object>"
      ]
     },
     "metadata": {},
     "output_type": "display_data"
    }
   ],
   "source": [
    "show_random_elements(dataset[\"train\"])"
   ]
  },
  {
   "cell_type": "code",
   "execution_count": 8,
   "id": "9d854dbfadcd2196",
   "metadata": {
    "collapsed": false,
    "jupyter": {
     "outputs_hidden": false
    }
   },
   "outputs": [
    {
     "data": {
      "text/plain": [
       "{'O': 5400108,\n",
       " 'B-DEP': 392096,\n",
       " 'B-ARR': 392096,\n",
       " 'I-ARR': 379021,\n",
       " 'I-DEP': 344930}"
      ]
     },
     "execution_count": 8,
     "metadata": {},
     "output_type": "execute_result"
    }
   ],
   "source": [
    "# count number of each label in ner_tags\n",
    "from collections import Counter\n",
    "\n",
    "tag_counts = Counter()\n",
    "for tags in dataset['train']['ner_tags']:\n",
    "    tag_counts.update(tags)\n",
    "    \n",
    "tag_counts = {label_list[key]: value for key, value in tag_counts.items()}\n",
    "tag_counts"
   ]
  },
  {
   "cell_type": "code",
   "execution_count": 9,
   "id": "2125be68101ed46f",
   "metadata": {
    "collapsed": false,
    "jupyter": {
     "outputs_hidden": false
    }
   },
   "outputs": [
    {
     "data": {
      "image/png": "[encoded data removed]",
      "text/plain": [
       "<Figure size 2000x500 with 1 Axes>"
      ]
     },
     "metadata": {},
     "output_type": "display_data"
    }
   ],
   "source": [
    "import matplotlib.pyplot as plt\n",
    "\n",
    "plt.figure(figsize=(20, 5))\n",
    "plt.bar(tag_counts.keys(), tag_counts.values())\n",
    "plt.show()"
   ]
  },
  {
   "cell_type": "code",
   "execution_count": 10,
   "id": "55ee5601cb35cac9",
   "metadata": {
    "collapsed": false,
    "jupyter": {
     "outputs_hidden": false
    }
   },
   "outputs": [
    {
     "data": {
      "image/png": "[encoded data removed]",
      "text/plain": [
       "<Figure size 2000x500 with 1 Axes>"
      ]
     },
     "metadata": {},
     "output_type": "display_data"
    }
   ],
   "source": [
    "del tag_counts['O']\n",
    "plt.figure(figsize=(20, 5))\n",
    "plt.bar(tag_counts.keys(), tag_counts.values())\n",
    "plt.show()"
   ]
  },
  {
   "cell_type": "code",
   "execution_count": 11,
   "id": "be7b748ce559246c",
   "metadata": {
    "collapsed": false,
    "jupyter": {
     "outputs_hidden": false
    }
   },
   "outputs": [
    {
     "data": {
      "text/plain": [
       "DatasetDict({\n",
       "    train: Dataset({\n",
       "        features: ['text', 'tokens', 'ner_tags'],\n",
       "        num_rows: 43382\n",
       "    })\n",
       "    test: Dataset({\n",
       "        features: ['text', 'tokens', 'ner_tags'],\n",
       "        num_rows: 351400\n",
       "    })\n",
       "    valid: Dataset({\n",
       "        features: ['text', 'tokens', 'ner_tags'],\n",
       "        num_rows: 39044\n",
       "    })\n",
       "})"
      ]
     },
     "execution_count": 11,
     "metadata": {},
     "output_type": "execute_result"
    }
   ],
   "source": [
    "# Shuffle train dataset, and pick 75% of it\n",
    "train_data = dataset['train']\n",
    "train_data = train_data.shuffle(seed=42)\n",
    "#train_data = train_data.train_test_split(test_size=0.25)['train']\n",
    "\n",
    "# Split so we have 10% of train, 81% of test and 9% of valid\n",
    "train_test_valid = train_data.train_test_split(test_size=0.9)\n",
    "test_valid = train_test_valid['test'].train_test_split(test_size=0.9)\n",
    "\n",
    "dataset = DatasetDict({\n",
    "    'train': train_test_valid['train'],\n",
    "    'test': test_valid['test'],\n",
    "    'valid': test_valid['train']\n",
    "})\n",
    "\n",
    "dataset"
   ]
  },
  {
   "cell_type": "code",
   "execution_count": 12,
   "id": "581a0c5666107ccb",
   "metadata": {
    "collapsed": false,
    "jupyter": {
     "outputs_hidden": false
    }
   },
   "outputs": [],
   "source": [
    "task = \"ner\" # Should be one of \"ner\", \"pos\" or \"chunk\"\n",
    "model_checkpoint = \"distilbert-base-uncased\""
   ]
  },
  {
   "cell_type": "code",
   "execution_count": 13,
   "id": "3d40f9cf5547a573",
   "metadata": {
    "collapsed": false,
    "jupyter": {
     "outputs_hidden": false
    }
   },
   "outputs": [],
   "source": [
    "from transformers import AutoTokenizer\n",
    "\n",
    "tokenizer = AutoTokenizer.from_pretrained(model_checkpoint)"
   ]
  },
  {
   "cell_type": "code",
   "execution_count": 14,
   "id": "54195c59cdcc187f",
   "metadata": {
    "collapsed": false,
    "jupyter": {
     "outputs_hidden": false
    }
   },
   "outputs": [],
   "source": [
    "import transformers\n",
    "assert isinstance(tokenizer, transformers.PreTrainedTokenizerFast)"
   ]
  },
  {
   "cell_type": "code",
   "execution_count": 15,
   "id": "50851fde289728b2",
   "metadata": {
    "collapsed": false,
    "jupyter": {
     "outputs_hidden": false
    }
   },
   "outputs": [],
   "source": [
    "example = dataset[\"train\"][0]"
   ]
  },
  {
   "cell_type": "code",
   "execution_count": 16,
   "id": "801ea6c51fd36c5b",
   "metadata": {
    "collapsed": false,
    "jupyter": {
     "outputs_hidden": false
    }
   },
   "outputs": [
    {
     "data": {
      "text/plain": [
       "['Trouve-',\n",
       " 'moi',\n",
       " 'le',\n",
       " 'chemin',\n",
       " 'de',\n",
       " 'Bort-',\n",
       " 'Les-',\n",
       " 'Orgues',\n",
       " 'Ã',\n",
       " 'la',\n",
       " 'gare',\n",
       " 'de',\n",
       " 'ETTENDORF-',\n",
       " 'ANGLE-',\n",
       " 'PONT)']"
      ]
     },
     "execution_count": 16,
     "metadata": {},
     "output_type": "execute_result"
    }
   ],
   "source": [
    "example[\"tokens\"]"
   ]
  },
  {
   "cell_type": "code",
   "execution_count": 17,
   "id": "699448cb4c1f46c5",
   "metadata": {
    "collapsed": false,
    "jupyter": {
     "outputs_hidden": false
    }
   },
   "outputs": [
    {
     "data": {
      "text/plain": [
       "{'input_ids': [101, 19817, 7140, 3726, 1011, 25175, 3393, 18178, 10020, 2139, 8945, 5339, 1011, 4649, 1011, 8917, 15808, 1037, 2474, 11721, 2890, 2139, 3802, 6528, 11592, 1011, 6466, 1011, 21179, 1007, 102], 'attention_mask': [1, 1, 1, 1, 1, 1, 1, 1, 1, 1, 1, 1, 1, 1, 1, 1, 1, 1, 1, 1, 1, 1, 1, 1, 1, 1, 1, 1, 1, 1, 1]}"
      ]
     },
     "execution_count": 17,
     "metadata": {},
     "output_type": "execute_result"
    }
   ],
   "source": [
    "tokenizer(example[\"tokens\"], is_split_into_words=True)"
   ]
  },
  {
   "cell_type": "code",
   "execution_count": 18,
   "id": "7a2ff719508c454",
   "metadata": {
    "collapsed": false,
    "jupyter": {
     "outputs_hidden": false
    }
   },
   "outputs": [
    {
     "data": {
      "text/plain": [
       "['[CLS]',\n",
       " 'tr',\n",
       " '##ou',\n",
       " '##ve',\n",
       " '-',\n",
       " 'moi',\n",
       " 'le',\n",
       " 'che',\n",
       " '##min',\n",
       " 'de',\n",
       " 'bo',\n",
       " '##rt',\n",
       " '-',\n",
       " 'les',\n",
       " '-',\n",
       " 'org',\n",
       " '##ues',\n",
       " 'a',\n",
       " 'la',\n",
       " 'ga',\n",
       " '##re',\n",
       " 'de',\n",
       " 'et',\n",
       " '##ten',\n",
       " '##dorf',\n",
       " '-',\n",
       " 'angle',\n",
       " '-',\n",
       " 'pont',\n",
       " ')',\n",
       " '[SEP]']"
      ]
     },
     "execution_count": 18,
     "metadata": {},
     "output_type": "execute_result"
    }
   ],
   "source": [
    "tokenized_input = tokenizer(example[\"tokens\"], is_split_into_words=True)\n",
    "tokens = tokenizer.convert_ids_to_tokens(tokenized_input[\"input_ids\"])\n",
    "tokens"
   ]
  },
  {
   "cell_type": "code",
   "execution_count": 19,
   "id": "9ba98f777573cf13",
   "metadata": {
    "collapsed": false,
    "jupyter": {
     "outputs_hidden": false
    }
   },
   "outputs": [
    {
     "name": "stdout",
     "output_type": "stream",
     "text": [
      "31 31\n"
     ]
    }
   ],
   "source": [
    "word_ids = tokenized_input.word_ids()\n",
    "aligned_labels = [-100 if i is None else example[f\"{task}_tags\"][i] for i in word_ids]\n",
    "print(len(aligned_labels), len(tokenized_input[\"input_ids\"]))"
   ]
  },
  {
   "cell_type": "code",
   "execution_count": 20,
   "id": "5f39a004573b40ad",
   "metadata": {
    "collapsed": false,
    "jupyter": {
     "outputs_hidden": false
    }
   },
   "outputs": [],
   "source": [
    "label_all_tokens = True"
   ]
  },
  {
   "cell_type": "code",
   "execution_count": 21,
   "id": "ae005e07fce1246",
   "metadata": {
    "collapsed": false,
    "jupyter": {
     "outputs_hidden": false
    }
   },
   "outputs": [],
   "source": [
    "def tokenize_and_align_labels(examples):\n",
    "    tokenized_inputs = tokenizer(examples[\"tokens\"], truncation=True, is_split_into_words=True)\n",
    "\n",
    "    labels = []\n",
    "    for i, label in enumerate(examples[f\"{task}_tags\"]):\n",
    "        word_ids = tokenized_inputs.word_ids(batch_index=i)\n",
    "        previous_word_idx = None\n",
    "        label_ids = []\n",
    "        for word_idx in word_ids:\n",
    "            # Special tokens have a word id that is None. We set the label to -100 so they are automatically\n",
    "            # ignored in the loss function.\n",
    "            if word_idx is None:\n",
    "                label_ids.append(-100)\n",
    "            # We set the label for the first token of each word.\n",
    "            elif word_idx != previous_word_idx:\n",
    "                label_ids.append(label[word_idx])\n",
    "            # For the other tokens in a word, we set the label to either the current label or -100, depending on\n",
    "            # the label_all_tokens flag.\n",
    "            else:\n",
    "                label_ids.append(label[word_idx] if label_all_tokens else -100)\n",
    "            previous_word_idx = word_idx\n",
    "\n",
    "        labels.append(label_ids)\n",
    "    \n",
    "    tokenized_inputs[\"labels\"] = labels\n",
    "    return tokenized_inputs"
   ]
  },
  {
   "cell_type": "code",
   "execution_count": 22,
   "id": "acec2072b75fee3f",
   "metadata": {
    "collapsed": false,
    "jupyter": {
     "outputs_hidden": false
    }
   },
   "outputs": [
    {
     "data": {
      "application/vnd.jupyter.widget-view+json": {
       "model_id": "2cb97053c337456a93ffddef3a0852ad",
       "version_major": 2,
       "version_minor": 0
      },
      "text/plain": [
       "Map:   0%|          | 0/43382 [00:00<?, ? examples/s]"
      ]
     },
     "metadata": {},
     "output_type": "display_data"
    },
    {
     "data": {
      "application/vnd.jupyter.widget-view+json": {
       "model_id": "b8923707c1a44ba7be8e4914ecfe4755",
       "version_major": 2,
       "version_minor": 0
      },
      "text/plain": [
       "Map:   0%|          | 0/351400 [00:00<?, ? examples/s]"
      ]
     },
     "metadata": {},
     "output_type": "display_data"
    },
    {
     "data": {
      "application/vnd.jupyter.widget-view+json": {
       "model_id": "6d8794d88e1c4e1f96b4e02740ccd3ce",
       "version_major": 2,
       "version_minor": 0
      },
      "text/plain": [
       "Map:   0%|          | 0/39044 [00:00<?, ? examples/s]"
      ]
     },
     "metadata": {},
     "output_type": "display_data"
    }
   ],
   "source": [
    "tokenized_datasets = dataset.map(tokenize_and_align_labels, batched=True)"
   ]
  },
  {
   "cell_type": "code",
   "execution_count": 23,
   "id": "b40541747737267",
   "metadata": {
    "collapsed": false,
    "jupyter": {
     "outputs_hidden": false
    }
   },
   "outputs": [],
   "source": [
    "id2label = {i: label for i, label in enumerate(label_list)}\n",
    "label2id = {label: i for i, label in id2label.items()}"
   ]
  },
  {
   "cell_type": "code",
   "execution_count": 24,
   "id": "afbc826e8b9f7f89",
   "metadata": {
    "collapsed": false,
    "jupyter": {
     "outputs_hidden": false
    }
   },
   "outputs": [
    {
     "name": "stderr",
     "output_type": "stream",
     "text": [
      "Some weights of DistilBertForTokenClassification were not initialized from the model checkpoint at distilbert-base-uncased and are newly initialized: ['classifier.bias', 'classifier.weight']\n",
      "You should probably TRAIN this model on a down-stream task to be able to use it for predictions and inference.\n"
     ]
    }
   ],
   "source": [
    "from transformers import AutoModelForTokenClassification, TrainingArguments, Trainer\n",
    "\n",
    "model = AutoModelForTokenClassification.from_pretrained(\n",
    "    model_checkpoint, \n",
    "    num_labels=len(label_list),\n",
    "    id2label=id2label,\n",
    "    label2id=label2id\n",
    ")"
   ]
  },
  {
   "cell_type": "code",
   "execution_count": 25,
   "id": "ce333710b79d837",
   "metadata": {
    "collapsed": false,
    "jupyter": {
     "outputs_hidden": false
    }
   },
   "outputs": [],
   "source": [
    "batch_size = 16\n",
    "epochs = 3\n",
    "metric_name = \"f1\""
   ]
  },
  {
   "cell_type": "code",
   "execution_count": 26,
   "id": "98ce9221697b63ea",
   "metadata": {
    "collapsed": false,
    "jupyter": {
     "outputs_hidden": false
    }
   },
   "outputs": [],
   "source": [
    "args = TrainingArguments(\n",
    "    f\"models/distilbert-finetuned-token-classification-ner-trip\",\n",
    "    evaluation_strategy = \"epoch\",\n",
    "    learning_rate=2e-5,\n",
    "    per_device_train_batch_size=batch_size,\n",
    "    per_device_eval_batch_size=batch_size,\n",
    "    num_train_epochs=3,\n",
    "    weight_decay=0.01,\n",
    "    #push_to_hub=True,\n",
    ")"
   ]
  },
  {
   "cell_type": "code",
   "execution_count": 27,
   "id": "a512bb6a5253ad47",
   "metadata": {
    "collapsed": false,
    "jupyter": {
     "outputs_hidden": false
    }
   },
   "outputs": [],
   "source": [
    "from transformers import DataCollatorForTokenClassification\n",
    "\n",
    "data_collator = DataCollatorForTokenClassification(tokenizer)"
   ]
  },
  {
   "cell_type": "code",
   "execution_count": 28,
   "id": "65d6cd897d5cf5fb",
   "metadata": {
    "collapsed": false,
    "jupyter": {
     "outputs_hidden": false
    }
   },
   "outputs": [
    {
     "name": "stderr",
     "output_type": "stream",
     "text": [
      "C:\\Users\\Eliott Clavier\\AppData\\Local\\Temp\\ipykernel_8924\\3097260500.py:3: FutureWarning: load_metric is deprecated and will be removed in the next major version of datasets. Use 'evaluate.load' instead, from the new library 🤗 Evaluate: https://huggingface.co/docs/evaluate\n",
      "  metric = load_metric(\"seqeval\")\n"
     ]
    }
   ],
   "source": [
    "from datasets import load_metric\n",
    "\n",
    "metric = load_metric(\"seqeval\")"
   ]
  },
  {
   "cell_type": "code",
   "execution_count": 29,
   "id": "4c0f2114b0a6931",
   "metadata": {
    "collapsed": false,
    "jupyter": {
     "outputs_hidden": false
    }
   },
   "outputs": [
    {
     "data": {
      "text/plain": [
       "{'ARR': {'precision': 1.0, 'recall': 1.0, 'f1': 1.0, 'number': 1},\n",
       " 'DEP': {'precision': 1.0, 'recall': 1.0, 'f1': 1.0, 'number': 1},\n",
       " 'overall_precision': 1.0,\n",
       " 'overall_recall': 1.0,\n",
       " 'overall_f1': 1.0,\n",
       " 'overall_accuracy': 1.0}"
      ]
     },
     "execution_count": 29,
     "metadata": {},
     "output_type": "execute_result"
    }
   ],
   "source": [
    "labels = [label_list[i] for i in example[f\"{task}_tags\"]]\n",
    "metric.compute(predictions=[labels], references=[labels])"
   ]
  },
  {
   "cell_type": "code",
   "execution_count": 30,
   "id": "9999a473af436906",
   "metadata": {
    "collapsed": false,
    "jupyter": {
     "outputs_hidden": false
    }
   },
   "outputs": [],
   "source": [
    "import numpy as np\n",
    "\n",
    "def compute_metrics(p):\n",
    "    predictions, labels = p\n",
    "    predictions = np.argmax(predictions, axis=2)\n",
    "\n",
    "    # Remove ignored index (special tokens)\n",
    "    y_pred = [\n",
    "        [label_list[p] for (p, l) in zip(prediction, label) if l != -100]\n",
    "        for prediction, label in zip(predictions, labels)\n",
    "    ]\n",
    "    y_true = [\n",
    "        [label_list[l] for (p, l) in zip(prediction, label) if l != -100]\n",
    "        for prediction, label in zip(predictions, labels)\n",
    "    ]\n",
    "\n",
    "    results = metric.compute(predictions=y_pred, references=y_true)\n",
    "\n",
    "    return {\n",
    "        \"precision\": results[\"overall_precision\"],\n",
    "        \"recall\": results[\"overall_recall\"],\n",
    "        \"f1\": results[\"overall_f1\"],\n",
    "        \"accuracy\": results[\"overall_accuracy\"],\n",
    "    }"
   ]
  },
  {
   "cell_type": "code",
   "execution_count": 31,
   "id": "ea7217f2e813c589",
   "metadata": {
    "collapsed": false,
    "jupyter": {
     "outputs_hidden": false
    }
   },
   "outputs": [],
   "source": [
    "trainer = Trainer(\n",
    "    model,\n",
    "    args,\n",
    "    train_dataset=tokenized_datasets[\"train\"],\n",
    "    eval_dataset=tokenized_datasets[\"valid\"],\n",
    "    data_collator=data_collator,\n",
    "    tokenizer=tokenizer,\n",
    "    compute_metrics=compute_metrics\n",
    ")"
   ]
  },
  {
   "cell_type": "code",
   "execution_count": 32,
   "id": "63bb885915a419f0",
   "metadata": {
    "collapsed": false,
    "jupyter": {
     "outputs_hidden": false
    }
   },
   "outputs": [
    {
     "name": "stderr",
     "output_type": "stream",
     "text": [
      "You're using a DistilBertTokenizerFast tokenizer. Please note that with a fast tokenizer, using the `__call__` method is faster than using a method to encode the text followed by a call to the `pad` method to get a padded encoding.\n"
     ]
    },
    {
     "data": {
      "text/html": [
       "\n",
       "    <div>\n",
       "      \n",
       "      <progress value='8136' max='8136' style='width:300px; height:20px; vertical-align: middle;'></progress>\n",
       "      [8136/8136 09:29, Epoch 3/3]\n",
       "    </div>\n",
       "    <table border=\"1\" class=\"dataframe\">\n",
       "  <thead>\n",
       " <tr style=\"text-align: left;\">\n",
       "      <th>Epoch</th>\n",
       "      <th>Training Loss</th>\n",
       "      <th>Validation Loss</th>\n",
       "      <th>Precision</th>\n",
       "      <th>Recall</th>\n",
       "      <th>F1</th>\n",
       "      <th>Accuracy</th>\n",
       "    </tr>\n",
       "  </thead>\n",
       "  <tbody>\n",
       "    <tr>\n",
       "      <td>1</td>\n",
       "      <td>0.002100</td>\n",
       "      <td>0.000770</td>\n",
       "      <td>0.999013</td>\n",
       "      <td>0.999116</td>\n",
       "      <td>0.999064</td>\n",
       "      <td>0.999773</td>\n",
       "    </tr>\n",
       "    <tr>\n",
       "      <td>2</td>\n",
       "      <td>0.000500</td>\n",
       "      <td>0.000263</td>\n",
       "      <td>0.999599</td>\n",
       "      <td>0.999967</td>\n",
       "      <td>0.999783</td>\n",
       "      <td>0.999925</td>\n",
       "    </tr>\n",
       "    <tr>\n",
       "      <td>3</td>\n",
       "      <td>0.000100</td>\n",
       "      <td>0.000068</td>\n",
       "      <td>0.999913</td>\n",
       "      <td>1.000000</td>\n",
       "      <td>0.999957</td>\n",
       "      <td>0.999979</td>\n",
       "    </tr>\n",
       "  </tbody>\n",
       "</table><p>"
      ],
      "text/plain": [
       "<IPython.core.display.HTML object>"
      ]
     },
     "metadata": {},
     "output_type": "display_data"
    },
    {
     "name": "stderr",
     "output_type": "stream",
     "text": [
      "Checkpoint destination directory models/distilbert-finetuned-token-classification-ner-trip\\checkpoint-500 already exists and is non-empty.Saving will proceed but saved results may be invalid.\n",
      "Checkpoint destination directory models/distilbert-finetuned-token-classification-ner-trip\\checkpoint-1000 already exists and is non-empty.Saving will proceed but saved results may be invalid.\n",
      "Checkpoint destination directory models/distilbert-finetuned-token-classification-ner-trip\\checkpoint-1500 already exists and is non-empty.Saving will proceed but saved results may be invalid.\n",
      "Checkpoint destination directory models/distilbert-finetuned-token-classification-ner-trip\\checkpoint-2000 already exists and is non-empty.Saving will proceed but saved results may be invalid.\n",
      "Checkpoint destination directory models/distilbert-finetuned-token-classification-ner-trip\\checkpoint-2500 already exists and is non-empty.Saving will proceed but saved results may be invalid.\n",
      "Checkpoint destination directory models/distilbert-finetuned-token-classification-ner-trip\\checkpoint-3000 already exists and is non-empty.Saving will proceed but saved results may be invalid.\n",
      "Checkpoint destination directory models/distilbert-finetuned-token-classification-ner-trip\\checkpoint-3500 already exists and is non-empty.Saving will proceed but saved results may be invalid.\n",
      "Checkpoint destination directory models/distilbert-finetuned-token-classification-ner-trip\\checkpoint-4000 already exists and is non-empty.Saving will proceed but saved results may be invalid.\n",
      "Checkpoint destination directory models/distilbert-finetuned-token-classification-ner-trip\\checkpoint-4500 already exists and is non-empty.Saving will proceed but saved results may be invalid.\n",
      "Checkpoint destination directory models/distilbert-finetuned-token-classification-ner-trip\\checkpoint-5000 already exists and is non-empty.Saving will proceed but saved results may be invalid.\n",
      "Checkpoint destination directory models/distilbert-finetuned-token-classification-ner-trip\\checkpoint-5500 already exists and is non-empty.Saving will proceed but saved results may be invalid.\n"
     ]
    },
    {
     "data": {
      "text/plain": [
       "TrainOutput(global_step=8136, training_loss=0.013412103015011874, metrics={'train_runtime': 570.1053, 'train_samples_per_second': 228.284, 'train_steps_per_second': 14.271, 'total_flos': 1633069108703196.0, 'train_loss': 0.013412103015011874, 'epoch': 3.0})"
      ]
     },
     "execution_count": 32,
     "metadata": {},
     "output_type": "execute_result"
    }
   ],
   "source": [
    "trainer.train()"
   ]
  },
  {
   "cell_type": "code",
   "execution_count": 33,
   "id": "7eaced7e31b8d651",
   "metadata": {
    "collapsed": false,
    "jupyter": {
     "outputs_hidden": false
    }
   },
   "outputs": [],
   "source": [
    "trainer.save_model(\"models/distilbert-finetuned-token-classification-ner-trip\")"
   ]
  },
  {
   "cell_type": "code",
   "execution_count": 34,
   "id": "489e96dc23c719a9",
   "metadata": {
    "collapsed": false,
    "jupyter": {
     "outputs_hidden": false
    }
   },
   "outputs": [
    {
     "data": {
      "text/html": [],
      "text/plain": [
       "<IPython.core.display.HTML object>"
      ]
     },
     "metadata": {},
     "output_type": "display_data"
    }
   ],
   "source": [
    "train_metrics = trainer.evaluate(tokenized_datasets[\"train\"])\n",
    "validation_metrics = trainer.evaluate(tokenized_datasets[\"valid\"])"
   ]
  },
  {
   "cell_type": "code",
   "execution_count": 35,
   "id": "17869fd8a7122d08",
   "metadata": {
    "collapsed": false,
    "jupyter": {
     "outputs_hidden": false
    }
   },
   "outputs": [
    {
     "data": {
      "text/plain": [
       "{'ARR': {'precision': 0.999924911234352,\n",
       "  'recall': 1.0,\n",
       "  'f1': 0.9999624542075424,\n",
       "  'number': 93216},\n",
       " 'DEP': {'precision': 0.9999012334840437,\n",
       "  'recall': 1.0,\n",
       "  'f1': 0.9999506143031953,\n",
       "  'number': 91115},\n",
       " 'overall_precision': 0.9999132071582396,\n",
       " 'overall_recall': 1.0,\n",
       " 'overall_f1': 0.9999566016957887,\n",
       " 'overall_accuracy': 0.9999794557453409}"
      ]
     },
     "execution_count": 35,
     "metadata": {},
     "output_type": "execute_result"
    }
   ],
   "source": [
    "predictions, labels, _ = trainer.predict(tokenized_datasets[\"valid\"])\n",
    "predictions = np.argmax(predictions, axis=2)\n",
    "\n",
    "# Remove ignored index (special tokens)\n",
    "y_pred = [\n",
    "    [label_list[p] for (p, l) in zip(prediction, label) if l != -100]\n",
    "    for prediction, label in zip(predictions, labels)\n",
    "]\n",
    "y_true = [\n",
    "    [label_list[l] for (p, l) in zip(prediction, label) if l != -100]\n",
    "    for prediction, label in zip(predictions, labels)\n",
    "]\n",
    "\n",
    "results = metric.compute(predictions=y_pred, references=y_true)\n",
    "results"
   ]
  },
  {
   "cell_type": "markdown",
   "id": "a186e492a8234a39",
   "metadata": {
    "collapsed": false,
    "jupyter": {
     "outputs_hidden": false
    }
   },
   "source": [
    "# Matrice de confusion"
   ]
  },
  {
   "cell_type": "code",
   "execution_count": 36,
   "id": "a237844430a7a0f7",
   "metadata": {
    "collapsed": false,
    "jupyter": {
     "outputs_hidden": false
    }
   },
   "outputs": [
    {
     "data": {
      "image/png": "[encoded data removed]",
      "text/plain": [
       "<Figure size 640x480 with 2 Axes>"
      ]
     },
     "metadata": {},
     "output_type": "display_data"
    }
   ],
   "source": [
    "import matplotlib.pyplot as plt\n",
    "import seaborn as sns\n",
    "from sklearn.metrics import confusion_matrix\n",
    "\n",
    "flat_y_true = [item for sublist in y_true for item in sublist]\n",
    "flat_y_pred = [item for sublist in y_pred for item in sublist]\n",
    "\n",
    "cm = confusion_matrix(flat_y_true, flat_y_pred, labels=label_list)\n",
    "\n",
    "sns.heatmap(cm, annot=True, cmap='Blues', fmt='g', xticklabels=label_list, yticklabels=label_list)\n",
    "plt.xlabel('Predicted labels')\n",
    "plt.ylabel('True labels')\n",
    "plt.title('Confusion Matrix')\n",
    "plt.show()"
   ]
  },
  {
   "cell_type": "markdown",
   "id": "daa939002436b7c1",
   "metadata": {
    "collapsed": false,
    "jupyter": {
     "outputs_hidden": false
    }
   },
   "source": [
    "# Matrice de confusion sans le label O"
   ]
  },
  {
   "cell_type": "code",
   "execution_count": 37,
   "id": "4942db4c4570d654",
   "metadata": {
    "collapsed": false,
    "jupyter": {
     "outputs_hidden": false
    }
   },
   "outputs": [
    {
     "data": {
      "image/png": "[encoded data removed]",
      "text/plain": [
       "<Figure size 640x480 with 2 Axes>"
      ]
     },
     "metadata": {},
     "output_type": "display_data"
    }
   ],
   "source": [
    "def filter_label(label_to_exclude, true_labels, predicted_labels):\n",
    "    filtered_true = [true for true, pred in zip(true_labels, predicted_labels) if pred != label_to_exclude]\n",
    "    filtered_pred = [pred for pred in predicted_labels if pred != label_to_exclude]\n",
    "    return filtered_true, filtered_pred\n",
    "\n",
    "filtered_y_true, filtered_y_pred = filter_label(\"O\", y_true, y_pred)\n",
    "\n",
    "flat_filtered_y_true = [item for sublist in filtered_y_true for item in sublist]\n",
    "flat_filtered_y_pred = [item for sublist in filtered_y_pred for item in sublist]\n",
    "\n",
    "cm = confusion_matrix(flat_filtered_y_true, flat_filtered_y_pred, labels=label_list[1:])\n",
    "\n",
    "sns.heatmap(cm, annot=True, cmap='Blues', fmt='g', xticklabels=label_list[1:], yticklabels=label_list[1:])\n",
    "plt.xlabel('Predicted labels')\n",
    "plt.ylabel('True labels')\n",
    "plt.title('Confusion Matrix')\n",
    "plt.show()"
   ]
  },
  {
   "cell_type": "code",
   "execution_count": 38,
   "id": "34b17bb00596a5eb",
   "metadata": {
    "collapsed": false,
    "jupyter": {
     "outputs_hidden": false
    }
   },
   "outputs": [
    {
     "name": "stdout",
     "output_type": "stream",
     "text": [
      "              precision    recall  f1-score   support\n",
      "\n",
      "           O       1.00      1.00      1.00    757766\n",
      "       B-DEP       1.00      1.00      1.00     91115\n",
      "       I-DEP       1.00      1.00      1.00     58593\n",
      "       B-ARR       1.00      1.00      1.00     93216\n",
      "       I-ARR       1.00      1.00      1.00     70169\n",
      "\n",
      "    accuracy                           1.00   1070859\n",
      "   macro avg       1.00      1.00      1.00   1070859\n",
      "weighted avg       1.00      1.00      1.00   1070859\n",
      "\n"
     ]
    }
   ],
   "source": [
    "from sklearn.metrics import classification_report\n",
    "\n",
    "print(classification_report(flat_y_true, flat_y_pred, labels=label_list))"
   ]
  },
  {
   "cell_type": "code",
   "execution_count": 39,
   "id": "77da64b4d3f078a",
   "metadata": {
    "collapsed": false,
    "jupyter": {
     "outputs_hidden": false
    }
   },
   "outputs": [
    {
     "name": "stdout",
     "output_type": "stream",
     "text": [
      "{'eval_loss': 2.1375422875280492e-05, 'eval_precision': 1.0, 'eval_recall': 1.0, 'eval_f1': 1.0, 'eval_accuracy': 1.0, 'eval_runtime': 88.7681, 'eval_samples_per_second': 488.711, 'eval_steps_per_second': 30.552, 'epoch': 3.0}\n"
     ]
    }
   ],
   "source": [
    "print(train_metrics)"
   ]
  },
  {
   "cell_type": "code",
   "execution_count": 40,
   "id": "d17ff2247d82c1c9",
   "metadata": {
    "collapsed": false,
    "jupyter": {
     "outputs_hidden": false
    }
   },
   "outputs": [
    {
     "data": {
      "image/png": "[encoded data removed]",
      "text/plain": [
       "<Figure size 2000x500 with 2 Axes>"
      ]
     },
     "metadata": {},
     "output_type": "display_data"
    },
    {
     "data": {
      "image/png": "[encoded data removed]",
      "text/plain": [
       "<Figure size 2000x500 with 2 Axes>"
      ]
     },
     "metadata": {},
     "output_type": "display_data"
    },
    {
     "data": {
      "image/png": "[encoded data removed]",
      "text/plain": [
       "<Figure size 2000x500 with 2 Axes>"
      ]
     },
     "metadata": {},
     "output_type": "display_data"
    }
   ],
   "source": [
    "import matplotlib.pyplot as plt\n",
    "\n",
    "metrics = {\n",
    "    'eval_accuracy': 'Accuracy',\n",
    "    'eval_loss': 'Loss',\n",
    "    'eval_f1': 'F1',\n",
    "}\n",
    "\n",
    "for metric, title in metrics.items():\n",
    "\n",
    "    points = []\n",
    "\n",
    "    for epoch in trainer.state.log_history:\n",
    "        if metric in epoch.keys():\n",
    "            points.append(epoch[metric])\n",
    "\n",
    "    plt.figure(figsize=(20, 5))\n",
    "    plt.subplot(1, 2, 1)\n",
    "    plt.plot(points)\n",
    "    plt.title(f\"{title} per epoch (min / max: {min(points):.2f} / {max(points):.2f})\")\n",
    "\n",
    "    plt.subplot(1, 2, 2)\n",
    "    plt.plot(points)\n",
    "    plt.ylim(0, 1)\n",
    "    plt.title(f\"{title} per epoch (between 0 and 1)\")\n",
    "\n",
    "    plt.show()\n"
   ]
  },
  {
   "cell_type": "code",
   "execution_count": 41,
   "id": "46f36e0bef37a8a5",
   "metadata": {
    "collapsed": false,
    "jupyter": {
     "outputs_hidden": false
    }
   },
   "outputs": [],
   "source": [
    "def gather_outputs(outputs: list) -> list:\n",
    "    # Group entities by their sequence\n",
    "    grouped_entities = []\n",
    "    current_group = []\n",
    "    for entity in outputs:\n",
    "        if not current_group or entity['start'] == current_group[-1]['end']:\n",
    "            current_group.append(entity)\n",
    "        else:\n",
    "            grouped_entities.append(current_group)\n",
    "            current_group = [entity]\n",
    "    \n",
    "    # Append the last group\n",
    "    if current_group:\n",
    "        grouped_entities.append(current_group)\n",
    "    \n",
    "    return grouped_entities\n",
    "\n",
    "def get_locations_from_outputs(sentence: str, outputs: list) -> list:\n",
    "    groups = gather_outputs(outputs)\n",
    "    groups = [{\"group\": group[0][\"entity_group\"], \"city\": sentence[group[0][\"start\"]:group[-1][\"end\"]] } for group in groups]\n",
    "    \n",
    "    # if there is more than one of the same entity group, return groups\n",
    "    if len(set([group[\"group\"] for group in groups])) != len(groups):\n",
    "        return groups\n",
    "    \n",
    "    return sorted(groups, key=lambda group: group[\"group\"], reverse=True)"
   ]
  },
  {
   "cell_type": "code",
   "execution_count": 42,
   "id": "105eba05962a6a9",
   "metadata": {
    "collapsed": false,
    "jupyter": {
     "outputs_hidden": false
    }
   },
   "outputs": [
    {
     "name": "stdout",
     "output_type": "stream",
     "text": [
      "[{'group': 'DEP', 'city': 'Port-Boulet'}, {'group': 'ARR', 'city': 'Le Havre'}]\n",
      "[{'group': 'DEP', 'city': 'Port-Boulet'}, {'group': 'ARR', 'city': 'Le Havre'}]\n",
      "[{'group': 'DEP', 'city': \"'Épierre\"}, {'group': 'ARR', 'city': 'Paris'}]\n",
      "[{'group': 'DEP', 'city': 'Margny-Lès-Compiègne'}, {'group': 'ARR', 'city': 'Saarbrücken'}, {'group': 'ARR', 'city': '/Sarrebruck'}]\n",
      "[{'group': 'DEP', 'city': 'Nantes'}, {'group': 'ARR', 'city': 'Saint-Étienne'}]\n",
      "[{'group': 'DEP', 'city': 'Marseille'}, {'group': 'ARR', 'city': 'Tours'}]\n",
      "[{'group': 'DEP', 'city': 'Lorient'}, {'group': 'ARR', 'city': 'Paris'}]\n",
      "[{'group': 'DEP', 'city': 'Oyonnax'}, {'group': 'ARR', 'city': 'Besançon'}]\n",
      "[{'group': 'DEP', 'city': 'Nantes'}, {'group': 'ARR', 'city': 'Toulouse'}]\n"
     ]
    }
   ],
   "source": [
    "from transformers import pipeline\n",
    "sentences = [\n",
    "    \"Je veux aller de Port-Boulet à Le Havre.\",\n",
    "    \"Je vais de Port-Boulet à Le Havre.\",\n",
    "    \"Peux-tu m'aider à trouver mon chemin vers Paris en partant d'Épierre ?\",\n",
    "    \"Je cherche un moyen d'aller de Margny-Lès-Compiègne à Saarbrücken /Sarrebruck.\",\n",
    "    \"Je veux me rendre chez mon ami Etienne à Saint-Étienne depuis Nantes.\",\n",
    "    \"Je veux aller de la ville de Marseille à Tours.\",\n",
    "    \"Recherche le chemin le plus court entre la ville de Lorient et Paris\",\n",
    "    \"Trouve un itinéraire pour aller à Besançon depuis la ville de Oyonnax.\",\n",
    "    \"Nantes à Toulouse\",\n",
    "]\n",
    "\n",
    "for sentence in sentences:\n",
    "    token_classifier = pipeline(\"token-classification\", model=\"models/distilbert-finetuned-token-classification-ner-trip\", aggregation_strategy=\"simple\")\n",
    "    outputs = token_classifier(sentence)\n",
    "    print(get_locations_from_outputs(sentence, outputs))"
   ]
  }
 ],
 "metadata": {
  "kernelspec": {
   "display_name": "Python 3 (ipykernel)",
   "language": "python",
   "name": "python3"
  },
  "language_info": {
   "codemirror_mode": {
    "name": "ipython",
    "version": 3
   },
   "file_extension": ".py",
   "mimetype": "text/x-python",
   "name": "python",
   "nbconvert_exporter": "python",
   "pygments_lexer": "ipython3",
   "version": "3.11.5"
  }
 },
 "nbformat": 4,
 "nbformat_minor": 5
}
