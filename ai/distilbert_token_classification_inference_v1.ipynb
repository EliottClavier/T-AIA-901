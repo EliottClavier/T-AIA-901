{
 "cells": [
  {
   "cell_type": "raw",
   "source": [],
   "metadata": {
    "collapsed": false
   },
   "id": "9eb9ac1bc5a11957"
  },
  {
   "cell_type": "code",
   "execution_count": 2,
   "outputs": [],
   "source": [
    "task = \"ner\" # Should be one of \"ner\", \"pos\" or \"chunk\"\n",
    "model_checkpoint = \"distilbert-base-uncased\""
   ],
   "metadata": {
    "collapsed": false,
    "ExecuteTime": {
     "end_time": "2023-12-29T13:29:14.209116500Z",
     "start_time": "2023-12-29T13:29:14.205609300Z"
    }
   },
   "id": "c3e967c6fbc9d66"
  },
  {
   "cell_type": "code",
   "execution_count": 3,
   "outputs": [],
   "source": [
    "from transformers import AutoTokenizer\n",
    "\n",
    "tokenizer = AutoTokenizer.from_pretrained(model_checkpoint)"
   ],
   "metadata": {
    "collapsed": false,
    "ExecuteTime": {
     "end_time": "2023-12-29T13:29:14.618418100Z",
     "start_time": "2023-12-29T13:29:14.209116500Z"
    }
   },
   "id": "3251956b3af18691"
  },
  {
   "cell_type": "code",
   "execution_count": 4,
   "outputs": [],
   "source": [
    "import transformers\n",
    "assert isinstance(tokenizer, transformers.PreTrainedTokenizerFast)"
   ],
   "metadata": {
    "collapsed": false,
    "ExecuteTime": {
     "end_time": "2023-12-29T13:29:14.622709600Z",
     "start_time": "2023-12-29T13:29:14.620202300Z"
    }
   },
   "id": "8794c736a502ef42"
  },
  {
   "cell_type": "code",
   "execution_count": 5,
   "id": "initial_id",
   "metadata": {
    "collapsed": true,
    "ExecuteTime": {
     "end_time": "2023-12-29T13:29:14.629831700Z",
     "start_time": "2023-12-29T13:29:14.623709400Z"
    }
   },
   "outputs": [],
   "source": [
    "def gather_outputs(outputs: list) -> list:\n",
    "    # Group entities by their sequence\n",
    "    grouped_entities = []\n",
    "    current_group = []\n",
    "    for entity in outputs:\n",
    "        if not current_group or entity['start'] == current_group[-1]['end']:\n",
    "            current_group.append(entity)\n",
    "        else:\n",
    "            grouped_entities.append(current_group)\n",
    "            current_group = [entity]\n",
    "\n",
    "    # Append the last group\n",
    "    if current_group:\n",
    "        grouped_entities.append(current_group)\n",
    "\n",
    "    return grouped_entities\n",
    "\n",
    "def get_locations_from_outputs(sentence: str, outputs: list) -> list:\n",
    "    groups = gather_outputs(outputs)\n",
    "    return [sentence[group[0][\"start\"]:group[-1][\"end\"]] for group in groups]"
   ]
  },
  {
   "cell_type": "code",
   "execution_count": 6,
   "outputs": [],
   "source": [
    "from transformers import pipeline\n",
    "\n",
    "sentence = \"Je veux aller de Port-Boulet à Le Havre.\"\n",
    "#sentence = \"Peux-tu m'aider à trouver mon chemin de Paris à Épierre ?\"\n",
    "\n",
    "token_classifier = pipeline(\"token-classification\", model=\"models/distilbert-finetuned-token-classification-ner-trip\", aggregation_strategy=\"simple\")\n",
    "outputs = token_classifier(sentence)"
   ],
   "metadata": {
    "collapsed": false,
    "ExecuteTime": {
     "end_time": "2023-12-29T13:29:14.738515200Z",
     "start_time": "2023-12-29T13:29:14.626600200Z"
    }
   },
   "id": "5e9b6d7775c712e3"
  },
  {
   "cell_type": "code",
   "execution_count": 7,
   "outputs": [
    {
     "data": {
      "text/plain": "['Port-Boulet', 'Le Havre']"
     },
     "execution_count": 7,
     "metadata": {},
     "output_type": "execute_result"
    }
   ],
   "source": [
    "get_locations_from_outputs(sentence, outputs)"
   ],
   "metadata": {
    "collapsed": false,
    "ExecuteTime": {
     "end_time": "2023-12-29T13:29:14.745048500Z",
     "start_time": "2023-12-29T13:29:14.737513400Z"
    }
   },
   "id": "d8fbb22ac31a0043"
  }
 ],
 "metadata": {
  "kernelspec": {
   "display_name": "Python 3",
   "language": "python",
   "name": "python3"
  },
  "language_info": {
   "codemirror_mode": {
    "name": "ipython",
    "version": 2
   },
   "file_extension": ".py",
   "mimetype": "text/x-python",
   "name": "python",
   "nbconvert_exporter": "python",
   "pygments_lexer": "ipython2",
   "version": "2.7.6"
  }
 },
 "nbformat": 4,
 "nbformat_minor": 5
}
